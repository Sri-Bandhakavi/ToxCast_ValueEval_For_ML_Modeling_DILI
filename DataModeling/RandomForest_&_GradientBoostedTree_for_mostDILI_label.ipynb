{
 "cells": [
  {
   "cell_type": "markdown",
   "metadata": {},
   "source": [
    "### Aim:\n",
    "\n",
    "In this notebook, two different tree-based ensemble models - Random Forest and Gradient boosting - will be used to evaluate what additive effect (if any) ToxCast targets provide *for predicting mostDILI drugs* - when compared to existing predictors currently used in the field (eg: Chen M et al., 2016 Hepatol, Shah F et al., 2015 Toxicol Sci).\n",
    "\n",
    "Relative performance of \"optimized\" random forest and gradient boosting models will be compared to choose \"best\" ensemble model for mostDILI predictions."
   ]
  },
  {
   "cell_type": "code",
   "execution_count": 85,
   "metadata": {},
   "outputs": [],
   "source": [
    "import pandas as pd\n",
    "import numpy as np\n",
    "import seaborn as sns\n",
    "\n",
    "from matplotlib import pyplot as plt\n",
    "plt.style.use('seaborn') \n",
    "\n",
    "%matplotlib inline\n",
    "\n",
    "import pandas_profiling"
   ]
  },
  {
   "cell_type": "code",
   "execution_count": 86,
   "metadata": {},
   "outputs": [],
   "source": [
    "#magic command to print all output instead of only last line\n",
    "from IPython.core.interactiveshell import InteractiveShell\n",
    "InteractiveShell.ast_node_interactivity = \"all\""
   ]
  },
  {
   "cell_type": "markdown",
   "metadata": {},
   "source": [
    "### Read-in datasets, prepare data for ML\n",
    "\n",
    "All datasets have been previously treated for missing values and dummy coding of categorical variables(reactive_metabolites, classificn, and ~216 toxcast targets).\n",
    "Output/target/Y variable for modeling purposes is \"classificn\" (1=\"mostDILI\", 0 = \"other\" which includes lessDILI/ambiDILI/noDILI). <br>\n",
    "\n",
    "In this notebook, same datasets previosuly used for logistic regression modeling will be imported. No EDA will be performed as the datasetts are identical to those previously used and EDA has already been done within the notebook using logistic regression as initial model.\n",
    "\n",
    "Data once imported will be transformed into feature dataset (\"X\") and label dataset (\"Y\") and further split using stratified sampling with call to test train split function. For allowing to compare results from logistic regression, same random state will be used as before."
   ]
  },
  {
   "cell_type": "code",
   "execution_count": 87,
   "metadata": {},
   "outputs": [],
   "source": [
    "mc = pd.read_csv(\"mc_scaled_labeled.csv\")\n",
    "tc = pd.read_csv(\"tc_pca_labeled.csv\")\n",
    "mc_tc=pd.read_csv(\"mctc_pca_labeled.csv\")"
   ]
  },
  {
   "cell_type": "code",
   "execution_count": 88,
   "metadata": {},
   "outputs": [],
   "source": [
    "#Create \"x\" consisting of all independent variables from each of the dataframes (mc, tc, mc_tc) to be used for modeling\n",
    "\n",
    "mc_num=mc.select_dtypes(include=[np.number])\n",
    "x_mc=mc_num.drop([\"classificn\"], axis=1)\n",
    "\n",
    "tc_num=tc.select_dtypes(include=[np.number])\n",
    "x_tc=tc_num.drop([\"classificn\"], axis=1)\n",
    "\n",
    "mc_tc_num=mc_tc.select_dtypes(include=[np.number])\n",
    "x_mc_tc=mc_tc_num.drop([\"classificn\"], axis=1)"
   ]
  },
  {
   "cell_type": "code",
   "execution_count": 89,
   "metadata": {},
   "outputs": [
    {
     "data": {
      "text/plain": [
       "True"
      ]
     },
     "execution_count": 89,
     "metadata": {},
     "output_type": "execute_result"
    },
    {
     "data": {
      "text/plain": [
       "True"
      ]
     },
     "execution_count": 89,
     "metadata": {},
     "output_type": "execute_result"
    },
    {
     "data": {
      "text/plain": [
       "True"
      ]
     },
     "execution_count": 89,
     "metadata": {},
     "output_type": "execute_result"
    },
    {
     "data": {
      "text/plain": [
       "0    115\n",
       "1     60\n",
       "Name: classificn, dtype: int64"
      ]
     },
     "execution_count": 89,
     "metadata": {},
     "output_type": "execute_result"
    }
   ],
   "source": [
    "#create \"y\" consisting of outcome/target variable from each of the dataframes (mc, tc, mc_tc) to be used for modeling\n",
    "\n",
    "y_mc=mc_num[\"classificn\"] \n",
    "y_tc=tc_num[\"classificn\"]\n",
    "y_mc_tc=mc_tc_num[\"classificn\"]\n",
    "\n",
    "#check to make sure all datasets are equivalent for classification column\n",
    "y_mc.equals(y_tc)\n",
    "y_mc.equals(y_mc_tc)\n",
    "y_tc.equals(y_mc_tc)\n",
    "\n",
    "#breakdown of mostDILI drugs vs other drugs\n",
    "y_mc.value_counts()#60 drugs are labeled as \"mostDILI\" and 115 drugs as \"other\""
   ]
  },
  {
   "cell_type": "code",
   "execution_count": 90,
   "metadata": {},
   "outputs": [
    {
     "data": {
      "text/plain": [
       "True"
      ]
     },
     "execution_count": 90,
     "metadata": {},
     "output_type": "execute_result"
    },
    {
     "data": {
      "text/plain": [
       "True"
      ]
     },
     "execution_count": 90,
     "metadata": {},
     "output_type": "execute_result"
    }
   ],
   "source": [
    "import sklearn\n",
    "from sklearn.model_selection import train_test_split\n",
    "from sklearn import metrics\n",
    "\n",
    "## test train stratified split at 40:60 ratio (maintains ratio of mostDILI drugs:other drugs)\n",
    "# allows for testing on 24 \"mostDILI\" and training on 36 \"mostDILI\" drugs\n",
    "train_mcx, test_mcx, train_mcy, test_mcy = train_test_split(x_mc,y_mc, stratify=y_mc, test_size=0.4, random_state=45)\n",
    "\n",
    "train_tcx, test_tcx, train_tcy, test_tcy = train_test_split(x_tc,y_tc, stratify=y_tc, test_size=0.4, random_state=45)\n",
    "\n",
    "train_mctcx, test_mctcx, train_mctcy, test_mctcy = train_test_split(x_mc_tc,y_mc_tc, stratify=y_mc_tc, test_size=0.4, random_state=45)\n",
    "\n",
    "#confirm that test datasets are same across all splits\n",
    "test_mctcy.equals(test_tcy)\n",
    "test_mcy.equals(test_tcy)"
   ]
  },
  {
   "cell_type": "markdown",
   "metadata": {},
   "source": [
    "### Random Forest modeling "
   ]
  },
  {
   "cell_type": "code",
   "execution_count": 91,
   "metadata": {},
   "outputs": [
    {
     "data": {
      "text/plain": [
       "RandomForestClassifier(bootstrap=True, class_weight='balanced',\n",
       "            criterion='gini', max_depth=None, max_features='auto',\n",
       "            max_leaf_nodes=None, min_impurity_decrease=0.0,\n",
       "            min_impurity_split=None, min_samples_leaf=1,\n",
       "            min_samples_split=2, min_weight_fraction_leaf=0.0,\n",
       "            n_estimators=500, n_jobs=1, oob_score=True, random_state=1,\n",
       "            verbose=0, warm_start=False)"
      ]
     },
     "execution_count": 91,
     "metadata": {},
     "output_type": "execute_result"
    },
    {
     "data": {
      "text/plain": [
       "RandomForestClassifier(bootstrap=True, class_weight='balanced',\n",
       "            criterion='gini', max_depth=None, max_features='auto',\n",
       "            max_leaf_nodes=None, min_impurity_decrease=0.0,\n",
       "            min_impurity_split=None, min_samples_leaf=1,\n",
       "            min_samples_split=2, min_weight_fraction_leaf=0.0,\n",
       "            n_estimators=500, n_jobs=1, oob_score=True, random_state=1,\n",
       "            verbose=0, warm_start=False)"
      ]
     },
     "execution_count": 91,
     "metadata": {},
     "output_type": "execute_result"
    },
    {
     "data": {
      "text/plain": [
       "RandomForestClassifier(bootstrap=True, class_weight='balanced',\n",
       "            criterion='gini', max_depth=None, max_features='auto',\n",
       "            max_leaf_nodes=None, min_impurity_decrease=0.0,\n",
       "            min_impurity_split=None, min_samples_leaf=1,\n",
       "            min_samples_split=2, min_weight_fraction_leaf=0.0,\n",
       "            n_estimators=500, n_jobs=1, oob_score=True, random_state=1,\n",
       "            verbose=0, warm_start=False)"
      ]
     },
     "execution_count": 91,
     "metadata": {},
     "output_type": "execute_result"
    }
   ],
   "source": [
    "# Initial model - Instantiate & Fit\n",
    "from sklearn.ensemble import RandomForestClassifier\n",
    "\n",
    "rf_mc = RandomForestClassifier(n_estimators = 500, random_state = 1, class_weight='balanced', oob_score = True)\n",
    "rf_tc = RandomForestClassifier(n_estimators = 500, random_state = 1, class_weight='balanced', oob_score=True)\n",
    "rf_mctc = RandomForestClassifier(n_estimators = 500, random_state = 1, class_weight='balanced', oob_score=True)\n",
    "\n",
    "rf_mc.fit(train_mcx, train_mcy)\n",
    "rf_tc.fit(train_tcx, train_tcy)\n",
    "rf_mctc.fit(train_mctcx, train_mctcy)"
   ]
  },
  {
   "cell_type": "markdown",
   "metadata": {},
   "source": [
    "#### Tune random forest model for each of the datasets"
   ]
  },
  {
   "cell_type": "code",
   "execution_count": 92,
   "metadata": {},
   "outputs": [],
   "source": [
    "from sklearn.grid_search import GridSearchCV\n",
    "\n",
    "grid_mc = GridSearchCV(estimator = rf_mc, cv=3, scoring='roc_auc',n_jobs=-1,\n",
    "                       param_grid={'n_estimators':[int(x) for x in np.linspace(start = 200, stop = 900, num = 10)],\n",
    "                                    'max_features' : ['auto', 'sqrt', 'log2'],\n",
    "                                    'criterion': ['gini', 'entropy']})\n",
    "\n",
    "grid_tc = GridSearchCV(estimator = rf_tc, cv=3, scoring='roc_auc',n_jobs=-1,\n",
    "                    param_grid={'n_estimators':[int(x) for x in np.linspace(start = 200, stop = 900, num = 10)],\n",
    "                                    'max_features' : ['auto', 'sqrt', 'log2'],\n",
    "                                    'criterion': ['gini', 'entropy']})\n",
    "\n",
    "grid_mctc= GridSearchCV(estimator = rf_mctc, cv=3, scoring='roc_auc',n_jobs=-1,\n",
    "                    param_grid={'n_estimators':[int(x) for x in np.linspace(start = 200, stop = 900, num = 10)],\n",
    "                                    'max_features' : ['auto', 'sqrt', 'log2'],\n",
    "                                    'criterion': ['gini', 'entropy']})"
   ]
  },
  {
   "cell_type": "code",
   "execution_count": 93,
   "metadata": {},
   "outputs": [],
   "source": [
    "#\"fit\" grid search models (commented out to avoid re-implementation)\n",
    "#grid_mc.fit(train_mcx,train_mcy)\n",
    "#grid_tc.fit(train_tcx, train_tcy)\n",
    "#grid_mctc.fit(train_mctcx, train_mctcy)"
   ]
  },
  {
   "cell_type": "code",
   "execution_count": 94,
   "metadata": {},
   "outputs": [
    {
     "name": "stdout",
     "output_type": "stream",
     "text": [
      "RF best params follow below - mc data \n",
      "\n",
      "RF best params follow below - tc data \n",
      "\n",
      "RF best params follow below - mctc data \n",
      "\n"
     ]
    }
   ],
   "source": [
    "print(\"RF best params follow below - mc data \")\n",
    "#grid_mc.best_params_\n",
    "print(\"\")\n",
    "\n",
    "print(\"RF best params follow below - tc data \")\n",
    "#grid_tc.best_params_\n",
    "print(\"\")\n",
    "\n",
    "print(\"RF best params follow below - mctc data \")\n",
    "#grid_mctc.best_params_\n",
    "print(\"\")"
   ]
  },
  {
   "cell_type": "markdown",
   "metadata": {},
   "source": [
    "#### Optimized random forest model for each dataset"
   ]
  },
  {
   "cell_type": "code",
   "execution_count": 95,
   "metadata": {},
   "outputs": [],
   "source": [
    "#Instantiate random forest models with optimal parameters\n",
    "rf_mc = RandomForestClassifier(criterion='entropy', n_estimators = 433, max_features='auto', random_state = 1, n_jobs=-1, class_weight='balanced', oob_score=True)\n",
    "rf_tc = RandomForestClassifier(criterion='entropy', n_estimators = 200, max_features='log2', random_state = 1, n_jobs=-1, class_weight='balanced', oob_score=True)\n",
    "rf_mctc = RandomForestClassifier(criterion='entropy', n_estimators = 744, max_features='auto', random_state = 1, n_jobs=-1, class_weight='balanced', oob_score=True)"
   ]
  },
  {
   "cell_type": "code",
   "execution_count": 96,
   "metadata": {},
   "outputs": [
    {
     "data": {
      "text/plain": [
       "RandomForestClassifier(bootstrap=True, class_weight='balanced',\n",
       "            criterion='entropy', max_depth=None, max_features='auto',\n",
       "            max_leaf_nodes=None, min_impurity_decrease=0.0,\n",
       "            min_impurity_split=None, min_samples_leaf=1,\n",
       "            min_samples_split=2, min_weight_fraction_leaf=0.0,\n",
       "            n_estimators=433, n_jobs=-1, oob_score=True, random_state=1,\n",
       "            verbose=0, warm_start=False)"
      ]
     },
     "execution_count": 96,
     "metadata": {},
     "output_type": "execute_result"
    },
    {
     "data": {
      "text/plain": [
       "RandomForestClassifier(bootstrap=True, class_weight='balanced',\n",
       "            criterion='entropy', max_depth=None, max_features='log2',\n",
       "            max_leaf_nodes=None, min_impurity_decrease=0.0,\n",
       "            min_impurity_split=None, min_samples_leaf=1,\n",
       "            min_samples_split=2, min_weight_fraction_leaf=0.0,\n",
       "            n_estimators=200, n_jobs=-1, oob_score=True, random_state=1,\n",
       "            verbose=0, warm_start=False)"
      ]
     },
     "execution_count": 96,
     "metadata": {},
     "output_type": "execute_result"
    },
    {
     "data": {
      "text/plain": [
       "RandomForestClassifier(bootstrap=True, class_weight='balanced',\n",
       "            criterion='entropy', max_depth=None, max_features='auto',\n",
       "            max_leaf_nodes=None, min_impurity_decrease=0.0,\n",
       "            min_impurity_split=None, min_samples_leaf=1,\n",
       "            min_samples_split=2, min_weight_fraction_leaf=0.0,\n",
       "            n_estimators=744, n_jobs=-1, oob_score=True, random_state=1,\n",
       "            verbose=0, warm_start=False)"
      ]
     },
     "execution_count": 96,
     "metadata": {},
     "output_type": "execute_result"
    }
   ],
   "source": [
    "#Fit data to optimal model parameters \n",
    "rf_mc.fit(train_mcx, train_mcy)\n",
    "rf_tc.fit(train_tcx, train_tcy)\n",
    "rf_mctc.fit(train_mctcx, train_mctcy)"
   ]
  },
  {
   "cell_type": "code",
   "execution_count": 97,
   "metadata": {},
   "outputs": [],
   "source": [
    "#Predict classification labels based on optimal model parameters\n",
    "\n",
    "### Using random forest model fitted using variables from Chen et al (mc), predict test values and probabilities  mc\n",
    "rf_pred_mcy=rf_mc.predict(test_mcx) \n",
    "rf_probs_mcy=rf_mc.predict_proba(test_mcx) \n",
    "\n",
    "### Using random forest model fitted using variables from ToxCast (tc), predict test values and probabilities  mc\n",
    "rf_pred_tcy=rf_tc.predict(test_tcx) \n",
    "rf_probs_tcy=rf_tc.predict_proba(test_tcx) \n",
    "\n",
    "### Using random forest model fitted using variables from Chen et al & ToxCast (mctc), predict test values and probabilities  mc\n",
    "rf_pred_mctcy=rf_mctc.predict(test_mctcx) \n",
    "rf_probs_mctcy=rf_mctc.predict_proba(test_mctcx)    "
   ]
  },
  {
   "cell_type": "markdown",
   "metadata": {},
   "source": [
    "#### Optimal random forest metrics for each dataset"
   ]
  },
  {
   "cell_type": "code",
   "execution_count": 98,
   "metadata": {},
   "outputs": [
    {
     "name": "stdout",
     "output_type": "stream",
     "text": [
      "Accuracy: 3-fold cross validation scores on random forest model using mc (Chen M et al., 2016 Hepatol) variables\n",
      "[0.77966102 0.70689655 0.70689655]\n",
      "Accuracy mean: 0.7311513734658095 Accuracy standard deviation: 0.03430149786001373\n",
      "\n",
      "Accuracy: 3-fold cross validation scores on random forest model using tc (ToxCast targets/pathways) variables\n",
      "[0.55932203 0.5        0.62068966]\n",
      "Accuracy mean: 0.5600038963569062 Accuracy standard deviation: 0.04927370440521242\n",
      "\n",
      "Accuracy: 3-fold cross validation scores on random forest model using combined mc and tc (Chen M et al, 2016 Hepatol and ToxCast) variables\n",
      "[0.66101695 0.55172414 0.60344828]\n",
      "Accuracy mean: 0.6053964543152153 Accuracy standard deviation: 0.0446398640651979\n"
     ]
    }
   ],
   "source": [
    "from sklearn.model_selection import cross_val_score\n",
    "\n",
    "rf_accuracy_scores_mc = cross_val_score(rf_mc, x_mc, y_mc, cv=3, scoring='accuracy')\n",
    "print(\"Accuracy: 3-fold cross validation scores on random forest model using mc (Chen M et al., 2016 Hepatol) variables\")\n",
    "print(rf_accuracy_scores_mc)\n",
    "print(\"Accuracy mean: \" +str(rf_accuracy_scores_mc.mean()), \"Accuracy standard deviation: \" + str(rf_accuracy_scores_mc.std()))\n",
    "print(\"\")\n",
    "\n",
    "rf_accuracy_scores_tc = cross_val_score(rf_tc, x_tc, y_tc, cv=3, scoring='accuracy')\n",
    "print(\"Accuracy: 3-fold cross validation scores on random forest model using tc (ToxCast targets/pathways) variables\")\n",
    "print(rf_accuracy_scores_tc)\n",
    "print(\"Accuracy mean: \" +str(rf_accuracy_scores_tc.mean()), \"Accuracy standard deviation: \" + str(rf_accuracy_scores_tc.std()))\n",
    "print(\"\")\n",
    "\n",
    "rf_accuracy_scores_mctc = cross_val_score(rf_mctc, x_mc_tc, y_mc_tc, cv=3, scoring='accuracy')\n",
    "print(\"Accuracy: 3-fold cross validation scores on random forest model using combined mc and tc (Chen M et al, 2016 Hepatol and ToxCast) variables\")\n",
    "print(rf_accuracy_scores_mctc)\n",
    "print(\"Accuracy mean: \" +str(rf_accuracy_scores_mctc.mean()), \"Accuracy standard deviation: \" + str(rf_accuracy_scores_mctc.std()))"
   ]
  },
  {
   "cell_type": "code",
   "execution_count": 99,
   "metadata": {},
   "outputs": [
    {
     "data": {
      "image/png": "[encoded data removed]",
      "text/plain": [
       "<Figure size 1152x144 with 6 Axes>"
      ]
     },
     "metadata": {},
     "output_type": "display_data"
    }
   ],
   "source": [
    "### Confusion Matrix\n",
    "rf_cfm_mc=metrics.confusion_matrix(test_mcy, rf_pred_mcy)\n",
    "rf_cfm_tc=metrics.confusion_matrix(test_tcy, rf_pred_tcy)\n",
    "rf_cfm_mctc=metrics.confusion_matrix(test_mctcy, rf_pred_mctcy)\n",
    "\n",
    "fig, (ax1, ax2, ax3) = plt.subplots(1,3, figsize=(16,2))\n",
    "\n",
    "lbl1=[\"Predicted 0\", \"Predicted 1\"]\n",
    "lbl2=[\"Actual 0\", \"Actual 1\"]\n",
    "\n",
    "sns.heatmap(rf_cfm_mc, annot=True, cmap=\"Blues\", fmt=\"d\", xticklabels=lbl1, yticklabels=lbl2, ax=ax1)\n",
    "sns.heatmap(rf_cfm_tc, annot=True, cmap=\"Blues\", fmt=\"d\", xticklabels=lbl1, yticklabels=lbl2, ax=ax2)\n",
    "sns.heatmap(rf_cfm_mctc, annot=True, cmap=\"Blues\", fmt=\"d\", xticklabels=lbl1, yticklabels=lbl2, ax=ax3)\n",
    "\n",
    "\n",
    "fig.suptitle(\"Confusion matrices for random forest model with mc variables alone (left), tc variables alone (middle), or mc and tc variables combined(right)\", y=1.1);"
   ]
  },
  {
   "cell_type": "code",
   "execution_count": 100,
   "metadata": {},
   "outputs": [
    {
     "name": "stdout",
     "output_type": "stream",
     "text": [
      "precision_recall for model with mc variables alone\n",
      "             precision    recall  f1-score   support\n",
      "\n",
      "          0       0.71      0.96      0.81        46\n",
      "          1       0.75      0.25      0.38        24\n",
      "\n",
      "avg / total       0.72      0.71      0.66        70\n",
      "\n",
      "precision_recall for model with tc variables alone\n",
      "             precision    recall  f1-score   support\n",
      "\n",
      "          0       0.65      0.80      0.72        46\n",
      "          1       0.31      0.17      0.22        24\n",
      "\n",
      "avg / total       0.53      0.59      0.55        70\n",
      "\n",
      "precision_recall for model with mc&tc variables combined\n",
      "             precision    recall  f1-score   support\n",
      "\n",
      "          0       0.72      0.96      0.82        46\n",
      "          1       0.78      0.29      0.42        24\n",
      "\n",
      "avg / total       0.74      0.73      0.69        70\n",
      "\n"
     ]
    }
   ],
   "source": [
    "### Precision, Recall\n",
    "rf_cr_mc=metrics.classification_report(test_mcy, rf_pred_mcy)\n",
    "rf_cr_tc=metrics.classification_report(test_tcy, rf_pred_tcy)\n",
    "rf_cr_mctc=metrics.classification_report(test_mctcy, rf_pred_mctcy)\n",
    "print(\"precision_recall for model with mc variables alone\")\n",
    "print(rf_cr_mc)\n",
    "print(\"precision_recall for model with tc variables alone\")\n",
    "print(rf_cr_tc)\n",
    "print(\"precision_recall for model with mc&tc variables combined\")\n",
    "print(rf_cr_mctc)"
   ]
  },
  {
   "cell_type": "markdown",
   "metadata": {},
   "source": [
    "**Conclusion:** Random forest performs poorly relative to logistic regression for prediction of \"mostDILI\" label. <br>\n",
    "\n",
    "Addition of toxcast variables has a very modest effect on model performance. Given the poor performance for Random foret relative to logistic regression - regardless of variables used - this algorithm will not be analyzed further for the problem at hand."
   ]
  },
  {
   "cell_type": "markdown",
   "metadata": {},
   "source": [
    "### Gradient Boosting Model"
   ]
  },
  {
   "cell_type": "code",
   "execution_count": 101,
   "metadata": {},
   "outputs": [
    {
     "data": {
      "text/plain": [
       "GradientBoostingClassifier(criterion='friedman_mse', init=None,\n",
       "              learning_rate=0.1, loss='deviance', max_depth=3,\n",
       "              max_features=None, max_leaf_nodes=None,\n",
       "              min_impurity_decrease=0.0, min_impurity_split=None,\n",
       "              min_samples_leaf=1, min_samples_split=2,\n",
       "              min_weight_fraction_leaf=0.0, n_estimators=80,\n",
       "              presort='auto', random_state=400, subsample=1.0, verbose=0,\n",
       "              warm_start=False)"
      ]
     },
     "execution_count": 101,
     "metadata": {},
     "output_type": "execute_result"
    },
    {
     "data": {
      "text/plain": [
       "GradientBoostingClassifier(criterion='friedman_mse', init=None,\n",
       "              learning_rate=0.1, loss='deviance', max_depth=3,\n",
       "              max_features=None, max_leaf_nodes=None,\n",
       "              min_impurity_decrease=0.0, min_impurity_split=None,\n",
       "              min_samples_leaf=1, min_samples_split=2,\n",
       "              min_weight_fraction_leaf=0.0, n_estimators=80,\n",
       "              presort='auto', random_state=400, subsample=1.0, verbose=0,\n",
       "              warm_start=False)"
      ]
     },
     "execution_count": 101,
     "metadata": {},
     "output_type": "execute_result"
    },
    {
     "data": {
      "text/plain": [
       "GradientBoostingClassifier(criterion='friedman_mse', init=None,\n",
       "              learning_rate=0.1, loss='deviance', max_depth=3,\n",
       "              max_features=None, max_leaf_nodes=None,\n",
       "              min_impurity_decrease=0.0, min_impurity_split=None,\n",
       "              min_samples_leaf=1, min_samples_split=2,\n",
       "              min_weight_fraction_leaf=0.0, n_estimators=80,\n",
       "              presort='auto', random_state=400, subsample=1.0, verbose=0,\n",
       "              warm_start=False)"
      ]
     },
     "execution_count": 101,
     "metadata": {},
     "output_type": "execute_result"
    }
   ],
   "source": [
    "#Instantiate and Fit\n",
    "from sklearn.ensemble import GradientBoostingClassifier\n",
    "\n",
    "gb_mc=GradientBoostingClassifier(n_estimators=80,random_state=400)\n",
    "gb_tc=GradientBoostingClassifier(n_estimators=80,random_state=400)\n",
    "gb_mctc=GradientBoostingClassifier(n_estimators=80,random_state=400)\n",
    "\n",
    "gb_mc.fit(train_mcx, train_mcy)\n",
    "gb_tc.fit(train_tcx, train_tcy)\n",
    "gb_mctc.fit(train_mctcx, train_mctcy)"
   ]
  },
  {
   "cell_type": "markdown",
   "metadata": {},
   "source": [
    "#### Tune gradient boosted model for each of the datasets"
   ]
  },
  {
   "cell_type": "code",
   "execution_count": 102,
   "metadata": {},
   "outputs": [],
   "source": [
    "from sklearn.grid_search import GridSearchCV\n",
    "# Grid search for n_estimators(trees) with 3-fold cross validation \n",
    "grid_mc = GridSearchCV(estimator = gb_mc, cv=3, scoring='roc_auc',n_jobs=-1,\n",
    "                        param_grid={'n_estimators':[40, 60,80,100,120,140, 160],\n",
    "                                    'max_depth':[2, 3, 4, 5,6],\n",
    "                                   'learning_rate':[0.05, 0.02, 0.01, 0.005, 0.1, 0.2]})\n",
    "\n",
    "grid_tc = GridSearchCV(estimator = gb_tc, cv=3, scoring='roc_auc',n_jobs=-1,\n",
    "                       param_grid={'n_estimators':[40, 60,80,100,120,140, 160],\n",
    "                                    'max_depth':[2, 3, 4, 5,6],\n",
    "                                   'learning_rate':[0.05, 0.02, 0.01, 0.005, 0.1, 0.2]})\n",
    "\n",
    "grid_mctc = GridSearchCV(estimator = gb_mctc, cv=3, scoring='roc_auc',n_jobs=-1,\n",
    "                        param_grid={'n_estimators':[40, 60,80,100,120,140, 160],\n",
    "                                    'max_depth':[2, 3, 4, 5,6],\n",
    "                                   'learning_rate':[0.05, 0.02, 0.01, 0.005, 0.1, 0.2]})"
   ]
  },
  {
   "cell_type": "code",
   "execution_count": 103,
   "metadata": {},
   "outputs": [],
   "source": [
    "#\"fit\" grid search models (commented out to avoid re-implementation)\n",
    "#grid_mc.fit(train_mcx,train_mcy)\n",
    "#grid_tc.fit(train_tcx, train_tcy)\n",
    "#grid_mctc.fit(train_mctcx, train_mctcy)"
   ]
  },
  {
   "cell_type": "code",
   "execution_count": 104,
   "metadata": {},
   "outputs": [
    {
     "name": "stdout",
     "output_type": "stream",
     "text": [
      "gb best params follow below - mc data \n",
      "\n",
      "gb best params follow below - tc data \n",
      "\n",
      "gb best params follow below - mctc data \n",
      "\n"
     ]
    }
   ],
   "source": [
    "print(\"gb best params follow below - mc data \")\n",
    "#grid_mc.best_params_\n",
    "print(\"\")\n",
    "\n",
    "print(\"gb best params follow below - tc data \")\n",
    "#grid_tc.best_params_\n",
    "print(\"\")\n",
    "\n",
    "print(\"gb best params follow below - mctc data \")\n",
    "#grid_mctc.best_params_\n",
    "print(\"\")"
   ]
  },
  {
   "cell_type": "markdown",
   "metadata": {},
   "source": [
    "#### Optimized gradient boosted tree model for each dataset"
   ]
  },
  {
   "cell_type": "code",
   "execution_count": 105,
   "metadata": {},
   "outputs": [],
   "source": [
    "#Instantiate random forest models with optimal parameters\n",
    "gb_mc = GradientBoostingClassifier(n_estimators = 60, max_depth=2, learning_rate = .01, random_state = 1)\n",
    "gb_tc = GradientBoostingClassifier(n_estimators = 60, max_depth=5, learning_rate=.01, random_state = 1)\n",
    "gb_mctc = GradientBoostingClassifier(n_estimators = 100, max_depth=2,learning_rate=.005,  random_state = 1)"
   ]
  },
  {
   "cell_type": "code",
   "execution_count": 106,
   "metadata": {},
   "outputs": [
    {
     "data": {
      "text/plain": [
       "GradientBoostingClassifier(criterion='friedman_mse', init=None,\n",
       "              learning_rate=0.01, loss='deviance', max_depth=2,\n",
       "              max_features=None, max_leaf_nodes=None,\n",
       "              min_impurity_decrease=0.0, min_impurity_split=None,\n",
       "              min_samples_leaf=1, min_samples_split=2,\n",
       "              min_weight_fraction_leaf=0.0, n_estimators=60,\n",
       "              presort='auto', random_state=1, subsample=1.0, verbose=0,\n",
       "              warm_start=False)"
      ]
     },
     "execution_count": 106,
     "metadata": {},
     "output_type": "execute_result"
    },
    {
     "data": {
      "text/plain": [
       "GradientBoostingClassifier(criterion='friedman_mse', init=None,\n",
       "              learning_rate=0.01, loss='deviance', max_depth=5,\n",
       "              max_features=None, max_leaf_nodes=None,\n",
       "              min_impurity_decrease=0.0, min_impurity_split=None,\n",
       "              min_samples_leaf=1, min_samples_split=2,\n",
       "              min_weight_fraction_leaf=0.0, n_estimators=60,\n",
       "              presort='auto', random_state=1, subsample=1.0, verbose=0,\n",
       "              warm_start=False)"
      ]
     },
     "execution_count": 106,
     "metadata": {},
     "output_type": "execute_result"
    },
    {
     "data": {
      "text/plain": [
       "GradientBoostingClassifier(criterion='friedman_mse', init=None,\n",
       "              learning_rate=0.005, loss='deviance', max_depth=2,\n",
       "              max_features=None, max_leaf_nodes=None,\n",
       "              min_impurity_decrease=0.0, min_impurity_split=None,\n",
       "              min_samples_leaf=1, min_samples_split=2,\n",
       "              min_weight_fraction_leaf=0.0, n_estimators=100,\n",
       "              presort='auto', random_state=1, subsample=1.0, verbose=0,\n",
       "              warm_start=False)"
      ]
     },
     "execution_count": 106,
     "metadata": {},
     "output_type": "execute_result"
    }
   ],
   "source": [
    "#Fit data to optimal model parameters\n",
    "gb_mc.fit(train_mcx, train_mcy)\n",
    "gb_tc.fit(train_tcx, train_tcy)\n",
    "gb_mctc.fit(train_mctcx, train_mctcy)"
   ]
  },
  {
   "cell_type": "code",
   "execution_count": 107,
   "metadata": {},
   "outputs": [],
   "source": [
    "#Predict classification labels based on optimal model parameters\n",
    "\n",
    "### Using random forest model fitted using variables from Chen et al (mc), predict test values and probabilities  mc\n",
    "gb_pred_mcy=gb_mc.predict(test_mcx) \n",
    "gb_probs_mcy=gb_mc.predict_proba(test_mcx) \n",
    "\n",
    "### Using random forest model fitted using variables from ToxCast (tc), predict test values and probabilities  mc\n",
    "gb_pred_tcy=gb_tc.predict(test_tcx) \n",
    "gb_probs_tcy=gb_tc.predict_proba(test_tcx) \n",
    "\n",
    "### Using random forest model fitted using variables from Chen et al & ToxCast (mctc), predict test values and probabilities  mc\n",
    "gb_pred_mctcy=gb_mctc.predict(test_mctcx) \n",
    "gb_probs_mctcy=gb_mctc.predict_proba(test_mctcx)    "
   ]
  },
  {
   "cell_type": "markdown",
   "metadata": {},
   "source": [
    "#### Optimal Gradient Boosted model metrics for each dataset"
   ]
  },
  {
   "cell_type": "code",
   "execution_count": 108,
   "metadata": {},
   "outputs": [
    {
     "name": "stdout",
     "output_type": "stream",
     "text": [
      "Accuracy: 3-fold cross validation scores on gradient boosted model using mc (Chen M et al., 2016 Hepatol) variables\n",
      "[0.71186441 0.65517241 0.67241379]\n",
      "Accuracy mean: 0.6798168712254044 Accuracy standard deviation: 0.023729021492071838\n",
      "\n",
      "Accuracy: 3-fold cross validation scores on gradient boosted model using tc (ToxCast targets/pathways) variables\n",
      "[0.66101695 0.53448276 0.5862069 ]\n",
      "Accuracy mean: 0.5939022014416521 Accuracy standard deviation: 0.05194316529566726\n",
      "\n",
      "Accuracy: 3-fold cross validation scores on gradient boosted model using combined mc and tc (Chen M et al, 2016 Hepatol and ToxCast) variables\n",
      "[0.6440678  0.62068966 0.5862069 ]\n",
      "Accuracy mean: 0.6169881161114358 Accuracy standard deviation: 0.02376618020715305\n"
     ]
    }
   ],
   "source": [
    "from sklearn.model_selection import cross_val_score\n",
    "\n",
    "gb_accuracy_scores_mc = cross_val_score(gb_mc, x_mc, y_mc, cv=3, scoring='accuracy')\n",
    "print(\"Accuracy: 3-fold cross validation scores on gradient boosted model using mc (Chen M et al., 2016 Hepatol) variables\")\n",
    "print(gb_accuracy_scores_mc)\n",
    "print(\"Accuracy mean: \" +str(gb_accuracy_scores_mc.mean()), \"Accuracy standard deviation: \" + str(gb_accuracy_scores_mc.std()))\n",
    "print(\"\")\n",
    "\n",
    "gb_accuracy_scores_tc = cross_val_score(gb_tc, x_tc, y_tc, cv=3, scoring='accuracy')\n",
    "print(\"Accuracy: 3-fold cross validation scores on gradient boosted model using tc (ToxCast targets/pathways) variables\")\n",
    "print(gb_accuracy_scores_tc)\n",
    "print(\"Accuracy mean: \" +str(gb_accuracy_scores_tc.mean()), \"Accuracy standard deviation: \" + str(gb_accuracy_scores_tc.std()))\n",
    "print(\"\")\n",
    "\n",
    "gb_accuracy_scores_mctc = cross_val_score(gb_mctc, x_mc_tc, y_mc_tc, cv=3, scoring='accuracy')\n",
    "print(\"Accuracy: 3-fold cross validation scores on gradient boosted model using combined mc and tc (Chen M et al, 2016 Hepatol and ToxCast) variables\")\n",
    "print(gb_accuracy_scores_mctc)\n",
    "print(\"Accuracy mean: \" +str(gb_accuracy_scores_mctc.mean()), \"Accuracy standard deviation: \" + str(gb_accuracy_scores_mctc.std()))"
   ]
  },
  {
   "cell_type": "code",
   "execution_count": 109,
   "metadata": {},
   "outputs": [
    {
     "data": {
      "image/png": "[encoded data removed]",
      "text/plain": [
       "<Figure size 1152x144 with 6 Axes>"
      ]
     },
     "metadata": {},
     "output_type": "display_data"
    }
   ],
   "source": [
    "### Confusion Matrix\n",
    "gb_cfm_mc=metrics.confusion_matrix(test_mcy, gb_pred_mcy)\n",
    "gb_cfm_tc=metrics.confusion_matrix(test_tcy, gb_pred_tcy)\n",
    "gb_cfm_mctc=metrics.confusion_matrix(test_mctcy, gb_pred_mctcy)\n",
    "\n",
    "fig, (ax1, ax2, ax3) = plt.subplots(1,3, figsize=(16,2))\n",
    "\n",
    "lbl1=[\"Predicted 0\", \"Predicted 1\"]\n",
    "lbl2=[\"Actual 0\", \"Actual 1\"]\n",
    "\n",
    "sns.heatmap(gb_cfm_mc, annot=True, cmap=\"Blues\", fmt=\"d\", xticklabels=lbl1, yticklabels=lbl2, ax=ax1)\n",
    "sns.heatmap(gb_cfm_tc, annot=True, cmap=\"Blues\", fmt=\"d\", xticklabels=lbl1, yticklabels=lbl2, ax=ax2)\n",
    "sns.heatmap(gb_cfm_mctc, annot=True, cmap=\"Blues\", fmt=\"d\", xticklabels=lbl1, yticklabels=lbl2, ax=ax3)\n",
    "\n",
    "\n",
    "fig.suptitle(\"Confusion matrices for gradient boosted model with mc variables alone (left), tc variables alone (middle), or mc and tc variables combined(right)\", y=1.1);"
   ]
  },
  {
   "cell_type": "code",
   "execution_count": 110,
   "metadata": {},
   "outputs": [
    {
     "name": "stdout",
     "output_type": "stream",
     "text": [
      "precision_recall for model with mc variables alone\n",
      "             precision    recall  f1-score   support\n",
      "\n",
      "          0       0.65      0.98      0.78        46\n",
      "          1       0.00      0.00      0.00        24\n",
      "\n",
      "avg / total       0.43      0.64      0.51        70\n",
      "\n",
      "precision_recall for model with tc variables alone\n",
      "             precision    recall  f1-score   support\n",
      "\n",
      "          0       0.69      0.78      0.73        46\n",
      "          1       0.44      0.33      0.38        24\n",
      "\n",
      "avg / total       0.61      0.63      0.61        70\n",
      "\n",
      "precision_recall for model with mc&tc variables combined\n",
      "             precision    recall  f1-score   support\n",
      "\n",
      "          0       0.66      1.00      0.79        46\n",
      "          1       0.00      0.00      0.00        24\n",
      "\n",
      "avg / total       0.43      0.66      0.52        70\n",
      "\n"
     ]
    },
    {
     "name": "stderr",
     "output_type": "stream",
     "text": [
      "C:\\Users\\Sri Bandhakavi\\Anaconda3\\lib\\site-packages\\sklearn\\metrics\\classification.py:1135: UndefinedMetricWarning: Precision and F-score are ill-defined and being set to 0.0 in labels with no predicted samples.\n",
      "  'precision', 'predicted', average, warn_for)\n"
     ]
    }
   ],
   "source": [
    "### Precision, Recall\n",
    "gb_cr_mc=metrics.classification_report(test_mcy, gb_pred_mcy)\n",
    "gb_cr_tc=metrics.classification_report(test_tcy, gb_pred_tcy)\n",
    "gb_cr_mctc=metrics.classification_report(test_mctcy, gb_pred_mctcy)\n",
    "print(\"precision_recall for model with mc variables alone\")\n",
    "print(gb_cr_mc)\n",
    "print(\"precision_recall for model with tc variables alone\")\n",
    "print(gb_cr_tc)\n",
    "print(\"precision_recall for model with mc&tc variables combined\")\n",
    "print(gb_cr_mctc)"
   ]
  },
  {
   "cell_type": "code",
   "execution_count": 111,
   "metadata": {},
   "outputs": [],
   "source": [
    "#calculate values to populate ROC curve\n",
    "from sklearn.metrics import roc_curve\n",
    "\n",
    "gb_fpr_mc,gb_tpr_mc, gb_thresholds_mc=roc_curve(test_mcy, gb_probs_mcy[:, 1])\n",
    "gb_roc_auc_mc=metrics.auc(gb_fpr_mc, gb_tpr_mc)\n",
    "\n",
    "gb_fpr_tc,gb_tpr_tc, gb_thresholds_tc=roc_curve(test_tcy, gb_probs_tcy[:, 1])\n",
    "gb_roc_auc_tc=metrics.auc(gb_fpr_tc, gb_tpr_tc)\n",
    "\n",
    "gb_fpr_mctc,gb_tpr_mctc, gb_thresholds_mctc=roc_curve(test_mctcy, gb_probs_mctcy[:, 1])\n",
    "gb_roc_auc_mctc=metrics.auc(gb_fpr_mctc, gb_tpr_mctc)\n",
    "\n",
    "#Calculate values to populate precision-recall curve\n",
    "from sklearn.metrics import precision_recall_curve\n",
    "\n",
    "gb_precision_mc, gb_recall_mc, gb_thresholds_mc = precision_recall_curve(test_mcy, gb_probs_mcy[:, 1]) #retrieve probability of being 1(in second column of probs_y)\n",
    "gb_pr_auc_mc = metrics.auc(gb_recall_mc, gb_precision_mc)\n",
    "\n",
    "gb_precision_tc, gb_recall_tc, gb_thresholds_tc = precision_recall_curve(test_tcy, gb_probs_tcy[:, 1]) #retrieve probability of being 1(in second column of probs_y)\n",
    "gb_pr_auc_tc = metrics.auc(gb_recall_tc, gb_precision_tc)\n",
    "\n",
    "gb_precision_mctc, gb_recall_mctc, gb_thresholds_mctc = precision_recall_curve(test_mctcy, gb_probs_mctcy[:, 1]) #retrieve probability of being 1(in second column of probs_y)\n",
    "gb_pr_auc_mctc = metrics.auc(gb_recall_mctc, gb_precision_mctc)"
   ]
  },
  {
   "cell_type": "code",
   "execution_count": 112,
   "metadata": {},
   "outputs": [
    {
     "data": {
      "image/png": "[encoded data removed]",
      "text/plain": [
       "<Figure size 1152x288 with 2 Axes>"
      ]
     },
     "metadata": {},
     "output_type": "display_data"
    }
   ],
   "source": [
    "fig = plt.figure()\n",
    "fig.set_figheight(4)\n",
    "fig.set_figwidth(16)\n",
    "\n",
    "axes = fig.add_subplot(121)\n",
    "\n",
    "plt.title(\"ROC chart\")\n",
    "plt.plot(gb_fpr_mc, gb_tpr_mc, 'r', label='gb_AUC_mc =%0.2f'% gb_roc_auc_mc)\n",
    "plt.plot(gb_fpr_tc, gb_tpr_tc, 'g', label='gb_AUC_tc =%0.2f'% gb_roc_auc_tc)\n",
    "plt.plot(gb_fpr_mctc, gb_tpr_mctc, 'b', label='gb_AUC_mctc =%0.2f'% gb_roc_auc_mctc)\n",
    "plt.legend(loc='lower right')\n",
    "plt.plot([0,1], [0,1], 'o--')\n",
    "plt.axis([0,1, 0,1])\n",
    "plt.ylabel(\"True Positive Rate\")\n",
    "plt.xlabel(\"False Positive Rate\")\n",
    "\n",
    "\n",
    "axes = fig.add_subplot(122)\n",
    "plt.title(\"Precision versus Recall chart\")\n",
    "plt.plot(gb_recall_mc, gb_precision_mc, \"r\", label = 'gb_pr_auc_mc=%.1f' % (gb_pr_auc_mc))\n",
    "plt.plot(gb_recall_tc, gb_precision_tc, \"g\", label = 'gb_pr_auc_tc=%.1f' % (gb_pr_auc_tc))\n",
    "plt.plot(gb_recall_mctc, gb_precision_mctc, \"b\", label = 'gb_pr_auc_mctc=%.1f' % (gb_pr_auc_mctc))\n",
    "plt.legend(loc='lower left')\n",
    "plt.ylabel(\"Precision\")\n",
    "plt.xlabel(\"Recall\")\n",
    "plt.show();"
   ]
  },
  {
   "cell_type": "markdown",
   "metadata": {},
   "source": [
    "**Conclusion:** No benefit for using ensemble models with default variables currently in Chen M et al., 2016. Addition of ToxCast variables did not add any benefit to either model - and their performance is worse- than in a simple logistic regression.\n",
    "\n",
    "No need to consider ensemble models further."
   ]
  }
 ],
 "metadata": {
  "kernelspec": {
   "display_name": "Python 3",
   "language": "python",
   "name": "python3"
  },
  "language_info": {
   "codemirror_mode": {
    "name": "ipython",
    "version": 3
   },
   "file_extension": ".py",
   "mimetype": "text/x-python",
   "name": "python",
   "nbconvert_exporter": "python",
   "pygments_lexer": "ipython3",
   "version": "3.6.4"
  }
 },
 "nbformat": 4,
 "nbformat_minor": 2
}
