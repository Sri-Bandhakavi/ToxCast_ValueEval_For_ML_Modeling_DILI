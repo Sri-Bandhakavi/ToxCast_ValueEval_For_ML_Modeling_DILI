{
 "cells": [
  {
   "cell_type": "markdown",
   "metadata": {},
   "source": [
    "### Aim:\n",
    "    \n",
    "Drop duplicate \"entries\" of a target/pathway for each drug by retaining only the first iteration of it with the highest NAS score.\n"
   ]
  },
  {
   "cell_type": "code",
   "execution_count": 1,
   "metadata": {},
   "outputs": [],
   "source": [
    "import pandas as pd\n",
    "import numpy as np\n",
    "import matplotlib.pyplot as plt\n",
    "%matplotlib inline"
   ]
  },
  {
   "cell_type": "code",
   "execution_count": 2,
   "metadata": {},
   "outputs": [
    {
     "data": {
      "text/html": [
       "<div>\n",
       "<style scoped>\n",
       "    .dataframe tbody tr th:only-of-type {\n",
       "        vertical-align: middle;\n",
       "    }\n",
       "\n",
       "    .dataframe tbody tr th {\n",
       "        vertical-align: top;\n",
       "    }\n",
       "\n",
       "    .dataframe thead th {\n",
       "        text-align: right;\n",
       "    }\n",
       "</style>\n",
       "<table border=\"1\" class=\"dataframe\">\n",
       "  <thead>\n",
       "    <tr style=\"text-align: right;\">\n",
       "      <th></th>\n",
       "      <th>Classification</th>\n",
       "      <th>chnm</th>\n",
       "      <th>tgt_abbr</th>\n",
       "      <th>testname</th>\n",
       "      <th>NAS</th>\n",
       "    </tr>\n",
       "  </thead>\n",
       "  <tbody>\n",
       "    <tr>\n",
       "      <th>0</th>\n",
       "      <td>MostDILI Drugs</td>\n",
       "      <td>abacavir</td>\n",
       "      <td>AHR</td>\n",
       "      <td>TOX21_AhR_LUC_Agonist_Row256</td>\n",
       "      <td>0.307311</td>\n",
       "    </tr>\n",
       "    <tr>\n",
       "      <th>1</th>\n",
       "      <td>MostDILI Drugs</td>\n",
       "      <td>abacavir</td>\n",
       "      <td>ESR1</td>\n",
       "      <td>TOX21_ERa_LUC_BG1_Agonist_Row253</td>\n",
       "      <td>0.800209</td>\n",
       "    </tr>\n",
       "    <tr>\n",
       "      <th>2</th>\n",
       "      <td>MostDILI Drugs</td>\n",
       "      <td>acetaminophen</td>\n",
       "      <td>CD40</td>\n",
       "      <td>BSK_LPS_CD40_down_Row64</td>\n",
       "      <td>0.999917</td>\n",
       "    </tr>\n",
       "    <tr>\n",
       "      <th>3</th>\n",
       "      <td>MostDILI Drugs</td>\n",
       "      <td>acetaminophen</td>\n",
       "      <td>F3</td>\n",
       "      <td>BSK_LPS_TissueFactor_down_Row147</td>\n",
       "      <td>0.999924</td>\n",
       "    </tr>\n",
       "    <tr>\n",
       "      <th>4</th>\n",
       "      <td>MostDILI Drugs</td>\n",
       "      <td>acetaminophen</td>\n",
       "      <td>PGR</td>\n",
       "      <td>NVS_NR_hPR_Row590</td>\n",
       "      <td>0.891443</td>\n",
       "    </tr>\n",
       "  </tbody>\n",
       "</table>\n",
       "</div>"
      ],
      "text/plain": [
       "   Classification           chnm tgt_abbr                          testname  \\\n",
       "0  MostDILI Drugs       abacavir      AHR      TOX21_AhR_LUC_Agonist_Row256   \n",
       "1  MostDILI Drugs       abacavir     ESR1  TOX21_ERa_LUC_BG1_Agonist_Row253   \n",
       "2  MostDILI Drugs  acetaminophen     CD40           BSK_LPS_CD40_down_Row64   \n",
       "3  MostDILI Drugs  acetaminophen       F3  BSK_LPS_TissueFactor_down_Row147   \n",
       "4  MostDILI Drugs  acetaminophen      PGR                 NVS_NR_hPR_Row590   \n",
       "\n",
       "        NAS  \n",
       "0  0.307311  \n",
       "1  0.800209  \n",
       "2  0.999917  \n",
       "3  0.999924  \n",
       "4  0.891443  "
      ]
     },
     "execution_count": 2,
     "metadata": {},
     "output_type": "execute_result"
    }
   ],
   "source": [
    "#import mndt_sorted dataframe (all targets/tests sorted by NAS per each drug)\n",
    "mndts=pd.read_csv(\"mndt_sorted.csv\") # read in csv file\n",
    "mndts.head()"
   ]
  },
  {
   "cell_type": "code",
   "execution_count": 3,
   "metadata": {},
   "outputs": [],
   "source": [
    "#Drop duplicates of each target  for each drug based on NAS (choose only first row of each target/drug)\n",
    "\n",
    "mndt_sl=mndts.drop_duplicates(subset=['tgt_abbr', 'chnm'])\n",
    "\n",
    "mndt_sl.shape\n",
    "\n",
    "mndt_sl.to_csv('mndt_sl.csv', index=False)"
   ]
  },
  {
   "cell_type": "code",
   "execution_count": null,
   "metadata": {},
   "outputs": [],
   "source": []
  }
 ],
 "metadata": {
  "kernelspec": {
   "display_name": "Python 3",
   "language": "python",
   "name": "python3"
  },
  "language_info": {
   "codemirror_mode": {
    "name": "ipython",
    "version": 3
   },
   "file_extension": ".py",
   "mimetype": "text/x-python",
   "name": "python",
   "nbconvert_exporter": "python",
   "pygments_lexer": "ipython3",
   "version": "3.6.4"
  }
 },
 "nbformat": 4,
 "nbformat_minor": 2
}
