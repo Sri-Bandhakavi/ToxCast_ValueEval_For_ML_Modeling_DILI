{
 "cells": [
  {
   "cell_type": "markdown",
   "metadata": {},
   "source": [
    "### Aim:\n",
    "\n",
    "In this notebook, KNN algorithm will be used to evaluate what additive effect (if any) ToxCast targets provide *for predicting mostDILI drugs* - when compared to existing predictors currently used in the field (eg: Chen M et al., 2016 Hepatol, Shah F et al., 2015 Toxicol Sci).\n",
    "\n",
    "As before, same test/train data is used for this modeling to allow for comparison of model performance against alternative algorithms employed in separate notebooks."
   ]
  },
  {
   "cell_type": "code",
   "execution_count": 68,
   "metadata": {},
   "outputs": [],
   "source": [
    "import pandas as pd\n",
    "import numpy as np\n",
    "import seaborn as sns\n",
    "\n",
    "from matplotlib import pyplot as plt\n",
    "plt.style.use('seaborn') \n",
    "\n",
    "%matplotlib inline\n",
    "\n",
    "import pandas_profiling"
   ]
  },
  {
   "cell_type": "code",
   "execution_count": 69,
   "metadata": {},
   "outputs": [],
   "source": [
    "#magic command to print all output instead of only last line\n",
    "from IPython.core.interactiveshell import InteractiveShell\n",
    "InteractiveShell.ast_node_interactivity = \"all\""
   ]
  },
  {
   "cell_type": "markdown",
   "metadata": {},
   "source": [
    "### Read-in datasets, prepare data for ML\n",
    "\n",
    "All datasets have been previously treated for missing values and dummy coding of categorical variables(reactive_metabolites, classificn, and ~216 toxcast targets).\n",
    "Output/target/Y variable for modeling purposes is \"classificn\" (1=\"mostDILI\", 0 = \"other\" which includes lessDILI/ambiDILI/noDILI). <br>\n",
    "\n",
    "In this notebook, same datasets previosuly used for logistic regression modeling will be imported. No EDA will be performed as the datasetts are identical to those previously used and EDA has already been done within the notebook using logistic regression as initial model.\n",
    "\n",
    "Data once imported will be transformed into feature dataset (\"X\") and label dataset (\"Y\") and further split using stratified sampling with call to test train split function. For allowing to compare results from logistic regression, same random state will be used as before."
   ]
  },
  {
   "cell_type": "code",
   "execution_count": 70,
   "metadata": {},
   "outputs": [],
   "source": [
    "mc = pd.read_csv(\"mc_scaled_labeled.csv\")\n",
    "tc = pd.read_csv(\"tc_pca_labeled.csv\")\n",
    "mc_tc=pd.read_csv(\"mctc_pca_labeled.csv\")"
   ]
  },
  {
   "cell_type": "code",
   "execution_count": 71,
   "metadata": {},
   "outputs": [],
   "source": [
    "#Create \"x\" consisting of all independent variables from each of the dataframes (mc, tc, mc_tc) to be used for modeling\n",
    "\n",
    "mc_num=mc.select_dtypes(include=[np.number])\n",
    "x_mc=mc_num.drop([\"classificn\"], axis=1)\n",
    "\n",
    "tc_num=tc.select_dtypes(include=[np.number])\n",
    "x_tc=tc_num.drop([\"classificn\"], axis=1)\n",
    "\n",
    "mc_tc_num=mc_tc.select_dtypes(include=[np.number])\n",
    "x_mc_tc=mc_tc_num.drop([\"classificn\"], axis=1)"
   ]
  },
  {
   "cell_type": "code",
   "execution_count": 72,
   "metadata": {},
   "outputs": [
    {
     "data": {
      "text/plain": [
       "True"
      ]
     },
     "execution_count": 72,
     "metadata": {},
     "output_type": "execute_result"
    },
    {
     "data": {
      "text/plain": [
       "True"
      ]
     },
     "execution_count": 72,
     "metadata": {},
     "output_type": "execute_result"
    },
    {
     "data": {
      "text/plain": [
       "True"
      ]
     },
     "execution_count": 72,
     "metadata": {},
     "output_type": "execute_result"
    },
    {
     "data": {
      "text/plain": [
       "0    115\n",
       "1     60\n",
       "Name: classificn, dtype: int64"
      ]
     },
     "execution_count": 72,
     "metadata": {},
     "output_type": "execute_result"
    }
   ],
   "source": [
    "#create \"y\" consisting of outcome/target variable from each of the dataframes (mc, tc, mc_tc) to be used for modeling\n",
    "\n",
    "y_mc=mc_num[\"classificn\"] \n",
    "y_tc=tc_num[\"classificn\"]\n",
    "y_mc_tc=mc_tc_num[\"classificn\"]\n",
    "\n",
    "#check to make sure all datasets are equivalent for classification column\n",
    "y_mc.equals(y_tc)\n",
    "y_mc.equals(y_mc_tc)\n",
    "y_tc.equals(y_mc_tc)\n",
    "\n",
    "#breakdown of mostDILI drugs vs other drugs\n",
    "y_mc.value_counts()#60 drugs are labeled as \"mostDILI\" and 115 drugs as \"other\""
   ]
  },
  {
   "cell_type": "code",
   "execution_count": 73,
   "metadata": {},
   "outputs": [
    {
     "data": {
      "text/plain": [
       "True"
      ]
     },
     "execution_count": 73,
     "metadata": {},
     "output_type": "execute_result"
    },
    {
     "data": {
      "text/plain": [
       "True"
      ]
     },
     "execution_count": 73,
     "metadata": {},
     "output_type": "execute_result"
    },
    {
     "data": {
      "text/plain": [
       "0    69\n",
       "1    36\n",
       "Name: classificn, dtype: int64"
      ]
     },
     "execution_count": 73,
     "metadata": {},
     "output_type": "execute_result"
    }
   ],
   "source": [
    "import sklearn\n",
    "from sklearn.model_selection import train_test_split\n",
    "from sklearn import metrics\n",
    "\n",
    "## test train stratified split at 40:60 ratio (maintains ratio of mostDILI drugs:other drugs)\n",
    "# allows for testing on 24 \"mostDILI\" and training on 36 \"mostDILI\" drugs\n",
    "train_mcx, test_mcx, train_mcy, test_mcy = train_test_split(x_mc,y_mc, stratify=y_mc, test_size=0.4, random_state=45)\n",
    "\n",
    "train_tcx, test_tcx, train_tcy, test_tcy = train_test_split(x_tc,y_tc, stratify=y_tc, test_size=0.4, random_state=45)\n",
    "\n",
    "train_mctcx, test_mctcx, train_mctcy, test_mctcy = train_test_split(x_mc_tc,y_mc_tc, stratify=y_mc_tc, test_size=0.4, random_state=45)\n",
    "\n",
    "#confirm that test datasets are same across all splits\n",
    "test_mctcy.equals(test_tcy)\n",
    "test_mcy.equals(test_tcy)\n",
    "\n",
    "#train data distribution of 1's vs 0's\n",
    "train_mcy.value_counts()"
   ]
  },
  {
   "cell_type": "code",
   "execution_count": 74,
   "metadata": {},
   "outputs": [
    {
     "data": {
      "text/html": [
       "<div>\n",
       "<style scoped>\n",
       "    .dataframe tbody tr th:only-of-type {\n",
       "        vertical-align: middle;\n",
       "    }\n",
       "\n",
       "    .dataframe tbody tr th {\n",
       "        vertical-align: top;\n",
       "    }\n",
       "\n",
       "    .dataframe thead th {\n",
       "        text-align: right;\n",
       "    }\n",
       "</style>\n",
       "<table border=\"1\" class=\"dataframe\">\n",
       "  <thead>\n",
       "    <tr style=\"text-align: right;\">\n",
       "      <th></th>\n",
       "      <th>cmax</th>\n",
       "      <th>mol_wt</th>\n",
       "      <th>dailydose</th>\n",
       "      <th>logP</th>\n",
       "      <th>reactive_metabolites</th>\n",
       "    </tr>\n",
       "  </thead>\n",
       "  <tbody>\n",
       "    <tr>\n",
       "      <th>66</th>\n",
       "      <td>-0.224248</td>\n",
       "      <td>1.708272</td>\n",
       "      <td>-0.541564</td>\n",
       "      <td>-0.728675</td>\n",
       "      <td>1.017292</td>\n",
       "    </tr>\n",
       "    <tr>\n",
       "      <th>55</th>\n",
       "      <td>-0.403543</td>\n",
       "      <td>-1.344926</td>\n",
       "      <td>-0.076238</td>\n",
       "      <td>-1.437584</td>\n",
       "      <td>1.017292</td>\n",
       "    </tr>\n",
       "    <tr>\n",
       "      <th>67</th>\n",
       "      <td>-0.403591</td>\n",
       "      <td>-0.340526</td>\n",
       "      <td>-0.628813</td>\n",
       "      <td>0.662220</td>\n",
       "      <td>1.017292</td>\n",
       "    </tr>\n",
       "    <tr>\n",
       "      <th>77</th>\n",
       "      <td>-0.403564</td>\n",
       "      <td>0.676282</td>\n",
       "      <td>-0.657431</td>\n",
       "      <td>-2.119571</td>\n",
       "      <td>-0.983002</td>\n",
       "    </tr>\n",
       "    <tr>\n",
       "      <th>121</th>\n",
       "      <td>-0.340790</td>\n",
       "      <td>-0.748993</td>\n",
       "      <td>-0.425233</td>\n",
       "      <td>-1.208759</td>\n",
       "      <td>1.017292</td>\n",
       "    </tr>\n",
       "  </tbody>\n",
       "</table>\n",
       "</div>"
      ],
      "text/plain": [
       "         cmax    mol_wt  dailydose      logP  reactive_metabolites\n",
       "66  -0.224248  1.708272  -0.541564 -0.728675              1.017292\n",
       "55  -0.403543 -1.344926  -0.076238 -1.437584              1.017292\n",
       "67  -0.403591 -0.340526  -0.628813  0.662220              1.017292\n",
       "77  -0.403564  0.676282  -0.657431 -2.119571             -0.983002\n",
       "121 -0.340790 -0.748993  -0.425233 -1.208759              1.017292"
      ]
     },
     "execution_count": 74,
     "metadata": {},
     "output_type": "execute_result"
    },
    {
     "data": {
      "text/html": [
       "<div>\n",
       "<style scoped>\n",
       "    .dataframe tbody tr th:only-of-type {\n",
       "        vertical-align: middle;\n",
       "    }\n",
       "\n",
       "    .dataframe tbody tr th {\n",
       "        vertical-align: top;\n",
       "    }\n",
       "\n",
       "    .dataframe thead th {\n",
       "        text-align: right;\n",
       "    }\n",
       "</style>\n",
       "<table border=\"1\" class=\"dataframe\">\n",
       "  <thead>\n",
       "    <tr style=\"text-align: right;\">\n",
       "      <th></th>\n",
       "      <th>cmax</th>\n",
       "      <th>mol_wt</th>\n",
       "      <th>dailydose</th>\n",
       "      <th>logP</th>\n",
       "      <th>reactive_metabolites</th>\n",
       "    </tr>\n",
       "  </thead>\n",
       "  <tbody>\n",
       "    <tr>\n",
       "      <th>0</th>\n",
       "      <td>-0.246513</td>\n",
       "      <td>-0.411151</td>\n",
       "      <td>0.040093</td>\n",
       "      <td>-0.459470</td>\n",
       "      <td>1.017292</td>\n",
       "    </tr>\n",
       "    <tr>\n",
       "      <th>1</th>\n",
       "      <td>0.997393</td>\n",
       "      <td>-1.359063</td>\n",
       "      <td>2.832049</td>\n",
       "      <td>-0.791490</td>\n",
       "      <td>1.017292</td>\n",
       "    </tr>\n",
       "    <tr>\n",
       "      <th>2</th>\n",
       "      <td>-0.390792</td>\n",
       "      <td>-0.129961</td>\n",
       "      <td>-0.617180</td>\n",
       "      <td>1.873645</td>\n",
       "      <td>-0.983002</td>\n",
       "    </tr>\n",
       "    <tr>\n",
       "      <th>3</th>\n",
       "      <td>-0.394776</td>\n",
       "      <td>-0.558426</td>\n",
       "      <td>-0.192570</td>\n",
       "      <td>0.213544</td>\n",
       "      <td>1.017292</td>\n",
       "    </tr>\n",
       "    <tr>\n",
       "      <th>4</th>\n",
       "      <td>5.952769</td>\n",
       "      <td>-0.829645</td>\n",
       "      <td>0.796248</td>\n",
       "      <td>0.294306</td>\n",
       "      <td>1.017292</td>\n",
       "    </tr>\n",
       "  </tbody>\n",
       "</table>\n",
       "</div>"
      ],
      "text/plain": [
       "       cmax    mol_wt  dailydose      logP  reactive_metabolites\n",
       "0 -0.246513 -0.411151   0.040093 -0.459470              1.017292\n",
       "1  0.997393 -1.359063   2.832049 -0.791490              1.017292\n",
       "2 -0.390792 -0.129961  -0.617180  1.873645             -0.983002\n",
       "3 -0.394776 -0.558426  -0.192570  0.213544              1.017292\n",
       "4  5.952769 -0.829645   0.796248  0.294306              1.017292"
      ]
     },
     "execution_count": 74,
     "metadata": {},
     "output_type": "execute_result"
    }
   ],
   "source": [
    "train_mcx.head()\n",
    "x_mc.head()"
   ]
  },
  {
   "cell_type": "markdown",
   "metadata": {},
   "source": [
    "### KNN - initial model"
   ]
  },
  {
   "cell_type": "code",
   "execution_count": 75,
   "metadata": {},
   "outputs": [],
   "source": [
    "# Instantiate and Fit\n",
    "from sklearn.neighbors import KNeighborsClassifier\n",
    "\n",
    "knn_mc = KNeighborsClassifier(n_neighbors=11) #start with n_neighbors(k) ~sqrt(number of rows in train data)\n",
    "knn_tc = KNeighborsClassifier(n_neighbors=11)\n",
    "knn_mctc = KNeighborsClassifier(n_neighbors=11)\n",
    "\n",
    "\n",
    "knn_mc = knn_mc.fit(train_mcx, train_mcy)\n",
    "knn_tc = knn_tc.fit(train_tcx, train_tcy)\n",
    "knn_mctc = knn_mctc.fit(train_mctcx, train_mctcy)"
   ]
  },
  {
   "cell_type": "markdown",
   "metadata": {},
   "source": [
    "#### Tune knn model for each of the datasets"
   ]
  },
  {
   "cell_type": "code",
   "execution_count": 76,
   "metadata": {},
   "outputs": [],
   "source": [
    "# define the parameter values that should be searched\n",
    "k_range = list(range(5, 50))\n",
    "# Another parameter besides k that we might vary is the weights parameters\n",
    "# default options --> uniform (all points in the neighborhood are weighted equally)\n",
    "# another option --> distance (weights closer neighbors more heavily than further neighbors)\n",
    "# we create a list\n",
    "weight_options = ['uniform', 'distance']"
   ]
  },
  {
   "cell_type": "code",
   "execution_count": 77,
   "metadata": {},
   "outputs": [],
   "source": [
    "# create a parameter grid: map the parameter names to the values that should be searched\n",
    "# dictionary = dict(key=values, key=values)\n",
    "param_grid = dict(n_neighbors=k_range, weights=weight_options)\n",
    "#print(param_grid)\n"
   ]
  },
  {
   "cell_type": "code",
   "execution_count": 78,
   "metadata": {},
   "outputs": [],
   "source": [
    "from sklearn.grid_search import GridSearchCV\n",
    "\n",
    "grid_mc = GridSearchCV(estimator = knn_mc, cv=3, \n",
    "                    param_grid = dict(n_neighbors=k_range, weights=weight_options))\n",
    "\n",
    "grid_tc = GridSearchCV(estimator = knn_tc, cv=3, \n",
    "                    param_grid = dict(n_neighbors=k_range, weights=weight_options))\n",
    "\n",
    "grid_mctc= GridSearchCV(estimator = knn_mctc, cv=3, \n",
    "                    param_grid = dict(n_neighbors=k_range, weights=weight_options))\n"
   ]
  },
  {
   "cell_type": "code",
   "execution_count": 87,
   "metadata": {},
   "outputs": [
    {
     "data": {
      "text/plain": [
       "GridSearchCV(cv=3, error_score='raise',\n",
       "       estimator=KNeighborsClassifier(algorithm='auto', leaf_size=30, metric='minkowski',\n",
       "           metric_params=None, n_jobs=1, n_neighbors=11, p=2,\n",
       "           weights='uniform'),\n",
       "       fit_params={}, iid=True, n_jobs=1,\n",
       "       param_grid={'n_neighbors': [5, 6, 7, 8, 9, 10, 11, 12, 13, 14, 15, 16, 17, 18, 19, 20, 21, 22, 23, 24, 25, 26, 27, 28, 29, 30, 31, 32, 33, 34, 35, 36, 37, 38, 39, 40, 41, 42, 43, 44, 45, 46, 47, 48, 49], 'weights': ['uniform', 'distance']},\n",
       "       pre_dispatch='2*n_jobs', refit=True, scoring=None, verbose=0)"
      ]
     },
     "execution_count": 87,
     "metadata": {},
     "output_type": "execute_result"
    },
    {
     "data": {
      "text/plain": [
       "GridSearchCV(cv=3, error_score='raise',\n",
       "       estimator=KNeighborsClassifier(algorithm='auto', leaf_size=30, metric='minkowski',\n",
       "           metric_params=None, n_jobs=1, n_neighbors=11, p=2,\n",
       "           weights='uniform'),\n",
       "       fit_params={}, iid=True, n_jobs=1,\n",
       "       param_grid={'n_neighbors': [5, 6, 7, 8, 9, 10, 11, 12, 13, 14, 15, 16, 17, 18, 19, 20, 21, 22, 23, 24, 25, 26, 27, 28, 29, 30, 31, 32, 33, 34, 35, 36, 37, 38, 39, 40, 41, 42, 43, 44, 45, 46, 47, 48, 49], 'weights': ['uniform', 'distance']},\n",
       "       pre_dispatch='2*n_jobs', refit=True, scoring=None, verbose=0)"
      ]
     },
     "execution_count": 87,
     "metadata": {},
     "output_type": "execute_result"
    },
    {
     "data": {
      "text/plain": [
       "GridSearchCV(cv=3, error_score='raise',\n",
       "       estimator=KNeighborsClassifier(algorithm='auto', leaf_size=30, metric='minkowski',\n",
       "           metric_params=None, n_jobs=1, n_neighbors=11, p=2,\n",
       "           weights='uniform'),\n",
       "       fit_params={}, iid=True, n_jobs=1,\n",
       "       param_grid={'n_neighbors': [5, 6, 7, 8, 9, 10, 11, 12, 13, 14, 15, 16, 17, 18, 19, 20, 21, 22, 23, 24, 25, 26, 27, 28, 29, 30, 31, 32, 33, 34, 35, 36, 37, 38, 39, 40, 41, 42, 43, 44, 45, 46, 47, 48, 49], 'weights': ['uniform', 'distance']},\n",
       "       pre_dispatch='2*n_jobs', refit=True, scoring=None, verbose=0)"
      ]
     },
     "execution_count": 87,
     "metadata": {},
     "output_type": "execute_result"
    }
   ],
   "source": [
    "#\"fit\" grid search models (commented out to avoid re-execution)\n",
    "grid_mc.fit(train_mcx,train_mcy)\n",
    "grid_tc.fit(train_tcx, train_tcy)\n",
    "grid_mctc.fit(train_mctcx, train_mctcy)"
   ]
  },
  {
   "cell_type": "code",
   "execution_count": 89,
   "metadata": {},
   "outputs": [
    {
     "name": "stdout",
     "output_type": "stream",
     "text": [
      "knn best params follow below - mc data \n"
     ]
    },
    {
     "data": {
      "text/plain": [
       "{'n_neighbors': 36, 'weights': 'uniform'}"
      ]
     },
     "execution_count": 89,
     "metadata": {},
     "output_type": "execute_result"
    },
    {
     "name": "stdout",
     "output_type": "stream",
     "text": [
      "\n",
      "knn best params follow below - tc data \n"
     ]
    },
    {
     "data": {
      "text/plain": [
       "{'n_neighbors': 5, 'weights': 'uniform'}"
      ]
     },
     "execution_count": 89,
     "metadata": {},
     "output_type": "execute_result"
    },
    {
     "name": "stdout",
     "output_type": "stream",
     "text": [
      "\n",
      "knn best params follow below - mctc data \n"
     ]
    },
    {
     "data": {
      "text/plain": [
       "{'n_neighbors': 13, 'weights': 'uniform'}"
      ]
     },
     "execution_count": 89,
     "metadata": {},
     "output_type": "execute_result"
    },
    {
     "name": "stdout",
     "output_type": "stream",
     "text": [
      "\n"
     ]
    }
   ],
   "source": [
    "print(\"knn best params follow below - mc data \")\n",
    "grid_mc.best_params_\n",
    "print(\"\")\n",
    "\n",
    "print(\"knn best params follow below - tc data \")\n",
    "grid_tc.best_params_\n",
    "print(\"\")\n",
    "\n",
    "print(\"knn best params follow below - mctc data \")\n",
    "grid_mctc.best_params_\n",
    "print(\"\")"
   ]
  },
  {
   "cell_type": "markdown",
   "metadata": {},
   "source": [
    "#### Optimized knn model for each dataset"
   ]
  },
  {
   "cell_type": "code",
   "execution_count": 90,
   "metadata": {},
   "outputs": [],
   "source": [
    "#Instantiate knn models with optimal parameters\n",
    "knn_mc = KNeighborsClassifier(n_neighbors=36, weights='uniform')\n",
    "knn_tc = KNeighborsClassifier(n_neighbors=5, weights='uniform')\n",
    "knn_mctc = KNeighborsClassifier(n_neighbors=13, weights='uniform')"
   ]
  },
  {
   "cell_type": "code",
   "execution_count": 91,
   "metadata": {},
   "outputs": [
    {
     "data": {
      "text/plain": [
       "KNeighborsClassifier(algorithm='auto', leaf_size=30, metric='minkowski',\n",
       "           metric_params=None, n_jobs=1, n_neighbors=36, p=2,\n",
       "           weights='uniform')"
      ]
     },
     "execution_count": 91,
     "metadata": {},
     "output_type": "execute_result"
    },
    {
     "data": {
      "text/plain": [
       "KNeighborsClassifier(algorithm='auto', leaf_size=30, metric='minkowski',\n",
       "           metric_params=None, n_jobs=1, n_neighbors=5, p=2,\n",
       "           weights='uniform')"
      ]
     },
     "execution_count": 91,
     "metadata": {},
     "output_type": "execute_result"
    },
    {
     "data": {
      "text/plain": [
       "KNeighborsClassifier(algorithm='auto', leaf_size=30, metric='minkowski',\n",
       "           metric_params=None, n_jobs=1, n_neighbors=13, p=2,\n",
       "           weights='uniform')"
      ]
     },
     "execution_count": 91,
     "metadata": {},
     "output_type": "execute_result"
    }
   ],
   "source": [
    "#Fit data to optimal model parameters\n",
    "knn_mc.fit(train_mcx, train_mcy)\n",
    "knn_tc.fit(train_tcx, train_tcy)\n",
    "knn_mctc.fit(train_mctcx, train_mctcy)"
   ]
  },
  {
   "cell_type": "code",
   "execution_count": 92,
   "metadata": {},
   "outputs": [],
   "source": [
    "#Predict classification labels based on optimal model parameters\n",
    "\n",
    "### Using knn model fitted using variables from Chen et al (mc), predict test values and probabilities  mc\n",
    "knn_pred_mcy=knn_mc.predict(test_mcx) \n",
    "knn_probs_mcy=knn_mc.predict_proba(test_mcx) \n",
    "\n",
    "### Using knn model fitted using variables from ToxCast (tc), predict test values and probabilities  mc\n",
    "knn_pred_tcy=knn_tc.predict(test_tcx) \n",
    "knn_probs_tcy=knn_tc.predict_proba(test_tcx) \n",
    "\n",
    "### Using knn model fitted using variables from Chen et al & ToxCast (mctc), predict test values and probabilities  mc\n",
    "knn_pred_mctcy=knn_mctc.predict(test_mctcx) \n",
    "knn_probs_mctcy=knn_mctc.predict_proba(test_mctcx)    "
   ]
  },
  {
   "cell_type": "markdown",
   "metadata": {},
   "source": [
    "#### Optimal knn models' metrics (for each dataset)"
   ]
  },
  {
   "cell_type": "code",
   "execution_count": 93,
   "metadata": {},
   "outputs": [
    {
     "name": "stdout",
     "output_type": "stream",
     "text": [
      "Accuracy: 3-fold cross validation scores on knn model using mc (Chen M et al., 2016 Hepatol) variables\n",
      "[0.6779661  0.65517241 0.65517241]\n",
      "Accuracy mean: 0.662770309760374 Accuracy standard deviation: 0.010745047522413927\n",
      "\n",
      "Accuracy: 3-fold cross validation scores on knn model using tc (ToxCast targets/pathways) variables\n",
      "[0.62711864 0.68965517 0.60344828]\n",
      "Accuracy mean: 0.6400740307812196 Accuracy standard deviation: 0.036366548612157955\n",
      "\n",
      "Accuracy: 3-fold cross validation scores on knn model using combined mc and tc (Chen M et al, 2016 Hepatol and ToxCast) variables\n",
      "[0.66101695 0.65517241 0.67241379]\n",
      "Accuracy mean: 0.6628677186830313 Accuracy standard deviation: 0.00715939015196298\n"
     ]
    }
   ],
   "source": [
    "from sklearn.model_selection import cross_val_score\n",
    "\n",
    "knn_accuracy_scores_mc = cross_val_score(knn_mc, x_mc, y_mc, cv=3, scoring='accuracy')\n",
    "print(\"Accuracy: 3-fold cross validation scores on knn model using mc (Chen M et al., 2016 Hepatol) variables\")\n",
    "print(knn_accuracy_scores_mc)\n",
    "print(\"Accuracy mean: \" +str(knn_accuracy_scores_mc.mean()), \"Accuracy standard deviation: \" + str(knn_accuracy_scores_mc.std()))\n",
    "print(\"\")\n",
    "\n",
    "knn_accuracy_scores_tc = cross_val_score(knn_tc, x_tc, y_tc, cv=3, scoring='accuracy')\n",
    "print(\"Accuracy: 3-fold cross validation scores on knn model using tc (ToxCast targets/pathways) variables\")\n",
    "print(knn_accuracy_scores_tc)\n",
    "print(\"Accuracy mean: \" +str(knn_accuracy_scores_tc.mean()), \"Accuracy standard deviation: \" + str(knn_accuracy_scores_tc.std()))\n",
    "print(\"\")\n",
    "\n",
    "knn_accuracy_scores_mctc = cross_val_score(knn_mctc, x_mc_tc, y_mc_tc, cv=3, scoring='accuracy')\n",
    "print(\"Accuracy: 3-fold cross validation scores on knn model using combined mc and tc (Chen M et al, 2016 Hepatol and ToxCast) variables\")\n",
    "print(knn_accuracy_scores_mctc)\n",
    "print(\"Accuracy mean: \" +str(knn_accuracy_scores_mctc.mean()), \"Accuracy standard deviation: \" + str(knn_accuracy_scores_mctc.std()))"
   ]
  },
  {
   "cell_type": "code",
   "execution_count": 94,
   "metadata": {},
   "outputs": [
    {
     "data": {
      "image/png": "[encoded data removed]",
      "text/plain": [
       "<Figure size 1152x144 with 6 Axes>"
      ]
     },
     "metadata": {},
     "output_type": "display_data"
    }
   ],
   "source": [
    "### Confusion Matrix\n",
    "knn_cfm_mc=metrics.confusion_matrix(test_mcy, knn_pred_mcy)\n",
    "knn_cfm_tc=metrics.confusion_matrix(test_tcy, knn_pred_tcy)\n",
    "knn_cfm_mctc=metrics.confusion_matrix(test_mctcy, knn_pred_mctcy)\n",
    "\n",
    "fig, (ax1, ax2, ax3) = plt.subplots(1,3, figsize=(16,2))\n",
    "\n",
    "lbl1=[\"Predicted 0\", \"Predicted 1\"]\n",
    "lbl2=[\"Actual 0\", \"Actual 1\"]\n",
    "\n",
    "sns.heatmap(knn_cfm_mc, annot=True, cmap=\"Blues\", fmt=\"d\", xticklabels=lbl1, yticklabels=lbl2, ax=ax1)\n",
    "sns.heatmap(knn_cfm_tc, annot=True, cmap=\"Blues\", fmt=\"d\", xticklabels=lbl1, yticklabels=lbl2, ax=ax2)\n",
    "sns.heatmap(knn_cfm_mctc, annot=True, cmap=\"Blues\", fmt=\"d\", xticklabels=lbl1, yticklabels=lbl2, ax=ax3)\n",
    "\n",
    "\n",
    "fig.suptitle(\"Confusion matrices for lnn model with mc variables alone (left), tc variables alone (middle), or mc and tc variables combined(right)\", y=1.1);"
   ]
  },
  {
   "cell_type": "code",
   "execution_count": 95,
   "metadata": {},
   "outputs": [
    {
     "name": "stdout",
     "output_type": "stream",
     "text": [
      "precision_recall for model with mc variables alone\n",
      "             precision    recall  f1-score   support\n",
      "\n",
      "          0       0.66      1.00      0.79        46\n",
      "          1       0.00      0.00      0.00        24\n",
      "\n",
      "avg / total       0.43      0.66      0.52        70\n",
      "\n",
      "precision_recall for model with tc variables alone\n",
      "             precision    recall  f1-score   support\n",
      "\n",
      "          0       0.67      0.74      0.70        46\n",
      "          1       0.37      0.29      0.33        24\n",
      "\n",
      "avg / total       0.56      0.59      0.57        70\n",
      "\n",
      "precision_recall for model with mc&tc variables combined\n",
      "             precision    recall  f1-score   support\n",
      "\n",
      "          0       0.68      0.93      0.79        46\n",
      "          1       0.57      0.17      0.26        24\n",
      "\n",
      "avg / total       0.64      0.67      0.61        70\n",
      "\n"
     ]
    },
    {
     "name": "stderr",
     "output_type": "stream",
     "text": [
      "C:\\Users\\Sri Bandhakavi\\Anaconda3\\lib\\site-packages\\sklearn\\metrics\\classification.py:1135: UndefinedMetricWarning: Precision and F-score are ill-defined and being set to 0.0 in labels with no predicted samples.\n",
      "  'precision', 'predicted', average, warn_for)\n"
     ]
    }
   ],
   "source": [
    "### Precision, Recall\n",
    "knn_cr_mc=metrics.classification_report(test_mcy, knn_pred_mcy)\n",
    "knn_cr_tc=metrics.classification_report(test_tcy, knn_pred_tcy)\n",
    "knn_cr_mctc=metrics.classification_report(test_mctcy, knn_pred_mctcy)\n",
    "print(\"precision_recall for model with mc variables alone\")\n",
    "print(knn_cr_mc)\n",
    "print(\"precision_recall for model with tc variables alone\")\n",
    "print(knn_cr_tc)\n",
    "print(\"precision_recall for model with mc&tc variables combined\")\n",
    "print(knn_cr_mctc)"
   ]
  },
  {
   "cell_type": "markdown",
   "metadata": {},
   "source": [
    "**Conclusion:** KNN performs poorly relative to logistic regression for prediction of \"mostDILI\" label specifically, even though it performs excellent for prediction of \"other\" (i.e., non-mostDILI) drug classificaiton. <br>\n",
    "\n",
    "Addition of toxcast variables as a modest benefit to model performance; however lgistic regression and SVM outperform knn in this scenario as well. KNN will not be considered further for mostDILI modeling with current datasets."
   ]
  },
  {
   "cell_type": "code",
   "execution_count": null,
   "metadata": {},
   "outputs": [],
   "source": []
  }
 ],
 "metadata": {
  "kernelspec": {
   "display_name": "Python 3",
   "language": "python",
   "name": "python3"
  },
  "language_info": {
   "codemirror_mode": {
    "name": "ipython",
    "version": 3
   },
   "file_extension": ".py",
   "mimetype": "text/x-python",
   "name": "python",
   "nbconvert_exporter": "python",
   "pygments_lexer": "ipython3",
   "version": "3.6.4"
  }
 },
 "nbformat": 4,
 "nbformat_minor": 2
}
