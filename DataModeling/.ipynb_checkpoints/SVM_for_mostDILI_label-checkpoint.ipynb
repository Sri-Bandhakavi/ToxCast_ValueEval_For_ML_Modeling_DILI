{
 "cells": [
  {
   "cell_type": "markdown",
   "metadata": {},
   "source": [
    "### Aim:\n",
    "\n",
    "In this notebook, SVM algorithm (linear vs radial kernels) will be used to evaluate what additive effect (if any) ToxCast targets provide *for predicting mostDILI drugs* - when compared to existing predictors currently used in the field (eg: Chen M et al., 2016 Hepatol, Shah F et al., 2015 Toxicol Sci).\n",
    "\n",
    "Since same test/train data is used for this modeling and others, the results of SVM will be compared against performance using alternative algorithms used (eg: logistic regression, random forest, gradient boosting, etc). "
   ]
  },
  {
   "cell_type": "code",
   "execution_count": 1,
   "metadata": {},
   "outputs": [
    {
     "name": "stderr",
     "output_type": "stream",
     "text": [
      "C:\\Users\\Sri Bandhakavi\\Anaconda3\\lib\\site-packages\\pandas_profiling\\plot.py:15: UserWarning: \n",
      "This call to matplotlib.use() has no effect because the backend has already\n",
      "been chosen; matplotlib.use() must be called *before* pylab, matplotlib.pyplot,\n",
      "or matplotlib.backends is imported for the first time.\n",
      "\n",
      "The backend was *originally* set to 'module://ipykernel.pylab.backend_inline' by the following code:\n",
      "  File \"C:\\Users\\Sri Bandhakavi\\Anaconda3\\lib\\runpy.py\", line 193, in _run_module_as_main\n",
      "    \"__main__\", mod_spec)\n",
      "  File \"C:\\Users\\Sri Bandhakavi\\Anaconda3\\lib\\runpy.py\", line 85, in _run_code\n",
      "    exec(code, run_globals)\n",
      "  File \"C:\\Users\\Sri Bandhakavi\\Anaconda3\\lib\\site-packages\\ipykernel_launcher.py\", line 16, in <module>\n",
      "    app.launch_new_instance()\n",
      "  File \"C:\\Users\\Sri Bandhakavi\\Anaconda3\\lib\\site-packages\\traitlets\\config\\application.py\", line 658, in launch_instance\n",
      "    app.start()\n",
      "  File \"C:\\Users\\Sri Bandhakavi\\Anaconda3\\lib\\site-packages\\ipykernel\\kernelapp.py\", line 478, in start\n",
      "    self.io_loop.start()\n",
      "  File \"C:\\Users\\Sri Bandhakavi\\Anaconda3\\lib\\site-packages\\tornado\\ioloop.py\", line 888, in start\n",
      "    handler_func(fd_obj, events)\n",
      "  File \"C:\\Users\\Sri Bandhakavi\\Anaconda3\\lib\\site-packages\\tornado\\stack_context.py\", line 277, in null_wrapper\n",
      "    return fn(*args, **kwargs)\n",
      "  File \"C:\\Users\\Sri Bandhakavi\\Anaconda3\\lib\\site-packages\\zmq\\eventloop\\zmqstream.py\", line 450, in _handle_events\n",
      "    self._handle_recv()\n",
      "  File \"C:\\Users\\Sri Bandhakavi\\Anaconda3\\lib\\site-packages\\zmq\\eventloop\\zmqstream.py\", line 480, in _handle_recv\n",
      "    self._run_callback(callback, msg)\n",
      "  File \"C:\\Users\\Sri Bandhakavi\\Anaconda3\\lib\\site-packages\\zmq\\eventloop\\zmqstream.py\", line 432, in _run_callback\n",
      "    callback(*args, **kwargs)\n",
      "  File \"C:\\Users\\Sri Bandhakavi\\Anaconda3\\lib\\site-packages\\tornado\\stack_context.py\", line 277, in null_wrapper\n",
      "    return fn(*args, **kwargs)\n",
      "  File \"C:\\Users\\Sri Bandhakavi\\Anaconda3\\lib\\site-packages\\ipykernel\\kernelbase.py\", line 283, in dispatcher\n",
      "    return self.dispatch_shell(stream, msg)\n",
      "  File \"C:\\Users\\Sri Bandhakavi\\Anaconda3\\lib\\site-packages\\ipykernel\\kernelbase.py\", line 233, in dispatch_shell\n",
      "    handler(stream, idents, msg)\n",
      "  File \"C:\\Users\\Sri Bandhakavi\\Anaconda3\\lib\\site-packages\\ipykernel\\kernelbase.py\", line 399, in execute_request\n",
      "    user_expressions, allow_stdin)\n",
      "  File \"C:\\Users\\Sri Bandhakavi\\Anaconda3\\lib\\site-packages\\ipykernel\\ipkernel.py\", line 208, in do_execute\n",
      "    res = shell.run_cell(code, store_history=store_history, silent=silent)\n",
      "  File \"C:\\Users\\Sri Bandhakavi\\Anaconda3\\lib\\site-packages\\ipykernel\\zmqshell.py\", line 537, in run_cell\n",
      "    return super(ZMQInteractiveShell, self).run_cell(*args, **kwargs)\n",
      "  File \"C:\\Users\\Sri Bandhakavi\\Anaconda3\\lib\\site-packages\\IPython\\core\\interactiveshell.py\", line 2728, in run_cell\n",
      "    interactivity=interactivity, compiler=compiler, result=result)\n",
      "  File \"C:\\Users\\Sri Bandhakavi\\Anaconda3\\lib\\site-packages\\IPython\\core\\interactiveshell.py\", line 2850, in run_ast_nodes\n",
      "    if self.run_code(code, result):\n",
      "  File \"C:\\Users\\Sri Bandhakavi\\Anaconda3\\lib\\site-packages\\IPython\\core\\interactiveshell.py\", line 2910, in run_code\n",
      "    exec(code_obj, self.user_global_ns, self.user_ns)\n",
      "  File \"<ipython-input-1-58243aaf7782>\", line 8, in <module>\n",
      "    get_ipython().run_line_magic('matplotlib', 'inline')\n",
      "  File \"C:\\Users\\Sri Bandhakavi\\Anaconda3\\lib\\site-packages\\IPython\\core\\interactiveshell.py\", line 2095, in run_line_magic\n",
      "    result = fn(*args,**kwargs)\n",
      "  File \"<decorator-gen-108>\", line 2, in matplotlib\n",
      "  File \"C:\\Users\\Sri Bandhakavi\\Anaconda3\\lib\\site-packages\\IPython\\core\\magic.py\", line 187, in <lambda>\n",
      "    call = lambda f, *a, **k: f(*a, **k)\n",
      "  File \"C:\\Users\\Sri Bandhakavi\\Anaconda3\\lib\\site-packages\\IPython\\core\\magics\\pylab.py\", line 99, in matplotlib\n",
      "    gui, backend = self.shell.enable_matplotlib(args.gui)\n",
      "  File \"C:\\Users\\Sri Bandhakavi\\Anaconda3\\lib\\site-packages\\IPython\\core\\interactiveshell.py\", line 2978, in enable_matplotlib\n",
      "    pt.activate_matplotlib(backend)\n",
      "  File \"C:\\Users\\Sri Bandhakavi\\Anaconda3\\lib\\site-packages\\IPython\\core\\pylabtools.py\", line 308, in activate_matplotlib\n",
      "    matplotlib.pyplot.switch_backend(backend)\n",
      "  File \"C:\\Users\\Sri Bandhakavi\\Anaconda3\\lib\\site-packages\\matplotlib\\pyplot.py\", line 231, in switch_backend\n",
      "    matplotlib.use(newbackend, warn=False, force=True)\n",
      "  File \"C:\\Users\\Sri Bandhakavi\\Anaconda3\\lib\\site-packages\\matplotlib\\__init__.py\", line 1410, in use\n",
      "    reload(sys.modules['matplotlib.backends'])\n",
      "  File \"C:\\Users\\Sri Bandhakavi\\Anaconda3\\lib\\importlib\\__init__.py\", line 166, in reload\n",
      "    _bootstrap._exec(spec, module)\n",
      "  File \"C:\\Users\\Sri Bandhakavi\\Anaconda3\\lib\\site-packages\\matplotlib\\backends\\__init__.py\", line 16, in <module>\n",
      "    line for line in traceback.format_stack()\n",
      "\n",
      "\n",
      "  matplotlib.use(BACKEND)\n"
     ]
    }
   ],
   "source": [
    "import pandas as pd\n",
    "import numpy as np\n",
    "import seaborn as sns\n",
    "\n",
    "from matplotlib import pyplot as plt\n",
    "plt.style.use('seaborn') \n",
    "\n",
    "%matplotlib inline\n",
    "\n",
    "import pandas_profiling"
   ]
  },
  {
   "cell_type": "code",
   "execution_count": 2,
   "metadata": {},
   "outputs": [],
   "source": [
    "#magic command to print all output instead of only last line\n",
    "from IPython.core.interactiveshell import InteractiveShell\n",
    "InteractiveShell.ast_node_interactivity = \"all\""
   ]
  },
  {
   "cell_type": "markdown",
   "metadata": {},
   "source": [
    "### Read-in datasets, prepare data for ML\n",
    "\n",
    "All datasets have been previously treated for missing values and dummy coding of categorical variables(reactive_metabolites, classificn, and ~216 toxcast targets).\n",
    "Output/target/Y variable for modeling purposes is \"classificn\" (1=\"mostDILI\", 0 = \"other\" which includes lessDILI/ambiDILI/noDILI). <br>\n",
    "\n",
    "In this notebook, same datasets previously used for logistic regression modeling will be imported. No EDA will be performed as the datasetts are identical to those previously used and EDA has already been done within the notebook using logistic regression as initial model.\n",
    "\n",
    "Data once imported will be transformed into feature dataset (\"X\") and label dataset (\"Y\") and further split using stratified sampling with call to test train split function. For allowing to compare results across algorithms evaluated, same random state will be used as before."
   ]
  },
  {
   "cell_type": "code",
   "execution_count": 3,
   "metadata": {},
   "outputs": [],
   "source": [
    "mc = pd.read_csv(\"mc_scaled_labeled.csv\")\n",
    "tc = pd.read_csv(\"tc_pca_labeled.csv\")\n",
    "mc_tc=pd.read_csv(\"mctc_pca_labeled.csv\")"
   ]
  },
  {
   "cell_type": "code",
   "execution_count": 4,
   "metadata": {},
   "outputs": [],
   "source": [
    "#Create \"x\" consisting of all independent variables from each of the dataframes (mc, tc, mc_tc) to be used for modeling\n",
    "\n",
    "mc_num=mc.select_dtypes(include=[np.number])\n",
    "x_mc=mc_num.drop([\"classificn\"], axis=1)\n",
    "\n",
    "tc_num=tc.select_dtypes(include=[np.number])\n",
    "x_tc=tc_num.drop([\"classificn\"], axis=1)\n",
    "\n",
    "mc_tc_num=mc_tc.select_dtypes(include=[np.number])\n",
    "x_mc_tc=mc_tc_num.drop([\"classificn\"], axis=1)"
   ]
  },
  {
   "cell_type": "code",
   "execution_count": 5,
   "metadata": {},
   "outputs": [
    {
     "data": {
      "text/plain": [
       "True"
      ]
     },
     "execution_count": 5,
     "metadata": {},
     "output_type": "execute_result"
    },
    {
     "data": {
      "text/plain": [
       "True"
      ]
     },
     "execution_count": 5,
     "metadata": {},
     "output_type": "execute_result"
    },
    {
     "data": {
      "text/plain": [
       "True"
      ]
     },
     "execution_count": 5,
     "metadata": {},
     "output_type": "execute_result"
    },
    {
     "data": {
      "text/plain": [
       "0    115\n",
       "1     60\n",
       "Name: classificn, dtype: int64"
      ]
     },
     "execution_count": 5,
     "metadata": {},
     "output_type": "execute_result"
    }
   ],
   "source": [
    "#create \"y\" consisting of outcome/target variable from each of the dataframes (mc, tc, mc_tc) to be used for modeling\n",
    "\n",
    "y_mc=mc_num[\"classificn\"] \n",
    "y_tc=tc_num[\"classificn\"]\n",
    "y_mc_tc=mc_tc_num[\"classificn\"]\n",
    "\n",
    "#check to make sure all datasets are equivalent for classification column\n",
    "y_mc.equals(y_tc)\n",
    "y_mc.equals(y_mc_tc)\n",
    "y_tc.equals(y_mc_tc)\n",
    "\n",
    "#breakdown of mostDILI drugs vs other drugs\n",
    "y_mc.value_counts()#60 drugs are labeled as \"mostDILI\" and 115 drugs as \"other\""
   ]
  },
  {
   "cell_type": "code",
   "execution_count": 6,
   "metadata": {},
   "outputs": [
    {
     "data": {
      "text/plain": [
       "True"
      ]
     },
     "execution_count": 6,
     "metadata": {},
     "output_type": "execute_result"
    },
    {
     "data": {
      "text/plain": [
       "True"
      ]
     },
     "execution_count": 6,
     "metadata": {},
     "output_type": "execute_result"
    }
   ],
   "source": [
    "import sklearn\n",
    "from sklearn.model_selection import train_test_split\n",
    "from sklearn import metrics\n",
    "\n",
    "## test train stratified split at 40:60 ratio (maintains ratio of mostDILI drugs:other drugs)\n",
    "# allows for testing on 24 \"mostDILI\" and training on 36 \"mostDILI\" drugs\n",
    "train_mcx, test_mcx, train_mcy, test_mcy = train_test_split(x_mc,y_mc, stratify=y_mc, test_size=0.4, random_state=45)\n",
    "\n",
    "train_tcx, test_tcx, train_tcy, test_tcy = train_test_split(x_tc,y_tc, stratify=y_tc, test_size=0.4, random_state=45)\n",
    "\n",
    "train_mctcx, test_mctcx, train_mctcy, test_mctcy = train_test_split(x_mc_tc,y_mc_tc, stratify=y_mc_tc, test_size=0.4, random_state=45)\n",
    "\n",
    "#confirm that test datasets are same across all splits\n",
    "test_mctcy.equals(test_tcy)\n",
    "test_mcy.equals(test_tcy)"
   ]
  },
  {
   "cell_type": "markdown",
   "metadata": {},
   "source": [
    "### SVM - initial model"
   ]
  },
  {
   "cell_type": "code",
   "execution_count": 7,
   "metadata": {},
   "outputs": [
    {
     "data": {
      "text/plain": [
       "SVC(C=1.0, cache_size=200, class_weight='balanced', coef0=0.0,\n",
       "  decision_function_shape='ovr', degree=3, gamma='auto', kernel='rbf',\n",
       "  max_iter=-1, probability=True, random_state=None, shrinking=True,\n",
       "  tol=0.001, verbose=False)"
      ]
     },
     "execution_count": 7,
     "metadata": {},
     "output_type": "execute_result"
    },
    {
     "data": {
      "text/plain": [
       "SVC(C=1.0, cache_size=200, class_weight='balanced', coef0=0.0,\n",
       "  decision_function_shape='ovr', degree=3, gamma='auto', kernel='rbf',\n",
       "  max_iter=-1, probability=True, random_state=None, shrinking=True,\n",
       "  tol=0.001, verbose=False)"
      ]
     },
     "execution_count": 7,
     "metadata": {},
     "output_type": "execute_result"
    },
    {
     "data": {
      "text/plain": [
       "SVC(C=1.0, cache_size=200, class_weight='balanced', coef0=0.0,\n",
       "  decision_function_shape='ovr', degree=3, gamma='auto', kernel='rbf',\n",
       "  max_iter=-1, probability=True, random_state=None, shrinking=True,\n",
       "  tol=0.001, verbose=False)"
      ]
     },
     "execution_count": 7,
     "metadata": {},
     "output_type": "execute_result"
    }
   ],
   "source": [
    "# Initial model - Instantiate & Fit\n",
    "from sklearn.svm import SVC\n",
    "\n",
    "svm_mc = SVC(probability=True, class_weight='balanced') \n",
    "svm_tc = SVC(probability=True, class_weight='balanced')\n",
    "svm_mctc = SVC(probability=True, class_weight='balanced')\n",
    "        #need to check probability=True so as to allow for predict_proba function and plots of ROC-AUC curve\n",
    "\n",
    "svm_mc.fit(train_mcx, train_mcy) \n",
    "svm_tc.fit(train_tcx, train_tcy)\n",
    "svm_mctc.fit(train_mctcx, train_mctcy)"
   ]
  },
  {
   "cell_type": "markdown",
   "metadata": {},
   "source": [
    "#### Tune SVM model for each of the datasets"
   ]
  },
  {
   "cell_type": "code",
   "execution_count": 8,
   "metadata": {},
   "outputs": [],
   "source": [
    "Cs = [0.25, 0.5, 1,2,5, 10, 15]\n",
    "gammas = [0.000001, 0.00001, 0.01, 1]\n",
    "kernels = ['rbf', 'linear']\n",
    "param_grid = {'C': Cs, 'gamma' : gammas, 'kernel' : kernels}"
   ]
  },
  {
   "cell_type": "code",
   "execution_count": 9,
   "metadata": {},
   "outputs": [
    {
     "name": "stderr",
     "output_type": "stream",
     "text": [
      "C:\\Users\\Sri Bandhakavi\\Anaconda3\\lib\\site-packages\\sklearn\\cross_validation.py:41: DeprecationWarning: This module was deprecated in version 0.18 in favor of the model_selection module into which all the refactored classes and functions are moved. Also note that the interface of the new CV iterators are different from that of this module. This module will be removed in 0.20.\n",
      "  \"This module will be removed in 0.20.\", DeprecationWarning)\n",
      "C:\\Users\\Sri Bandhakavi\\Anaconda3\\lib\\site-packages\\sklearn\\grid_search.py:42: DeprecationWarning: This module was deprecated in version 0.18 in favor of the model_selection module into which all the refactored classes and functions are moved. This module will be removed in 0.20.\n",
      "  DeprecationWarning)\n"
     ]
    }
   ],
   "source": [
    "from sklearn.grid_search import GridSearchCV\n",
    "\n",
    "grid_mc = GridSearchCV(svm_mc, param_grid,cv=3, scoring='roc_auc', n_jobs=-1)\n",
    "grid_tc = GridSearchCV(svm_tc, param_grid, cv=3,scoring='roc_auc', n_jobs=-1)\n",
    "grid_mctc= GridSearchCV(svm_mctc, param_grid, cv=3,scoring='roc_auc', n_jobs=-1)"
   ]
  },
  {
   "cell_type": "code",
   "execution_count": 10,
   "metadata": {},
   "outputs": [],
   "source": [
    "#\"fit\" grid search models (commented out - to avoid re-implementation)\n",
    "#grid_mc.fit(train_mcx,train_mcy)\n",
    "#grid_tc.fit(train_tcx, train_tcy)\n",
    "#grid_mctc.fit(train_mctcx, train_mctcy)\n",
    "\n",
    "#above code was implemented and optimal parameters retrieved to generate optimal SVC models below. After this, the code was commented out to avoid re-implementation."
   ]
  },
  {
   "cell_type": "code",
   "execution_count": 11,
   "metadata": {},
   "outputs": [
    {
     "name": "stdout",
     "output_type": "stream",
     "text": [
      "SVM best params follow below - mc data \n",
      "\n",
      "SVM best params follow below - tc data \n",
      "\n",
      "SVM best params follow below - mctc data \n",
      "\n"
     ]
    }
   ],
   "source": [
    "print(\"SVM best params follow below - mc data \")\n",
    "#grid_mc.best_params_\n",
    "print(\"\")\n",
    "\n",
    "print(\"SVM best params follow below - tc data \")\n",
    "#grid_tc.best_params_\n",
    "print(\"\")\n",
    "\n",
    "print(\"SVM best params follow below - mctc data \")\n",
    "#grid_mctc.best_params_\n",
    "print(\"\")"
   ]
  },
  {
   "cell_type": "markdown",
   "metadata": {},
   "source": [
    "#### Optimized SVM model for each dataset"
   ]
  },
  {
   "cell_type": "code",
   "execution_count": 12,
   "metadata": {},
   "outputs": [],
   "source": [
    "#Instantiate random forest models with optimal parameters\n",
    "svm_mc = SVC(kernel='linear', probability=True, class_weight='balanced', gamma=1e-06,C=2, random_state = 1)\n",
    "svm_tc = SVC(kernel='linear',probability=True, class_weight='balanced', gamma=1e-06,C=1, random_state = 1)\n",
    "svm_mctc = SVC(kernel='linear', probability=True, class_weight='balanced', gamma=1e-06,C=0.5, random_state = 1)"
   ]
  },
  {
   "cell_type": "code",
   "execution_count": 13,
   "metadata": {},
   "outputs": [
    {
     "data": {
      "text/plain": [
       "SVC(C=2, cache_size=200, class_weight='balanced', coef0=0.0,\n",
       "  decision_function_shape='ovr', degree=3, gamma=1e-06, kernel='linear',\n",
       "  max_iter=-1, probability=True, random_state=1, shrinking=True, tol=0.001,\n",
       "  verbose=False)"
      ]
     },
     "execution_count": 13,
     "metadata": {},
     "output_type": "execute_result"
    },
    {
     "data": {
      "text/plain": [
       "SVC(C=1, cache_size=200, class_weight='balanced', coef0=0.0,\n",
       "  decision_function_shape='ovr', degree=3, gamma=1e-06, kernel='linear',\n",
       "  max_iter=-1, probability=True, random_state=1, shrinking=True, tol=0.001,\n",
       "  verbose=False)"
      ]
     },
     "execution_count": 13,
     "metadata": {},
     "output_type": "execute_result"
    },
    {
     "data": {
      "text/plain": [
       "SVC(C=0.5, cache_size=200, class_weight='balanced', coef0=0.0,\n",
       "  decision_function_shape='ovr', degree=3, gamma=1e-06, kernel='linear',\n",
       "  max_iter=-1, probability=True, random_state=1, shrinking=True, tol=0.001,\n",
       "  verbose=False)"
      ]
     },
     "execution_count": 13,
     "metadata": {},
     "output_type": "execute_result"
    }
   ],
   "source": [
    "#Fit data to optimal model parameters\n",
    "svm_mc.fit(train_mcx, train_mcy)\n",
    "svm_tc.fit(train_tcx, train_tcy)\n",
    "svm_mctc.fit(train_mctcx, train_mctcy)"
   ]
  },
  {
   "cell_type": "code",
   "execution_count": 14,
   "metadata": {},
   "outputs": [],
   "source": [
    "#Predict classification labels based on optimal model parameters\n",
    "\n",
    "### Using optimized SVM model fitted using variables from Chen et al (mc), predict test values and probabilities  mc\n",
    "svm_pred_mcy=svm_mc.predict(test_mcx) \n",
    "svm_probs_mcy=svm_mc.predict_proba(test_mcx) \n",
    "\n",
    "### Using optimized SVM model fitted using variables from ToxCast (tc), predict test values and probabilities  mc\n",
    "svm_pred_tcy=svm_tc.predict(test_tcx) \n",
    "svm_probs_tcy=svm_tc.predict_proba(test_tcx) \n",
    "\n",
    "### Using optimized SVM model fitted using variables from Chen et al & ToxCast (mctc), predict test values and probabilities  mc\n",
    "svm_pred_mctcy=svm_mctc.predict(test_mctcx) \n",
    "svm_probs_mctcy=svm_mctc.predict_proba(test_mctcx)  "
   ]
  },
  {
   "cell_type": "markdown",
   "metadata": {},
   "source": [
    "#### Optimal SVM model metrics for each dataset"
   ]
  },
  {
   "cell_type": "code",
   "execution_count": 15,
   "metadata": {},
   "outputs": [
    {
     "name": "stdout",
     "output_type": "stream",
     "text": [
      "Accuracy: 3-fold cross validation scores on SVM model using mc (Chen M et al., 2016 Hepatol) variables\n",
      "[0.4516129  0.42857143 0.48275862]\n",
      "Accuracy mean: 0.45431431749563006 Accuracy standard deviation: 0.02220414641018363\n",
      "\n",
      "Accuracy: 3-fold cross validation scores on SVM model using tc (ToxCast targets/pathways) variables\n",
      "[0.5        0.28571429 0.47368421]\n",
      "Accuracy mean: 0.4197994987468672 Accuracy standard deviation: 0.09541929734737582\n",
      "\n",
      "Accuracy: 3-fold cross validation scores on SVM model using combined mc and tc (Chen M et al, 2016 Hepatol and ToxCast) variables\n",
      "[0.52631579 0.47058824 0.55555556]\n",
      "Accuracy mean: 0.5174865267744525 Accuracy standard deviation: 0.03524512531742485\n"
     ]
    }
   ],
   "source": [
    "from sklearn.model_selection import cross_val_score\n",
    "\n",
    "svm_accuracy_scores_mc = cross_val_score(svm_mc, x_mc, y_mc, cv=3, scoring='precision')\n",
    "print(\"Accuracy: 3-fold cross validation scores on SVM model using mc (Chen M et al., 2016 Hepatol) variables\")\n",
    "print(svm_accuracy_scores_mc)\n",
    "print(\"Accuracy mean: \" +str(svm_accuracy_scores_mc.mean()), \"Accuracy standard deviation: \" + str(svm_accuracy_scores_mc.std()))\n",
    "print(\"\")\n",
    "\n",
    "svm_accuracy_scores_tc = cross_val_score(svm_tc, x_tc, y_tc, cv=3, scoring='precision')\n",
    "print(\"Accuracy: 3-fold cross validation scores on SVM model using tc (ToxCast targets/pathways) variables\")\n",
    "print(svm_accuracy_scores_tc)\n",
    "print(\"Accuracy mean: \" +str(svm_accuracy_scores_tc.mean()), \"Accuracy standard deviation: \" + str(svm_accuracy_scores_tc.std()))\n",
    "print(\"\")\n",
    "\n",
    "svm_accuracy_scores_mctc = cross_val_score(svm_mctc, x_mc_tc, y_mc_tc, cv=3, scoring='precision')\n",
    "print(\"Accuracy: 3-fold cross validation scores on SVM model using combined mc and tc (Chen M et al, 2016 Hepatol and ToxCast) variables\")\n",
    "print(svm_accuracy_scores_mctc)\n",
    "print(\"Accuracy mean: \" +str(svm_accuracy_scores_mctc.mean()), \"Accuracy standard deviation: \" + str(svm_accuracy_scores_mctc.std()))"
   ]
  },
  {
   "cell_type": "code",
   "execution_count": 16,
   "metadata": {},
   "outputs": [
    {
     "data": {
      "image/png": "[encoded data removed]",
      "text/plain": [
       "<Figure size 1152x144 with 6 Axes>"
      ]
     },
     "metadata": {},
     "output_type": "display_data"
    }
   ],
   "source": [
    "### Confusion Matrix\n",
    "svm_cfm_mc=metrics.confusion_matrix(test_mcy, svm_pred_mcy)\n",
    "svm_cfm_tc=metrics.confusion_matrix(test_tcy, svm_pred_tcy)\n",
    "svm_cfm_mctc=metrics.confusion_matrix(test_mctcy, svm_pred_mctcy)\n",
    "\n",
    "fig, (ax1, ax2, ax3) = plt.subplots(1,3, figsize=(16,2))\n",
    "\n",
    "lbl1=[\"Predicted 0\", \"Predicted 1\"]\n",
    "lbl2=[\"Actual 0\", \"Actual 1\"]\n",
    "\n",
    "sns.heatmap(svm_cfm_mc, annot=True, cmap=\"Blues\", fmt=\"d\", xticklabels=lbl1, yticklabels=lbl2, ax=ax1)\n",
    "sns.heatmap(svm_cfm_tc, annot=True, cmap=\"Blues\", fmt=\"d\", xticklabels=lbl1, yticklabels=lbl2, ax=ax2)\n",
    "sns.heatmap(svm_cfm_mctc, annot=True, cmap=\"Blues\", fmt=\"d\", xticklabels=lbl1, yticklabels=lbl2, ax=ax3)\n",
    "\n",
    "\n",
    "fig.suptitle(\"Confusion matrices for SVM model with mc variables alone (left), tc variables alone (middle), or mc and tc variables combined(right)\", y=1.1);"
   ]
  },
  {
   "cell_type": "code",
   "execution_count": 17,
   "metadata": {},
   "outputs": [
    {
     "name": "stdout",
     "output_type": "stream",
     "text": [
      "precision_recall for model with mc variables alone\n",
      "             precision    recall  f1-score   support\n",
      "\n",
      "          0       0.79      0.72      0.75        46\n",
      "          1       0.54      0.62      0.58        24\n",
      "\n",
      "avg / total       0.70      0.69      0.69        70\n",
      "\n",
      "precision_recall for model with tc variables alone\n",
      "             precision    recall  f1-score   support\n",
      "\n",
      "          0       0.77      0.78      0.77        46\n",
      "          1       0.57      0.54      0.55        24\n",
      "\n",
      "avg / total       0.70      0.70      0.70        70\n",
      "\n",
      "precision_recall for model with mc&tc variables combined\n",
      "             precision    recall  f1-score   support\n",
      "\n",
      "          0       0.78      0.67      0.72        46\n",
      "          1       0.50      0.62      0.56        24\n",
      "\n",
      "avg / total       0.68      0.66      0.66        70\n",
      "\n"
     ]
    }
   ],
   "source": [
    "### Precision, Recall\n",
    "svm_cr_mc=metrics.classification_report(test_mcy, svm_pred_mcy)\n",
    "svm_cr_tc=metrics.classification_report(test_tcy, svm_pred_tcy)\n",
    "svm_cr_mctc=metrics.classification_report(test_mctcy, svm_pred_mctcy)\n",
    "\n",
    "print(\"precision_recall for model with mc variables alone\")\n",
    "print(svm_cr_mc)\n",
    "\n",
    "print(\"precision_recall for model with tc variables alone\")\n",
    "print(svm_cr_tc)\n",
    "\n",
    "print(\"precision_recall for model with mc&tc variables combined\")\n",
    "print(svm_cr_mctc)"
   ]
  },
  {
   "cell_type": "code",
   "execution_count": 18,
   "metadata": {},
   "outputs": [
    {
     "name": "stdout",
     "output_type": "stream",
     "text": [
      "Specificity for model with mc variables alone\n"
     ]
    },
    {
     "data": {
      "text/plain": [
       "0.717"
      ]
     },
     "execution_count": 18,
     "metadata": {},
     "output_type": "execute_result"
    },
    {
     "name": "stdout",
     "output_type": "stream",
     "text": [
      "Specificity for model with tc variables alone\n"
     ]
    },
    {
     "data": {
      "text/plain": [
       "0.783"
      ]
     },
     "execution_count": 18,
     "metadata": {},
     "output_type": "execute_result"
    },
    {
     "name": "stdout",
     "output_type": "stream",
     "text": [
      "specificity for model with mctc variables\n"
     ]
    },
    {
     "data": {
      "text/plain": [
       "0.674"
      ]
     },
     "execution_count": 18,
     "metadata": {},
     "output_type": "execute_result"
    }
   ],
   "source": [
    "###Specificity\n",
    "from sklearn.metrics import confusion_matrix\n",
    "\n",
    "tn_mc, fp_mc, fn_mc, tp_mc = confusion_matrix(test_mcy, svm_pred_mcy).ravel()\n",
    "specificity_mc = tn_mc / (tn_mc+fp_mc)\n",
    "print(\"Specificity for model with mc variables alone\")\n",
    "round(specificity_mc,3)\n",
    "\n",
    "\n",
    "tn_tc, fp_tc, fn_tc, tp_tc = confusion_matrix(test_tcy, svm_pred_tcy).ravel()\n",
    "specificity_tc = tn_tc / (tn_tc+fp_tc)\n",
    "print(\"Specificity for model with tc variables alone\")\n",
    "round(specificity_tc,3)\n",
    "\n",
    "tn_mctc, fp_mctc, fn_mctc, tp_mctc = confusion_matrix(test_mctcy, svm_pred_mctcy).ravel()\n",
    "specificity_mctc = tn_mctc / (tn_mctc+fp_mctc)\n",
    "print(\"specificity for model with mctc variables\")\n",
    "round(specificity_mctc, 3)"
   ]
  },
  {
   "cell_type": "markdown",
   "metadata": {},
   "source": [
    "#### ROC curve analysis"
   ]
  },
  {
   "cell_type": "code",
   "execution_count": 19,
   "metadata": {},
   "outputs": [],
   "source": [
    "#calculate values to populate ROC curve\n",
    "from sklearn.metrics import roc_curve\n",
    "\n",
    "svm_fpr_mc,svm_tpr_mc, svm_thresholds_mc=roc_curve(test_mcy, svm_probs_mcy[:, 1])\n",
    "svm_roc_auc_mc=metrics.auc(svm_fpr_mc, svm_tpr_mc)\n",
    "\n",
    "svm_fpr_tc,svm_tpr_tc, svm_thresholds_tc=roc_curve(test_tcy, svm_probs_tcy[:, 1])\n",
    "svm_roc_auc_tc=metrics.auc(svm_fpr_tc, svm_tpr_tc)\n",
    "\n",
    "svm_fpr_mctc,svm_tpr_mctc, svm_thresholds_mctc=roc_curve(test_mctcy, svm_probs_mctcy[:,1])\n",
    "svm_roc_auc_mctc=metrics.auc(svm_fpr_mctc, svm_tpr_mctc)\n",
    "\n",
    "#Calculate values to populate precision-recall curve\n",
    "from sklearn.metrics import precision_recall_curve\n",
    "\n",
    "svm_precision_mc, svm_recall_mc, svm_thresholds_mc = precision_recall_curve(test_mcy, svm_probs_mcy[:, 1]) #retrieve probability of being 1(in second column of probs_y)\n",
    "svm_pr_auc_mc = metrics.auc(svm_recall_mc, svm_precision_mc)\n",
    "\n",
    "svm_precision_tc, svm_recall_tc, svm_thresholds_tc = precision_recall_curve(test_tcy, svm_probs_tcy[:, 1]) #retrieve probability of being 1(in second column of probs_y)\n",
    "svm_pr_auc_tc = metrics.auc(svm_recall_tc, svm_precision_tc)\n",
    "\n",
    "svm_precision_mctc, svm_recall_mctc, svm_thresholds_mctc = precision_recall_curve(test_mctcy, svm_probs_mctcy[:, 1]) #retrieve probability of being 1(in second column of probs_y)\n",
    "svm_pr_auc_mctc = metrics.auc(svm_recall_mctc, svm_precision_mctc)"
   ]
  },
  {
   "cell_type": "code",
   "execution_count": 20,
   "metadata": {},
   "outputs": [
    {
     "data": {
      "image/png": "[encoded data removed]",
      "text/plain": [
       "<Figure size 1152x288 with 2 Axes>"
      ]
     },
     "metadata": {},
     "output_type": "display_data"
    }
   ],
   "source": [
    "fig = plt.figure()\n",
    "fig.set_figheight(4)\n",
    "fig.set_figwidth(16)\n",
    "\n",
    "axes = fig.add_subplot(121)\n",
    "\n",
    "plt.title(\"ROC chart\")\n",
    "plt.plot(svm_fpr_mc, svm_tpr_mc, 'r', label='svm_AUC_mc =%0.2f'% svm_roc_auc_mc)\n",
    "plt.plot(svm_fpr_tc, svm_tpr_tc, 'g', label='svm_AUC_tc =%0.2f'% svm_roc_auc_tc)\n",
    "plt.plot(svm_fpr_mctc, svm_tpr_mctc, 'b', label='svm_AUC_mctc =%0.2f'% svm_roc_auc_mctc)\n",
    "plt.legend(loc='lower right')\n",
    "plt.plot([0,1], [0,1], 'o--')\n",
    "plt.axis([0,1, 0,1])\n",
    "plt.ylabel(\"True Positive Rate\")\n",
    "plt.xlabel(\"False Positive Rate\")\n",
    "\n",
    "\n",
    "axes = fig.add_subplot(122)\n",
    "plt.title(\"Precision versus Recall chart\")\n",
    "plt.plot(svm_recall_mc, svm_precision_mc, \"r\", label = 'svm_pr_auc_mc=%.1f' % (svm_pr_auc_mc))\n",
    "plt.plot(svm_recall_tc, svm_precision_tc, \"g\", label = 'svm_pr_auc_tc=%.1f' % (svm_pr_auc_tc))\n",
    "plt.plot(svm_recall_mctc, svm_precision_mctc, \"b\", label = 'svm_pr_auc_mctc=%.1f' % (svm_pr_auc_mctc))\n",
    "plt.legend(loc='lower left')\n",
    "plt.ylabel(\"Precision\")\n",
    "plt.xlabel(\"Recall\")\n",
    "plt.show();"
   ]
  },
  {
   "cell_type": "code",
   "execution_count": 21,
   "metadata": {},
   "outputs": [
    {
     "data": {
      "image/png": "[encoded data removed]",
      "text/plain": [
       "<Figure size 1152x288 with 2 Axes>"
      ]
     },
     "metadata": {},
     "output_type": "display_data"
    }
   ],
   "source": [
    "fig = plt.figure()\n",
    "fig.set_figheight(4)\n",
    "fig.set_figwidth(16)\n",
    "\n",
    "axes = fig.add_subplot(121)\n",
    "\n",
    "plt.title(\"Precision-Recall vs Threshold Chart\")\n",
    "plt.plot(svm_thresholds_mc, svm_precision_mc[: -1], \"r--\", label=\"precision_mc\")\n",
    "plt.plot(svm_thresholds_mc, svm_recall_mc[: -1], \"b--\", label=\"recall_mc\")\n",
    "plt.ylabel(\"Precision, Recall\")\n",
    "plt.xlabel(\"Threshold\")\n",
    "plt.legend(loc=\"lower left\")\n",
    "plt.ylim([0,1])\n",
    "\n",
    "\n",
    "axes = fig.add_subplot(122)\n",
    "plt.title(\"Precision-Recall vs Threshold Chart\")\n",
    "plt.plot(svm_thresholds_mctc, svm_precision_mctc[: -1], \"r--\", label=\"precision_mctc\")\n",
    "plt.plot(svm_thresholds_mctc, svm_recall_mctc[: -1], \"b--\", label=\"recall_mctc\")\n",
    "plt.ylabel(\"Precision, Recall\")\n",
    "plt.xlabel(\"Threshold\")\n",
    "plt.legend(loc=\"lower left\")\n",
    "plt.ylim([0,1])\n",
    "\n",
    "\n",
    "plt.show();"
   ]
  },
  {
   "cell_type": "markdown",
   "metadata": {},
   "source": [
    "#### Adjust thresholds manually and re-evaluate metrics\n",
    "Note: Default threshold (for classification = 1 i.e., \"mostDILI\" drug) is P>0.5. In below section, threshold is weakedt to <0.5 for enhancing model performance w.r.t. sensitivity and model metrics re-calculated"
   ]
  },
  {
   "cell_type": "markdown",
   "metadata": {},
   "source": [
    "**Threshold>0.45**"
   ]
  },
  {
   "cell_type": "code",
   "execution_count": 22,
   "metadata": {},
   "outputs": [
    {
     "data": {
      "image/png": "[encoded data removed]",
      "text/plain": [
       "<Figure size 360x216 with 1 Axes>"
      ]
     },
     "metadata": {},
     "output_type": "display_data"
    }
   ],
   "source": [
    " #Adjust threshold for each of the models\n",
    "svm_pred_mcy_t2=(svm_mc.predict_proba(test_mcx) [:, 1]>=0.45).astype(bool)\n",
    "\n",
    "svm_pred_tcy_t2=(svm_tc.predict_proba(test_tcx) [:, 1]>=0.45).astype(bool)\n",
    "\n",
    "svm_pred_mctcy_t2=(svm_mctc.predict_proba(test_mctcx) [:, 1]>=0.45).astype(bool)\n",
    "\n",
    "#plot ROC curve based on adjusted thresholds )using predicitons instead of probabilities)\n",
    "\n",
    "svm_fpr_mc_t2,svm_tpr_mc_t2, svm_thresholds_mc_t2=roc_curve(test_mcy, svm_pred_mcy_t2)\n",
    "svm_roc_auc_mc_t2=metrics.auc(svm_fpr_mc_t2, svm_tpr_mc_t2)\n",
    "\n",
    "svm_fpr_tc_t2,svm_tpr_tc_t2, svm_thresholds_tc_t2=roc_curve(test_tcy, svm_pred_tcy_t2)\n",
    "svm_roc_auc_tc_t2=metrics.auc(svm_fpr_tc_t2, svm_tpr_tc_t2)\n",
    "\n",
    "svm_fpr_mctc_t2,svm_tpr_mctc_t2, svm_thresholds_mctc_t2=roc_curve(test_mctcy, svm_pred_mctcy_t2)\n",
    "svm_roc_auc_mctc_t2=metrics.auc(svm_fpr_mctc_t2, svm_tpr_mctc_t2)\n",
    "\n",
    "fig = plt.figure()\n",
    "fig.set_figheight(3)\n",
    "fig.set_figwidth(5)\n",
    "\n",
    "plt.title(\"ROC chart\\n w/ manually-set threshold @ 0.45\")\n",
    "plt.plot(svm_fpr_mc_t2, svm_tpr_mc_t2, 'r', label='svm_AUC_mc_t2 =%0.2f'% svm_roc_auc_mc_t2)\n",
    "plt.plot(svm_fpr_tc_t2, svm_tpr_tc_t2, 'g', label='svm_AUC_tc_t2 =%0.2f'% svm_roc_auc_tc_t2)\n",
    "plt.plot(svm_fpr_mctc_t2, svm_tpr_mctc_t2, 'b', label='svm_AUC_mctc_t2 =%0.2f'% svm_roc_auc_mctc_t2)\n",
    "plt.legend(loc='lower right')\n",
    "plt.plot([0,1], [0,1], 'o--')\n",
    "plt.axis([0,1, 0,1])\n",
    "plt.ylabel(\"True Positive Rate\")\n",
    "plt.xlabel(\"False Positive Rate\")\n",
    "\n",
    "plt.show(); "
   ]
  },
  {
   "cell_type": "code",
   "execution_count": 23,
   "metadata": {},
   "outputs": [
    {
     "name": "stdout",
     "output_type": "stream",
     "text": [
      "Overall accuracy with mc dataset and modified threshold of P>=0.45: 0.66\n",
      "\n",
      "Classification report with mc dataset and modified threshold of P>=0.45: \n",
      "             precision    recall  f1-score   support\n",
      "\n",
      "          0       0.66      1.00      0.79        46\n",
      "          1       0.00      0.00      0.00        24\n",
      "\n",
      "avg / total       0.43      0.66      0.52        70\n",
      "\n",
      "***************\n",
      "Overall accuracy with tc dataset and modified threshold of P>=0.45: 0.69\n",
      "\n",
      "Classification report with tc dataset and modified threshold of P>=0.45: \n",
      "             precision    recall  f1-score   support\n",
      "\n",
      "          0       0.68      1.00      0.81        46\n",
      "          1       1.00      0.08      0.15        24\n",
      "\n",
      "avg / total       0.79      0.69      0.58        70\n",
      "\n",
      "***************\n",
      "Overall accuracy with mctc dataset and modified threshold of P>=0.45: 0.69\n",
      "\n",
      "Classification report with mctc dataset and modified threshold of P>=0.45: \n",
      "             precision    recall  f1-score   support\n",
      "\n",
      "          0       0.68      1.00      0.81        46\n",
      "          1       1.00      0.08      0.15        24\n",
      "\n",
      "avg / total       0.79      0.69      0.58        70\n",
      "\n"
     ]
    },
    {
     "name": "stderr",
     "output_type": "stream",
     "text": [
      "C:\\Users\\Sri Bandhakavi\\Anaconda3\\lib\\site-packages\\sklearn\\metrics\\classification.py:1135: UndefinedMetricWarning: Precision and F-score are ill-defined and being set to 0.0 in labels with no predicted samples.\n",
      "  'precision', 'predicted', average, warn_for)\n"
     ]
    }
   ],
   "source": [
    "### Accuracy, Precision, Recall with modified threshold (t2)\n",
    "svm_acc_mc_t2=round(metrics.accuracy_score(test_mcy, svm_pred_mcy_t2), 2)\n",
    "print(\"Overall accuracy with mc dataset and modified threshold of P>=0.45: \" + str(svm_acc_mc_t2)+\"\\n\")\n",
    "\n",
    "svm_cr_mc_t2=metrics.classification_report(test_mcy, svm_pred_mcy_t2)\n",
    "print(\"Classification report with mc dataset and modified threshold of P>=0.45: \")\n",
    "print(svm_cr_mc_t2)    \n",
    "print(\"***************\")\n",
    "\n",
    "\n",
    "svm_acc_tc_t2=round(metrics.accuracy_score(test_tcy, svm_pred_tcy_t2), 2)\n",
    "print(\"Overall accuracy with tc dataset and modified threshold of P>=0.45: \" + str(svm_acc_tc_t2)+\"\\n\")\n",
    "\n",
    "svm_cr_tc_t2=metrics.classification_report(test_tcy, svm_pred_tcy_t2)\n",
    "print(\"Classification report with tc dataset and modified threshold of P>=0.45: \")\n",
    "print(svm_cr_tc_t2)   \n",
    "print(\"***************\")\n",
    "\n",
    "\n",
    "svm_acc_mctc_t2=round(metrics.accuracy_score(test_mctcy, svm_pred_mctcy_t2), 2)\n",
    "print(\"Overall accuracy with mctc dataset and modified threshold of P>=0.45: \" + str(svm_acc_mctc_t2)+\"\\n\")\n",
    "\n",
    "svm_cr_mctc_t2=metrics.classification_report(test_mctcy, svm_pred_mctcy_t2)\n",
    "print(\"Classification report with mctc dataset and modified threshold of P>=0.45: \")\n",
    "print(svm_cr_mctc_t2) "
   ]
  },
  {
   "cell_type": "code",
   "execution_count": 24,
   "metadata": {},
   "outputs": [
    {
     "name": "stdout",
     "output_type": "stream",
     "text": [
      "Specificity for model with modified threshold of P>=0.45 and mc variables alone\n"
     ]
    },
    {
     "data": {
      "text/plain": [
       "1.0"
      ]
     },
     "execution_count": 24,
     "metadata": {},
     "output_type": "execute_result"
    },
    {
     "name": "stdout",
     "output_type": "stream",
     "text": [
      "Specificity for model with modified threshold of P>=0.45 and tc variables alone\n"
     ]
    },
    {
     "data": {
      "text/plain": [
       "1.0"
      ]
     },
     "execution_count": 24,
     "metadata": {},
     "output_type": "execute_result"
    },
    {
     "name": "stdout",
     "output_type": "stream",
     "text": [
      "specificity for model with modified threshold of P>=0.45 and mctc variables\n"
     ]
    },
    {
     "data": {
      "text/plain": [
       "1.0"
      ]
     },
     "execution_count": 24,
     "metadata": {},
     "output_type": "execute_result"
    }
   ],
   "source": [
    "###Specificity with modified threshold (t2)\n",
    "from sklearn.metrics import confusion_matrix\n",
    "\n",
    "tn_mc_t2, fp_mc_t2, fn_mc_t2, tp_mc_t2 = confusion_matrix(test_mcy, svm_pred_mcy_t2).ravel()\n",
    "specificity_mc_t2 = tn_mc_t2 / (tn_mc_t2+fp_mc_t2)\n",
    "print(\"Specificity for model with modified threshold of P>=0.45 and mc variables alone\")\n",
    "round(specificity_mc_t2,3)\n",
    "\n",
    "\n",
    "tn_tc_t2, fp_tc_t2, fn_tc_t2, tp_tc_t2 = confusion_matrix(test_tcy, svm_pred_tcy_t2).ravel()\n",
    "specificity_tc_t2 = tn_tc_t2 / (tn_tc_t2+fp_tc_t2)\n",
    "print(\"Specificity for model with modified threshold of P>=0.45 and tc variables alone\")\n",
    "round(specificity_tc_t2,3)\n",
    "\n",
    "tn_mctc_t2, fp_mctc_t2, fn_mctc_t2, tp_mctc_t2 = confusion_matrix(test_mctcy, svm_pred_mctcy_t2).ravel()\n",
    "specificity_mctc_t2 = tn_mctc_t2 / (tn_mctc_t2+fp_mctc_t2)\n",
    "print(\"specificity for model with modified threshold of P>=0.45 and mctc variables\")\n",
    "round(specificity_mctc_t2, 3)"
   ]
  },
  {
   "cell_type": "code",
   "execution_count": 25,
   "metadata": {},
   "outputs": [
    {
     "data": {
      "image/png": "[encoded data removed]",
      "text/plain": [
       "<Figure size 1152x144 with 6 Axes>"
      ]
     },
     "metadata": {},
     "output_type": "display_data"
    }
   ],
   "source": [
    "### Confusion Matrix with modified threshold (t2)\n",
    "svm_cfm_mc_t2=metrics.confusion_matrix(test_mcy, svm_pred_mcy_t2)\n",
    "svm_cfm_tc_t2=metrics.confusion_matrix(test_tcy, svm_pred_tcy_t2)\n",
    "svm_cfm_mctc_t2=metrics.confusion_matrix(test_mctcy, svm_pred_mctcy_t2)\n",
    "\n",
    "fig, (ax1, ax2, ax3) = plt.subplots(1,3, figsize=(16,2))\n",
    "\n",
    "lbl1=[\"Predicted 0\", \"Predicted 1\"]\n",
    "lbl2=[\"Actual 0\", \"Actual 1\"]\n",
    "\n",
    "sns.heatmap(svm_cfm_mc_t2, annot=True, cmap=\"Blues\", fmt=\"d\", xticklabels=lbl1, yticklabels=lbl2, ax=ax1)\n",
    "sns.heatmap(svm_cfm_tc_t2, annot=True, cmap=\"Blues\", fmt=\"d\", xticklabels=lbl1, yticklabels=lbl2, ax=ax2)\n",
    "sns.heatmap(svm_cfm_mctc_t2, annot=True, cmap=\"Blues\", fmt=\"d\", xticklabels=lbl1, yticklabels=lbl2, ax=ax3)\n",
    "\n",
    "\n",
    "fig.suptitle(\"Confusion matrices for logistic model using modified threshold with mc variables alone (left), tc variables alone (middle), or mc and tc variables combined(right)\", y=1.1);  "
   ]
  },
  {
   "cell_type": "markdown",
   "metadata": {},
   "source": [
    "**Threshold>=0.43**"
   ]
  },
  {
   "cell_type": "code",
   "execution_count": 26,
   "metadata": {},
   "outputs": [
    {
     "data": {
      "image/png": "[encoded data removed]",
      "text/plain": [
       "<Figure size 360x216 with 1 Axes>"
      ]
     },
     "metadata": {},
     "output_type": "display_data"
    }
   ],
   "source": [
    "#Adjust threshold for each of the models\n",
    "svm_pred_mcy_t3=(svm_mc.predict_proba(test_mcx) [:, 1]>=0.43).astype(bool)\n",
    "\n",
    "svm_pred_tcy_t3=(svm_tc.predict_proba(test_tcx) [:, 1]>=0.43).astype(bool)\n",
    "\n",
    "svm_pred_mctcy_t3=(svm_mctc.predict_proba(test_mctcx) [:, 1]>=0.43).astype(bool)\n",
    "\n",
    "#plot ROC curve based on adjusted thresholds using predicitons instead of probabilities)\n",
    "\n",
    "svm_fpr_mc_t3,svm_tpr_mc_t3, svm_thresholds_mc_t3=roc_curve(test_mcy, svm_pred_mcy_t3)\n",
    "svm_roc_auc_mc_t3=metrics.auc(svm_fpr_mc_t3, svm_tpr_mc_t3)\n",
    "\n",
    "svm_fpr_tc_t3,svm_tpr_tc_t3, svm_thresholds_tc_t3=roc_curve(test_tcy, svm_pred_tcy_t3)\n",
    "svm_roc_auc_tc_t3=metrics.auc(svm_fpr_tc_t3, svm_tpr_tc_t3)\n",
    "\n",
    "svm_fpr_mctc_t3,svm_tpr_mctc_t3, svm_thresholds_mctc_t3=roc_curve(test_mctcy, svm_pred_mctcy_t3)\n",
    "svm_roc_auc_mctc_t3=metrics.auc(svm_fpr_mctc_t3, svm_tpr_mctc_t3)\n",
    "\n",
    "fig = plt.figure()\n",
    "fig.set_figheight(3)\n",
    "fig.set_figwidth(5)\n",
    "\n",
    "plt.title(\"ROC chart\\n w/ manually-set threshold @0.43\")\n",
    "plt.plot(svm_fpr_mc_t3, svm_tpr_mc_t3, 'r', label='svm_AUC_mc_t3 =%0.2f'% svm_roc_auc_mc_t3)\n",
    "plt.plot(svm_fpr_tc_t3, svm_tpr_tc_t3, 'g', label='svm_AUC_tc_t3 =%0.2f'% svm_roc_auc_tc_t3)\n",
    "plt.plot(svm_fpr_mctc_t3, svm_tpr_mctc_t3, 'b', label='svm_AUC_mctc_t3 =%0.2f'% svm_roc_auc_mctc_t3)\n",
    "plt.legend(loc='lower right')\n",
    "plt.plot([0,1], [0,1], 'o--')\n",
    "plt.axis([0,1, 0,1])\n",
    "plt.ylabel(\"True Positive Rate\")\n",
    "plt.xlabel(\"False Positive Rate\")\n",
    "\n",
    "plt.show();   "
   ]
  },
  {
   "cell_type": "code",
   "execution_count": 27,
   "metadata": {},
   "outputs": [
    {
     "name": "stdout",
     "output_type": "stream",
     "text": [
      "Overall accuracy with mc dataset and modified threshold of P>=0.43: 0.69\n",
      "\n",
      "Classification report with mc dataset and modified threshold of P>=0.43: \n",
      "             precision    recall  f1-score   support\n",
      "\n",
      "          0       0.79      0.72      0.75        46\n",
      "          1       0.54      0.62      0.58        24\n",
      "\n",
      "avg / total       0.70      0.69      0.69        70\n",
      "\n",
      "***************\n",
      "Overall accuracy with tc dataset and modified threshold of P>=0.43: 0.66\n",
      "\n",
      "Classification report with tc dataset and modified threshold of P>=0.43: \n",
      "             precision    recall  f1-score   support\n",
      "\n",
      "          0       0.67      0.96      0.79        46\n",
      "          1       0.50      0.08      0.14        24\n",
      "\n",
      "avg / total       0.61      0.66      0.57        70\n",
      "\n",
      "***************\n",
      "Overall accuracy with mctc dataset and modified threshold of P>=0.43: 0.69\n",
      "\n",
      "Classification report with mctc dataset and modified threshold of P>=0.43: \n",
      "             precision    recall  f1-score   support\n",
      "\n",
      "          0       0.68      1.00      0.81        46\n",
      "          1       1.00      0.08      0.15        24\n",
      "\n",
      "avg / total       0.79      0.69      0.58        70\n",
      "\n"
     ]
    }
   ],
   "source": [
    "### Accuracy, Precision, Recall with modified threshold (t3)\n",
    "svm_acc_mc_t3=round(metrics.accuracy_score(test_mcy, svm_pred_mcy_t3), 2)\n",
    "print(\"Overall accuracy with mc dataset and modified threshold of P>=0.43: \" + str(svm_acc_mc_t3)+\"\\n\")\n",
    "\n",
    "svm_cr_mc_t3=metrics.classification_report(test_mcy, svm_pred_mcy_t3)\n",
    "print(\"Classification report with mc dataset and modified threshold of P>=0.43: \")\n",
    "print(svm_cr_mc_t3)    \n",
    "print(\"***************\")\n",
    "\n",
    "\n",
    "svm_acc_tc_t3=round(metrics.accuracy_score(test_tcy, svm_pred_tcy_t3), 2)\n",
    "print(\"Overall accuracy with tc dataset and modified threshold of P>=0.43: \" + str(svm_acc_tc_t3)+\"\\n\")\n",
    "\n",
    "svm_cr_tc_t3=metrics.classification_report(test_tcy, svm_pred_tcy_t3)\n",
    "print(\"Classification report with tc dataset and modified threshold of P>=0.43: \")\n",
    "print(svm_cr_tc_t3)   \n",
    "print(\"***************\")\n",
    "\n",
    "\n",
    "svm_acc_mctc_t3=round(metrics.accuracy_score(test_mctcy, svm_pred_mctcy_t3), 2)\n",
    "print(\"Overall accuracy with mctc dataset and modified threshold of P>=0.43: \" + str(svm_acc_mctc_t3)+\"\\n\")\n",
    "\n",
    "svm_cr_mctc_t3=metrics.classification_report(test_mctcy, svm_pred_mctcy_t3)\n",
    "print(\"Classification report with mctc dataset and modified threshold of P>=0.43: \")\n",
    "print(svm_cr_mctc_t3) "
   ]
  },
  {
   "cell_type": "code",
   "execution_count": 28,
   "metadata": {},
   "outputs": [
    {
     "name": "stdout",
     "output_type": "stream",
     "text": [
      "Specificity for model with modified threshold of P>=0.43 and mc variables alone\n"
     ]
    },
    {
     "data": {
      "text/plain": [
       "0.717"
      ]
     },
     "execution_count": 28,
     "metadata": {},
     "output_type": "execute_result"
    },
    {
     "name": "stdout",
     "output_type": "stream",
     "text": [
      "Specificity for model with modified threshold of P>=0.43 and tc variables alone\n"
     ]
    },
    {
     "data": {
      "text/plain": [
       "0.957"
      ]
     },
     "execution_count": 28,
     "metadata": {},
     "output_type": "execute_result"
    },
    {
     "name": "stdout",
     "output_type": "stream",
     "text": [
      "specificity for model with modified threshold of P>=0.43 and mctc variables\n"
     ]
    },
    {
     "data": {
      "text/plain": [
       "1.0"
      ]
     },
     "execution_count": 28,
     "metadata": {},
     "output_type": "execute_result"
    }
   ],
   "source": [
    "###Specificity with modified threshold (t3)\n",
    "from sklearn.metrics import confusion_matrix\n",
    "\n",
    "tn_mc_t3, fp_mc_t3, fn_mc_t3, tp_mc_t3 = confusion_matrix(test_mcy, svm_pred_mcy_t3).ravel()\n",
    "specificity_mc_t3 = tn_mc_t3 / (tn_mc_t3+fp_mc_t3)\n",
    "print(\"Specificity for model with modified threshold of P>=0.43 and mc variables alone\")\n",
    "round(specificity_mc_t3,3)\n",
    "\n",
    "\n",
    "tn_tc_t3, fp_tc_t3, fn_tc_t3, tp_tc_t3 = confusion_matrix(test_tcy, svm_pred_tcy_t3).ravel()\n",
    "specificity_tc_t3 = tn_tc_t3 / (tn_tc_t3+fp_tc_t3)\n",
    "print(\"Specificity for model with modified threshold of P>=0.43 and tc variables alone\")\n",
    "round(specificity_tc_t3,3)\n",
    "\n",
    "tn_mctc_t3, fp_mctc_t3, fn_mctc_t3, tp_mctc_t3 = confusion_matrix(test_mctcy, svm_pred_mctcy_t3).ravel()\n",
    "specificity_mctc_t3 = tn_mctc_t3 / (tn_mctc_t3+fp_mctc_t3)\n",
    "print(\"specificity for model with modified threshold of P>=0.43 and mctc variables\")\n",
    "round(specificity_mctc_t3, 3)   "
   ]
  }
 ],
 "metadata": {
  "kernelspec": {
   "display_name": "Python 3",
   "language": "python",
   "name": "python3"
  },
  "language_info": {
   "codemirror_mode": {
    "name": "ipython",
    "version": 3
   },
   "file_extension": ".py",
   "mimetype": "text/x-python",
   "name": "python",
   "nbconvert_exporter": "python",
   "pygments_lexer": "ipython3",
   "version": "3.6.4"
  }
 },
 "nbformat": 4,
 "nbformat_minor": 2
}
