{
 "cells": [
  {
   "cell_type": "markdown",
   "metadata": {},
   "source": [
    "**Aim: Generation of \"partial\" dataset - containing most current (mc) variables used (Chen M et al., 2016 Hepatol + Shah F et al., 2015)- for modeling of liver toxicity (mostDILI)**\n",
    "\n",
    "As preparation of dataset for modeling purposes, data will be scaled using StandardScaler package within sklearn's pre-processing class.\n",
    "Same method for pre-processing was used on ToxCast targets and full dataset (MC targets + ToxCast targets) prior to PCA. "
   ]
  },
  {
   "cell_type": "code",
   "execution_count": null,
   "metadata": {},
   "outputs": [],
   "source": []
  },
  {
   "cell_type": "code",
   "execution_count": 1,
   "metadata": {},
   "outputs": [],
   "source": [
    "import pandas as pd\n",
    "import numpy as np\n",
    "import seaborn as sns\n",
    "import matplotlib.pyplot as plt\n",
    "%matplotlib inline"
   ]
  },
  {
   "cell_type": "code",
   "execution_count": 2,
   "metadata": {},
   "outputs": [],
   "source": [
    "#magic command to print all output instead of only last line\n",
    "from IPython.core.interactiveshell import InteractiveShell\n",
    "InteractiveShell.ast_node_interactivity = \"all\""
   ]
  },
  {
   "cell_type": "markdown",
   "metadata": {},
   "source": [
    "Read-in mc_var dataset, re-arrange column order. Make a duplicate for re-appending columns as needed after completion of scaling"
   ]
  },
  {
   "cell_type": "code",
   "execution_count": 18,
   "metadata": {},
   "outputs": [
    {
     "data": {
      "text/plain": [
       "Index(['chnm', 'classificn', 'cmax', 'mol_wt', 'dailydose', 'logP',\n",
       "       'reactive_metabolites'],\n",
       "      dtype='object')"
      ]
     },
     "execution_count": 18,
     "metadata": {},
     "output_type": "execute_result"
    },
    {
     "data": {
      "text/plain": [
       "True"
      ]
     },
     "execution_count": 18,
     "metadata": {},
     "output_type": "execute_result"
    },
    {
     "data": {
      "text/html": [
       "<div>\n",
       "<style scoped>\n",
       "    .dataframe tbody tr th:only-of-type {\n",
       "        vertical-align: middle;\n",
       "    }\n",
       "\n",
       "    .dataframe tbody tr th {\n",
       "        vertical-align: top;\n",
       "    }\n",
       "\n",
       "    .dataframe thead th {\n",
       "        text-align: right;\n",
       "    }\n",
       "</style>\n",
       "<table border=\"1\" class=\"dataframe\">\n",
       "  <thead>\n",
       "    <tr style=\"text-align: right;\">\n",
       "      <th></th>\n",
       "      <th>chnm</th>\n",
       "      <th>cmax</th>\n",
       "      <th>mol_wt</th>\n",
       "      <th>dailydose</th>\n",
       "      <th>logP</th>\n",
       "      <th>reactive_metabolites</th>\n",
       "      <th>classificn</th>\n",
       "    </tr>\n",
       "  </thead>\n",
       "  <tbody>\n",
       "    <tr>\n",
       "      <th>0</th>\n",
       "      <td>ambrisentan</td>\n",
       "      <td>2.6124</td>\n",
       "      <td>378.42108</td>\n",
       "      <td>7.5</td>\n",
       "      <td>3.78</td>\n",
       "      <td>1</td>\n",
       "      <td>0</td>\n",
       "    </tr>\n",
       "    <tr>\n",
       "      <th>1</th>\n",
       "      <td>amrinone</td>\n",
       "      <td>13.7820</td>\n",
       "      <td>187.19795</td>\n",
       "      <td>500.0</td>\n",
       "      <td>-0.46</td>\n",
       "      <td>0</td>\n",
       "      <td>0</td>\n",
       "    </tr>\n",
       "    <tr>\n",
       "      <th>2</th>\n",
       "      <td>aztreonam</td>\n",
       "      <td>142.3860</td>\n",
       "      <td>435.43278</td>\n",
       "      <td>4000.0</td>\n",
       "      <td>-1.73</td>\n",
       "      <td>0</td>\n",
       "      <td>0</td>\n",
       "    </tr>\n",
       "    <tr>\n",
       "      <th>3</th>\n",
       "      <td>capecitabine</td>\n",
       "      <td>7.9309</td>\n",
       "      <td>359.35008</td>\n",
       "      <td>5600.0</td>\n",
       "      <td>0.40</td>\n",
       "      <td>0</td>\n",
       "      <td>0</td>\n",
       "    </tr>\n",
       "    <tr>\n",
       "      <th>4</th>\n",
       "      <td>carbidopa</td>\n",
       "      <td>0.6630</td>\n",
       "      <td>226.22915</td>\n",
       "      <td>70.0</td>\n",
       "      <td>-1.90</td>\n",
       "      <td>0</td>\n",
       "      <td>0</td>\n",
       "    </tr>\n",
       "  </tbody>\n",
       "</table>\n",
       "</div>"
      ],
      "text/plain": [
       "           chnm      cmax     mol_wt  dailydose  logP  reactive_metabolites  \\\n",
       "0   ambrisentan    2.6124  378.42108        7.5  3.78                     1   \n",
       "1      amrinone   13.7820  187.19795      500.0 -0.46                     0   \n",
       "2     aztreonam  142.3860  435.43278     4000.0 -1.73                     0   \n",
       "3  capecitabine    7.9309  359.35008     5600.0  0.40                     0   \n",
       "4     carbidopa    0.6630  226.22915       70.0 -1.90                     0   \n",
       "\n",
       "   classificn  \n",
       "0           0  \n",
       "1           0  \n",
       "2           0  \n",
       "3           0  \n",
       "4           0  "
      ]
     },
     "execution_count": 18,
     "metadata": {},
     "output_type": "execute_result"
    },
    {
     "data": {
      "text/plain": [
       "Index(['chnm', 'cmax', 'mol_wt', 'dailydose', 'logP', 'reactive_metabolites',\n",
       "       'classificn'],\n",
       "      dtype='object')"
      ]
     },
     "execution_count": 18,
     "metadata": {},
     "output_type": "execute_result"
    }
   ],
   "source": [
    "#Read-in mc_var_labeled\n",
    "mc_labeled1=pd.read_csv(\"mc_var_labeled.csv\")\n",
    "\n",
    "    #rearrange column names in mc_labeled such that \"classificn\" moves to last column\n",
    "mc_labeled1.columns\n",
    "\n",
    "mcl_col_order=[\"chnm\", \"cmax\", \"mol_wt\", \"dailydose\", \"logP\", \"reactive_metabolites\", \"classificn\"] #desired column order\n",
    "\n",
    "set(mc_labeled1.columns) == set(mcl_col_order)#check to see if all column names are retained in \"mcl_col_order\"\n",
    "\n",
    "\n",
    "mc_labeled1=mc_labeled1[mcl_col_order]\n",
    "\n",
    "mc_labeled1.head()\n",
    "\n",
    "mcl2=mc_labeled1\n",
    "\n",
    "mcl2.columns"
   ]
  },
  {
   "cell_type": "code",
   "execution_count": null,
   "metadata": {},
   "outputs": [],
   "source": [
    "#drop \"chnm\" and \"classificn\" from mc_labeled1 prior to scaling\n",
    "\n",
    "mc_labeled1.drop([\"chnm\", \"classificn\"], axis=1, inplace = True)"
   ]
  },
  {
   "cell_type": "code",
   "execution_count": 13,
   "metadata": {},
   "outputs": [
    {
     "data": {
      "text/html": [
       "<div>\n",
       "<style scoped>\n",
       "    .dataframe tbody tr th:only-of-type {\n",
       "        vertical-align: middle;\n",
       "    }\n",
       "\n",
       "    .dataframe tbody tr th {\n",
       "        vertical-align: top;\n",
       "    }\n",
       "\n",
       "    .dataframe thead th {\n",
       "        text-align: right;\n",
       "    }\n",
       "</style>\n",
       "<table border=\"1\" class=\"dataframe\">\n",
       "  <thead>\n",
       "    <tr style=\"text-align: right;\">\n",
       "      <th></th>\n",
       "      <th>cmax</th>\n",
       "      <th>mol_wt</th>\n",
       "      <th>dailydose</th>\n",
       "      <th>logP</th>\n",
       "      <th>reactive_metabolites</th>\n",
       "    </tr>\n",
       "  </thead>\n",
       "  <tbody>\n",
       "    <tr>\n",
       "      <th>0</th>\n",
       "      <td>2.6124</td>\n",
       "      <td>378.42108</td>\n",
       "      <td>7.5</td>\n",
       "      <td>3.78</td>\n",
       "      <td>1</td>\n",
       "    </tr>\n",
       "    <tr>\n",
       "      <th>1</th>\n",
       "      <td>13.7820</td>\n",
       "      <td>187.19795</td>\n",
       "      <td>500.0</td>\n",
       "      <td>-0.46</td>\n",
       "      <td>0</td>\n",
       "    </tr>\n",
       "    <tr>\n",
       "      <th>2</th>\n",
       "      <td>142.3860</td>\n",
       "      <td>435.43278</td>\n",
       "      <td>4000.0</td>\n",
       "      <td>-1.73</td>\n",
       "      <td>0</td>\n",
       "    </tr>\n",
       "    <tr>\n",
       "      <th>3</th>\n",
       "      <td>7.9309</td>\n",
       "      <td>359.35008</td>\n",
       "      <td>5600.0</td>\n",
       "      <td>0.40</td>\n",
       "      <td>0</td>\n",
       "    </tr>\n",
       "    <tr>\n",
       "      <th>4</th>\n",
       "      <td>0.6630</td>\n",
       "      <td>226.22915</td>\n",
       "      <td>70.0</td>\n",
       "      <td>-1.90</td>\n",
       "      <td>0</td>\n",
       "    </tr>\n",
       "  </tbody>\n",
       "</table>\n",
       "</div>"
      ],
      "text/plain": [
       "       cmax     mol_wt  dailydose  logP  reactive_metabolites\n",
       "0    2.6124  378.42108        7.5  3.78                     1\n",
       "1   13.7820  187.19795      500.0 -0.46                     0\n",
       "2  142.3860  435.43278     4000.0 -1.73                     0\n",
       "3    7.9309  359.35008     5600.0  0.40                     0\n",
       "4    0.6630  226.22915       70.0 -1.90                     0"
      ]
     },
     "execution_count": 13,
     "metadata": {},
     "output_type": "execute_result"
    }
   ],
   "source": [
    "mc_labeled1.head()"
   ]
  },
  {
   "cell_type": "code",
   "execution_count": 15,
   "metadata": {},
   "outputs": [
    {
     "data": {
      "text/html": [
       "<div>\n",
       "<style scoped>\n",
       "    .dataframe tbody tr th:only-of-type {\n",
       "        vertical-align: middle;\n",
       "    }\n",
       "\n",
       "    .dataframe tbody tr th {\n",
       "        vertical-align: top;\n",
       "    }\n",
       "\n",
       "    .dataframe thead th {\n",
       "        text-align: right;\n",
       "    }\n",
       "</style>\n",
       "<table border=\"1\" class=\"dataframe\">\n",
       "  <thead>\n",
       "    <tr style=\"text-align: right;\">\n",
       "      <th></th>\n",
       "      <th>cmax</th>\n",
       "      <th>mol_wt</th>\n",
       "      <th>dailydose</th>\n",
       "      <th>logP</th>\n",
       "      <th>reactive_metabolites</th>\n",
       "    </tr>\n",
       "  </thead>\n",
       "  <tbody>\n",
       "    <tr>\n",
       "      <th>0</th>\n",
       "      <td>-0.376681</td>\n",
       "      <td>0.234644</td>\n",
       "      <td>-0.649171</td>\n",
       "      <td>0.698114</td>\n",
       "      <td>1.017292</td>\n",
       "    </tr>\n",
       "    <tr>\n",
       "      <th>1</th>\n",
       "      <td>-0.258342</td>\n",
       "      <td>-1.106356</td>\n",
       "      <td>-0.076238</td>\n",
       "      <td>-1.204272</td>\n",
       "      <td>-0.983002</td>\n",
       "    </tr>\n",
       "    <tr>\n",
       "      <th>2</th>\n",
       "      <td>1.104182</td>\n",
       "      <td>0.634453</td>\n",
       "      <td>3.995364</td>\n",
       "      <td>-1.774091</td>\n",
       "      <td>-0.983002</td>\n",
       "    </tr>\n",
       "    <tr>\n",
       "      <th>3</th>\n",
       "      <td>-0.320333</td>\n",
       "      <td>0.100904</td>\n",
       "      <td>5.856668</td>\n",
       "      <td>-0.818411</td>\n",
       "      <td>-0.983002</td>\n",
       "    </tr>\n",
       "    <tr>\n",
       "      <th>4</th>\n",
       "      <td>-0.397334</td>\n",
       "      <td>-0.832640</td>\n",
       "      <td>-0.576464</td>\n",
       "      <td>-1.850365</td>\n",
       "      <td>-0.983002</td>\n",
       "    </tr>\n",
       "  </tbody>\n",
       "</table>\n",
       "</div>"
      ],
      "text/plain": [
       "       cmax    mol_wt  dailydose      logP  reactive_metabolites\n",
       "0 -0.376681  0.234644  -0.649171  0.698114              1.017292\n",
       "1 -0.258342 -1.106356  -0.076238 -1.204272             -0.983002\n",
       "2  1.104182  0.634453   3.995364 -1.774091             -0.983002\n",
       "3 -0.320333  0.100904   5.856668 -0.818411             -0.983002\n",
       "4 -0.397334 -0.832640  -0.576464 -1.850365             -0.983002"
      ]
     },
     "execution_count": 15,
     "metadata": {},
     "output_type": "execute_result"
    }
   ],
   "source": [
    "# Scale the data\n",
    "\n",
    "from sklearn.preprocessing import StandardScaler\n",
    "scaler=StandardScaler() #instantiate StandardScaler class\n",
    "mc_scaled= scaler.fit_transform(mc_labeled1) #fit-transform instantiated class and save to an numpy array\n",
    "pd_mc_scaled=pd.DataFrame(mc_scaled, columns=mc_labeled1.columns) #saved \"scaled\" data to a dataframe\n",
    "\n",
    "pd_mc_scaled.head()"
   ]
  },
  {
   "cell_type": "code",
   "execution_count": null,
   "metadata": {},
   "outputs": [],
   "source": [
    "frames=[mcl2[[\"chnm\", \"classificn\"]],pd_mc_scaled]\n",
    "\n",
    "mc_scaled_data=pd.concat(frames, axis=1)\n",
    "\n",
    "mc_scaled_data.head()\n",
    "\n",
    "partial_data_mc_scaled=mc_scaled_data[mcl_col_order]\n",
    "\n",
    "partial_data_mc_scaled.head()"
   ]
  },
  {
   "cell_type": "code",
   "execution_count": 25,
   "metadata": {},
   "outputs": [],
   "source": [
    "partial_data_mc_scaled.to_csv('mc_scaled_labeled.csv', index=False) "
   ]
  },
  {
   "cell_type": "code",
   "execution_count": null,
   "metadata": {},
   "outputs": [],
   "source": []
  }
 ],
 "metadata": {
  "kernelspec": {
   "display_name": "Python 3",
   "language": "python",
   "name": "python3"
  },
  "language_info": {
   "codemirror_mode": {
    "name": "ipython",
    "version": 3
   },
   "file_extension": ".py",
   "mimetype": "text/x-python",
   "name": "python",
   "nbconvert_exporter": "python",
   "pygments_lexer": "ipython3",
   "version": "3.6.4"
  }
 },
 "nbformat": 4,
 "nbformat_minor": 2
}
