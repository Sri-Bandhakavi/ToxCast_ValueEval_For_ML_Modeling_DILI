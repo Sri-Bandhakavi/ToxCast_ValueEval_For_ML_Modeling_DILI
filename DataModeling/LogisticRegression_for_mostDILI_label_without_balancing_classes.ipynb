{
 "cells": [
  {
   "cell_type": "markdown",
   "metadata": {},
   "source": [
    "### Aim: \n",
    "In this notebook, the effect of adding ToxCast variables to current best-in-class logistic regression based model (Chen M et al., 2016 aso referred to as FDA's model within this notebooks' series) for predicting mostDILI drugs will be evaluated.  <br>\n",
    "\n",
    "Logistic regression is the algorithm used by Chen M et al., 2016 and hence forms a good basis for evaluating effect of new variables to the existing model (for most DILI classification).  Subsequently, other alternative algorithms will also be evaluated in separate notebooks for classification performance."
   ]
  },
  {
   "cell_type": "code",
   "execution_count": 4,
   "metadata": {},
   "outputs": [],
   "source": [
    "import pandas as pd\n",
    "import numpy as np\n",
    "import seaborn as sns\n",
    "\n",
    "import pandas_profiling\n",
    "import statistics\n",
    "\n",
    "from matplotlib import pyplot as plt\n",
    "\n",
    "%matplotlib inline"
   ]
  },
  {
   "cell_type": "code",
   "execution_count": 5,
   "metadata": {},
   "outputs": [],
   "source": [
    "#magic command to print all output instead of only last line\n",
    "from IPython.core.interactiveshell import InteractiveShell\n",
    "InteractiveShell.ast_node_interactivity = \"all\""
   ]
  },
  {
   "cell_type": "markdown",
   "metadata": {},
   "source": [
    "### Read-in datasets\n",
    "\n",
    "All datasets have been previously treated for missing values and dummy coding of categorical variables(reactive_metabolites, classificn, and ~216 toxcast targets).\n",
    "\n",
    "Output/target/Y variable for modeling purposes is \"classificn\" (1=\"mostDILI\", 0 = \"other\" which includes lessDILI/ambiDILI/noDILI)"
   ]
  },
  {
   "cell_type": "code",
   "execution_count": 6,
   "metadata": {},
   "outputs": [],
   "source": [
    "mc = pd.read_csv(\"mc_scaled_labeled.csv\")\n",
    "tc = pd.read_csv(\"tc_pca_labeled.csv\")\n",
    "mc_tc=pd.read_csv(\"mctc_pca_labeled.csv\")"
   ]
  },
  {
   "cell_type": "code",
   "execution_count": 7,
   "metadata": {},
   "outputs": [
    {
     "data": {
      "text/html": [
       "<div>\n",
       "<style scoped>\n",
       "    .dataframe tbody tr th:only-of-type {\n",
       "        vertical-align: middle;\n",
       "    }\n",
       "\n",
       "    .dataframe tbody tr th {\n",
       "        vertical-align: top;\n",
       "    }\n",
       "\n",
       "    .dataframe thead th {\n",
       "        text-align: right;\n",
       "    }\n",
       "</style>\n",
       "<table border=\"1\" class=\"dataframe\">\n",
       "  <thead>\n",
       "    <tr style=\"text-align: right;\">\n",
       "      <th></th>\n",
       "      <th>chnm</th>\n",
       "      <th>cmax</th>\n",
       "      <th>mol_wt</th>\n",
       "      <th>dailydose</th>\n",
       "      <th>logP</th>\n",
       "      <th>reactive_metabolites</th>\n",
       "      <th>classificn</th>\n",
       "    </tr>\n",
       "  </thead>\n",
       "  <tbody>\n",
       "    <tr>\n",
       "      <th>0</th>\n",
       "      <td>abacavir</td>\n",
       "      <td>-0.246513</td>\n",
       "      <td>-0.411151</td>\n",
       "      <td>0.040093</td>\n",
       "      <td>-0.459470</td>\n",
       "      <td>1.017292</td>\n",
       "      <td>1</td>\n",
       "    </tr>\n",
       "    <tr>\n",
       "      <th>1</th>\n",
       "      <td>acetaminophen</td>\n",
       "      <td>0.997393</td>\n",
       "      <td>-1.359063</td>\n",
       "      <td>2.832049</td>\n",
       "      <td>-0.791490</td>\n",
       "      <td>1.017292</td>\n",
       "      <td>1</td>\n",
       "    </tr>\n",
       "    <tr>\n",
       "      <th>2</th>\n",
       "      <td>acitretin</td>\n",
       "      <td>-0.390792</td>\n",
       "      <td>-0.129961</td>\n",
       "      <td>-0.617180</td>\n",
       "      <td>1.873645</td>\n",
       "      <td>-0.983002</td>\n",
       "      <td>1</td>\n",
       "    </tr>\n",
       "    <tr>\n",
       "      <th>3</th>\n",
       "      <td>albendazole</td>\n",
       "      <td>-0.394776</td>\n",
       "      <td>-0.558426</td>\n",
       "      <td>-0.192570</td>\n",
       "      <td>0.213544</td>\n",
       "      <td>1.017292</td>\n",
       "      <td>1</td>\n",
       "    </tr>\n",
       "    <tr>\n",
       "      <th>4</th>\n",
       "      <td>alclofenac</td>\n",
       "      <td>5.952769</td>\n",
       "      <td>-0.829645</td>\n",
       "      <td>0.796248</td>\n",
       "      <td>0.294306</td>\n",
       "      <td>1.017292</td>\n",
       "      <td>1</td>\n",
       "    </tr>\n",
       "  </tbody>\n",
       "</table>\n",
       "</div>"
      ],
      "text/plain": [
       "            chnm      cmax    mol_wt  dailydose      logP  \\\n",
       "0       abacavir -0.246513 -0.411151   0.040093 -0.459470   \n",
       "1  acetaminophen  0.997393 -1.359063   2.832049 -0.791490   \n",
       "2      acitretin -0.390792 -0.129961  -0.617180  1.873645   \n",
       "3    albendazole -0.394776 -0.558426  -0.192570  0.213544   \n",
       "4     alclofenac  5.952769 -0.829645   0.796248  0.294306   \n",
       "\n",
       "   reactive_metabolites  classificn  \n",
       "0              1.017292           1  \n",
       "1              1.017292           1  \n",
       "2             -0.983002           1  \n",
       "3              1.017292           1  \n",
       "4              1.017292           1  "
      ]
     },
     "execution_count": 7,
     "metadata": {},
     "output_type": "execute_result"
    },
    {
     "data": {
      "text/plain": [
       "chnm                    0\n",
       "cmax                    0\n",
       "mol_wt                  0\n",
       "dailydose               0\n",
       "logP                    0\n",
       "reactive_metabolites    0\n",
       "classificn              0\n",
       "dtype: int64"
      ]
     },
     "execution_count": 7,
     "metadata": {},
     "output_type": "execute_result"
    }
   ],
   "source": [
    "mc.head()\n",
    "mc.isnull().sum()#no null values in dataframe"
   ]
  },
  {
   "cell_type": "code",
   "execution_count": 8,
   "metadata": {},
   "outputs": [
    {
     "data": {
      "text/html": [
       "<div>\n",
       "<style scoped>\n",
       "    .dataframe tbody tr th:only-of-type {\n",
       "        vertical-align: middle;\n",
       "    }\n",
       "\n",
       "    .dataframe tbody tr th {\n",
       "        vertical-align: top;\n",
       "    }\n",
       "\n",
       "    .dataframe thead th {\n",
       "        text-align: right;\n",
       "    }\n",
       "</style>\n",
       "<table border=\"1\" class=\"dataframe\">\n",
       "  <thead>\n",
       "    <tr style=\"text-align: right;\">\n",
       "      <th></th>\n",
       "      <th>chnm</th>\n",
       "      <th>P1</th>\n",
       "      <th>P2</th>\n",
       "      <th>P3</th>\n",
       "      <th>P4</th>\n",
       "      <th>P5</th>\n",
       "      <th>P6</th>\n",
       "      <th>P7</th>\n",
       "      <th>P8</th>\n",
       "      <th>P9</th>\n",
       "      <th>...</th>\n",
       "      <th>P20</th>\n",
       "      <th>P21</th>\n",
       "      <th>P22</th>\n",
       "      <th>P23</th>\n",
       "      <th>P24</th>\n",
       "      <th>P25</th>\n",
       "      <th>P26</th>\n",
       "      <th>P27</th>\n",
       "      <th>P28</th>\n",
       "      <th>classificn</th>\n",
       "    </tr>\n",
       "  </thead>\n",
       "  <tbody>\n",
       "    <tr>\n",
       "      <th>0</th>\n",
       "      <td>abacavir</td>\n",
       "      <td>-1.453781</td>\n",
       "      <td>-0.645957</td>\n",
       "      <td>-0.042387</td>\n",
       "      <td>-0.613409</td>\n",
       "      <td>-0.383872</td>\n",
       "      <td>0.003563</td>\n",
       "      <td>-0.036099</td>\n",
       "      <td>-0.166559</td>\n",
       "      <td>-0.251330</td>\n",
       "      <td>...</td>\n",
       "      <td>0.332493</td>\n",
       "      <td>-0.384955</td>\n",
       "      <td>-0.103455</td>\n",
       "      <td>0.874200</td>\n",
       "      <td>-0.643686</td>\n",
       "      <td>0.654882</td>\n",
       "      <td>0.699779</td>\n",
       "      <td>0.421477</td>\n",
       "      <td>-0.002905</td>\n",
       "      <td>1</td>\n",
       "    </tr>\n",
       "    <tr>\n",
       "      <th>1</th>\n",
       "      <td>acetaminophen</td>\n",
       "      <td>-0.280884</td>\n",
       "      <td>0.297014</td>\n",
       "      <td>1.704332</td>\n",
       "      <td>0.586057</td>\n",
       "      <td>0.406694</td>\n",
       "      <td>0.340701</td>\n",
       "      <td>1.252860</td>\n",
       "      <td>-0.431265</td>\n",
       "      <td>2.469549</td>\n",
       "      <td>...</td>\n",
       "      <td>-0.813639</td>\n",
       "      <td>0.222896</td>\n",
       "      <td>-0.263584</td>\n",
       "      <td>-1.537387</td>\n",
       "      <td>-1.949884</td>\n",
       "      <td>0.636464</td>\n",
       "      <td>-1.337835</td>\n",
       "      <td>-0.075963</td>\n",
       "      <td>-1.225050</td>\n",
       "      <td>1</td>\n",
       "    </tr>\n",
       "    <tr>\n",
       "      <th>2</th>\n",
       "      <td>acitretin</td>\n",
       "      <td>-1.116905</td>\n",
       "      <td>-0.588255</td>\n",
       "      <td>-0.067545</td>\n",
       "      <td>-0.455004</td>\n",
       "      <td>-0.432180</td>\n",
       "      <td>0.553050</td>\n",
       "      <td>0.050969</td>\n",
       "      <td>-0.027998</td>\n",
       "      <td>-0.295202</td>\n",
       "      <td>...</td>\n",
       "      <td>-0.236979</td>\n",
       "      <td>0.399888</td>\n",
       "      <td>0.569811</td>\n",
       "      <td>0.595930</td>\n",
       "      <td>0.550770</td>\n",
       "      <td>-0.300266</td>\n",
       "      <td>0.560164</td>\n",
       "      <td>-0.338131</td>\n",
       "      <td>-0.234198</td>\n",
       "      <td>1</td>\n",
       "    </tr>\n",
       "    <tr>\n",
       "      <th>3</th>\n",
       "      <td>albendazole</td>\n",
       "      <td>-0.582517</td>\n",
       "      <td>1.004084</td>\n",
       "      <td>-1.160341</td>\n",
       "      <td>-0.468495</td>\n",
       "      <td>-0.503714</td>\n",
       "      <td>0.647676</td>\n",
       "      <td>-0.436439</td>\n",
       "      <td>0.350573</td>\n",
       "      <td>-0.063671</td>\n",
       "      <td>...</td>\n",
       "      <td>-1.409748</td>\n",
       "      <td>0.513968</td>\n",
       "      <td>0.543193</td>\n",
       "      <td>0.153357</td>\n",
       "      <td>2.287368</td>\n",
       "      <td>0.156084</td>\n",
       "      <td>1.410520</td>\n",
       "      <td>-0.504880</td>\n",
       "      <td>-0.437613</td>\n",
       "      <td>1</td>\n",
       "    </tr>\n",
       "    <tr>\n",
       "      <th>4</th>\n",
       "      <td>alclofenac</td>\n",
       "      <td>-1.401812</td>\n",
       "      <td>-0.811473</td>\n",
       "      <td>0.041537</td>\n",
       "      <td>-0.372151</td>\n",
       "      <td>-0.318848</td>\n",
       "      <td>0.315268</td>\n",
       "      <td>0.085781</td>\n",
       "      <td>-0.082962</td>\n",
       "      <td>-0.227885</td>\n",
       "      <td>...</td>\n",
       "      <td>0.207117</td>\n",
       "      <td>-0.221817</td>\n",
       "      <td>0.090859</td>\n",
       "      <td>0.541376</td>\n",
       "      <td>-0.275087</td>\n",
       "      <td>-0.236340</td>\n",
       "      <td>0.056372</td>\n",
       "      <td>0.188017</td>\n",
       "      <td>0.006071</td>\n",
       "      <td>1</td>\n",
       "    </tr>\n",
       "  </tbody>\n",
       "</table>\n",
       "<p>5 rows × 30 columns</p>\n",
       "</div>"
      ],
      "text/plain": [
       "            chnm        P1        P2        P3        P4        P5        P6  \\\n",
       "0       abacavir -1.453781 -0.645957 -0.042387 -0.613409 -0.383872  0.003563   \n",
       "1  acetaminophen -0.280884  0.297014  1.704332  0.586057  0.406694  0.340701   \n",
       "2      acitretin -1.116905 -0.588255 -0.067545 -0.455004 -0.432180  0.553050   \n",
       "3    albendazole -0.582517  1.004084 -1.160341 -0.468495 -0.503714  0.647676   \n",
       "4     alclofenac -1.401812 -0.811473  0.041537 -0.372151 -0.318848  0.315268   \n",
       "\n",
       "         P7        P8        P9     ...           P20       P21       P22  \\\n",
       "0 -0.036099 -0.166559 -0.251330     ...      0.332493 -0.384955 -0.103455   \n",
       "1  1.252860 -0.431265  2.469549     ...     -0.813639  0.222896 -0.263584   \n",
       "2  0.050969 -0.027998 -0.295202     ...     -0.236979  0.399888  0.569811   \n",
       "3 -0.436439  0.350573 -0.063671     ...     -1.409748  0.513968  0.543193   \n",
       "4  0.085781 -0.082962 -0.227885     ...      0.207117 -0.221817  0.090859   \n",
       "\n",
       "        P23       P24       P25       P26       P27       P28  classificn  \n",
       "0  0.874200 -0.643686  0.654882  0.699779  0.421477 -0.002905           1  \n",
       "1 -1.537387 -1.949884  0.636464 -1.337835 -0.075963 -1.225050           1  \n",
       "2  0.595930  0.550770 -0.300266  0.560164 -0.338131 -0.234198           1  \n",
       "3  0.153357  2.287368  0.156084  1.410520 -0.504880 -0.437613           1  \n",
       "4  0.541376 -0.275087 -0.236340  0.056372  0.188017  0.006071           1  \n",
       "\n",
       "[5 rows x 30 columns]"
      ]
     },
     "execution_count": 8,
     "metadata": {},
     "output_type": "execute_result"
    },
    {
     "data": {
      "text/plain": [
       "chnm          0\n",
       "P1            0\n",
       "P2            0\n",
       "P3            0\n",
       "P4            0\n",
       "P5            0\n",
       "P6            0\n",
       "P7            0\n",
       "P8            0\n",
       "P9            0\n",
       "P10           0\n",
       "P11           0\n",
       "P12           0\n",
       "P13           0\n",
       "P14           0\n",
       "P15           0\n",
       "P16           0\n",
       "P17           0\n",
       "P18           0\n",
       "P19           0\n",
       "P20           0\n",
       "P21           0\n",
       "P22           0\n",
       "P23           0\n",
       "P24           0\n",
       "P25           0\n",
       "P26           0\n",
       "P27           0\n",
       "P28           0\n",
       "classificn    0\n",
       "dtype: int64"
      ]
     },
     "execution_count": 8,
     "metadata": {},
     "output_type": "execute_result"
    }
   ],
   "source": [
    "tc.head()\n",
    "tc.isnull().sum().T# no null values in dataframe"
   ]
  },
  {
   "cell_type": "code",
   "execution_count": 9,
   "metadata": {},
   "outputs": [
    {
     "data": {
      "text/html": [
       "<div>\n",
       "<style scoped>\n",
       "    .dataframe tbody tr th:only-of-type {\n",
       "        vertical-align: middle;\n",
       "    }\n",
       "\n",
       "    .dataframe tbody tr th {\n",
       "        vertical-align: top;\n",
       "    }\n",
       "\n",
       "    .dataframe thead th {\n",
       "        text-align: right;\n",
       "    }\n",
       "</style>\n",
       "<table border=\"1\" class=\"dataframe\">\n",
       "  <thead>\n",
       "    <tr style=\"text-align: right;\">\n",
       "      <th></th>\n",
       "      <th>chnm</th>\n",
       "      <th>P1</th>\n",
       "      <th>P2</th>\n",
       "      <th>P3</th>\n",
       "      <th>P4</th>\n",
       "      <th>P5</th>\n",
       "      <th>P6</th>\n",
       "      <th>P7</th>\n",
       "      <th>P8</th>\n",
       "      <th>P9</th>\n",
       "      <th>...</th>\n",
       "      <th>P22</th>\n",
       "      <th>P23</th>\n",
       "      <th>P24</th>\n",
       "      <th>P25</th>\n",
       "      <th>P26</th>\n",
       "      <th>P27</th>\n",
       "      <th>P28</th>\n",
       "      <th>P29</th>\n",
       "      <th>P30</th>\n",
       "      <th>classificn</th>\n",
       "    </tr>\n",
       "  </thead>\n",
       "  <tbody>\n",
       "    <tr>\n",
       "      <th>0</th>\n",
       "      <td>abacavir</td>\n",
       "      <td>-1.444762</td>\n",
       "      <td>-0.649513</td>\n",
       "      <td>-0.062304</td>\n",
       "      <td>-0.644003</td>\n",
       "      <td>-0.315813</td>\n",
       "      <td>0.012594</td>\n",
       "      <td>-0.065045</td>\n",
       "      <td>-0.231388</td>\n",
       "      <td>-0.150218</td>\n",
       "      <td>...</td>\n",
       "      <td>0.123063</td>\n",
       "      <td>1.036630</td>\n",
       "      <td>0.139326</td>\n",
       "      <td>0.812508</td>\n",
       "      <td>0.420413</td>\n",
       "      <td>0.753550</td>\n",
       "      <td>-0.256332</td>\n",
       "      <td>0.046677</td>\n",
       "      <td>-0.172548</td>\n",
       "      <td>1</td>\n",
       "    </tr>\n",
       "    <tr>\n",
       "      <th>1</th>\n",
       "      <td>acetaminophen</td>\n",
       "      <td>-0.309496</td>\n",
       "      <td>0.169900</td>\n",
       "      <td>1.727844</td>\n",
       "      <td>0.772510</td>\n",
       "      <td>0.539620</td>\n",
       "      <td>0.242570</td>\n",
       "      <td>1.063954</td>\n",
       "      <td>0.103382</td>\n",
       "      <td>2.772589</td>\n",
       "      <td>...</td>\n",
       "      <td>-0.390303</td>\n",
       "      <td>0.080579</td>\n",
       "      <td>2.855425</td>\n",
       "      <td>0.421643</td>\n",
       "      <td>-1.936300</td>\n",
       "      <td>0.543964</td>\n",
       "      <td>-1.354443</td>\n",
       "      <td>-0.605531</td>\n",
       "      <td>1.300690</td>\n",
       "      <td>1</td>\n",
       "    </tr>\n",
       "    <tr>\n",
       "      <th>2</th>\n",
       "      <td>acitretin</td>\n",
       "      <td>-1.094369</td>\n",
       "      <td>-0.538019</td>\n",
       "      <td>-0.072097</td>\n",
       "      <td>-0.580733</td>\n",
       "      <td>-0.549017</td>\n",
       "      <td>0.599654</td>\n",
       "      <td>0.123163</td>\n",
       "      <td>0.000038</td>\n",
       "      <td>-0.445833</td>\n",
       "      <td>...</td>\n",
       "      <td>0.466004</td>\n",
       "      <td>0.560191</td>\n",
       "      <td>-0.549604</td>\n",
       "      <td>-0.431520</td>\n",
       "      <td>0.592038</td>\n",
       "      <td>-0.583815</td>\n",
       "      <td>-0.571781</td>\n",
       "      <td>0.117369</td>\n",
       "      <td>-0.187685</td>\n",
       "      <td>1</td>\n",
       "    </tr>\n",
       "    <tr>\n",
       "      <th>3</th>\n",
       "      <td>albendazole</td>\n",
       "      <td>-0.558443</td>\n",
       "      <td>1.035149</td>\n",
       "      <td>-1.156281</td>\n",
       "      <td>-0.551930</td>\n",
       "      <td>-0.480370</td>\n",
       "      <td>0.652524</td>\n",
       "      <td>-0.503921</td>\n",
       "      <td>0.271689</td>\n",
       "      <td>-0.043037</td>\n",
       "      <td>...</td>\n",
       "      <td>0.037598</td>\n",
       "      <td>-0.110890</td>\n",
       "      <td>-1.228410</td>\n",
       "      <td>1.093255</td>\n",
       "      <td>1.857060</td>\n",
       "      <td>-0.180542</td>\n",
       "      <td>-0.610346</td>\n",
       "      <td>-0.250679</td>\n",
       "      <td>0.792903</td>\n",
       "      <td>1</td>\n",
       "    </tr>\n",
       "    <tr>\n",
       "      <th>4</th>\n",
       "      <td>alclofenac</td>\n",
       "      <td>-1.414305</td>\n",
       "      <td>-0.912262</td>\n",
       "      <td>0.019345</td>\n",
       "      <td>-0.169191</td>\n",
       "      <td>-0.357133</td>\n",
       "      <td>-0.014595</td>\n",
       "      <td>-0.369297</td>\n",
       "      <td>0.662525</td>\n",
       "      <td>0.078874</td>\n",
       "      <td>...</td>\n",
       "      <td>0.457491</td>\n",
       "      <td>1.342014</td>\n",
       "      <td>0.192954</td>\n",
       "      <td>-0.250706</td>\n",
       "      <td>0.105768</td>\n",
       "      <td>0.190462</td>\n",
       "      <td>-0.563103</td>\n",
       "      <td>-0.608185</td>\n",
       "      <td>0.379748</td>\n",
       "      <td>1</td>\n",
       "    </tr>\n",
       "  </tbody>\n",
       "</table>\n",
       "<p>5 rows × 32 columns</p>\n",
       "</div>"
      ],
      "text/plain": [
       "            chnm        P1        P2        P3        P4        P5        P6  \\\n",
       "0       abacavir -1.444762 -0.649513 -0.062304 -0.644003 -0.315813  0.012594   \n",
       "1  acetaminophen -0.309496  0.169900  1.727844  0.772510  0.539620  0.242570   \n",
       "2      acitretin -1.094369 -0.538019 -0.072097 -0.580733 -0.549017  0.599654   \n",
       "3    albendazole -0.558443  1.035149 -1.156281 -0.551930 -0.480370  0.652524   \n",
       "4     alclofenac -1.414305 -0.912262  0.019345 -0.169191 -0.357133 -0.014595   \n",
       "\n",
       "         P7        P8        P9     ...           P22       P23       P24  \\\n",
       "0 -0.065045 -0.231388 -0.150218     ...      0.123063  1.036630  0.139326   \n",
       "1  1.063954  0.103382  2.772589     ...     -0.390303  0.080579  2.855425   \n",
       "2  0.123163  0.000038 -0.445833     ...      0.466004  0.560191 -0.549604   \n",
       "3 -0.503921  0.271689 -0.043037     ...      0.037598 -0.110890 -1.228410   \n",
       "4 -0.369297  0.662525  0.078874     ...      0.457491  1.342014  0.192954   \n",
       "\n",
       "        P25       P26       P27       P28       P29       P30  classificn  \n",
       "0  0.812508  0.420413  0.753550 -0.256332  0.046677 -0.172548           1  \n",
       "1  0.421643 -1.936300  0.543964 -1.354443 -0.605531  1.300690           1  \n",
       "2 -0.431520  0.592038 -0.583815 -0.571781  0.117369 -0.187685           1  \n",
       "3  1.093255  1.857060 -0.180542 -0.610346 -0.250679  0.792903           1  \n",
       "4 -0.250706  0.105768  0.190462 -0.563103 -0.608185  0.379748           1  \n",
       "\n",
       "[5 rows x 32 columns]"
      ]
     },
     "execution_count": 9,
     "metadata": {},
     "output_type": "execute_result"
    },
    {
     "data": {
      "text/plain": [
       "chnm          0\n",
       "P1            0\n",
       "P2            0\n",
       "P3            0\n",
       "P4            0\n",
       "P5            0\n",
       "P6            0\n",
       "P7            0\n",
       "P8            0\n",
       "P9            0\n",
       "P10           0\n",
       "P11           0\n",
       "P12           0\n",
       "P13           0\n",
       "P14           0\n",
       "P15           0\n",
       "P16           0\n",
       "P17           0\n",
       "P18           0\n",
       "P19           0\n",
       "P20           0\n",
       "P21           0\n",
       "P22           0\n",
       "P23           0\n",
       "P24           0\n",
       "P25           0\n",
       "P26           0\n",
       "P27           0\n",
       "P28           0\n",
       "P29           0\n",
       "P30           0\n",
       "classificn    0\n",
       "dtype: int64"
      ]
     },
     "execution_count": 9,
     "metadata": {},
     "output_type": "execute_result"
    }
   ],
   "source": [
    "mc_tc.head()\n",
    "mc_tc.isnull().sum()#no null values in dataframe"
   ]
  },
  {
   "cell_type": "markdown",
   "metadata": {},
   "source": [
    "### Exploratory data analysis (EDA)\n",
    "\n",
    "EDA will be done on two datasets: <br>\n",
    "a) mc_scaled (to visualize correlations between Minjun Chen's variables with classification) and <br>\n",
    "b) mc_tc dataframe (to visualize correlation of \"all\" variables - Minjun's variables and ToxCast variables with classification).  \n",
    "\n",
    "Because EDA of mc_tc data frame will also include variables present in tc dataframe, no additional EDA will be performed explicitly on tc dataframe"
   ]
  },
  {
   "cell_type": "code",
   "execution_count": 10,
   "metadata": {},
   "outputs": [],
   "source": [
    "# EDA using pandas profiling on mc (Minjun Chen variables)    \n",
    "report = pandas_profiling.ProfileReport(mc)\n",
    "\n",
    "#convert profile report as html file\n",
    "report.to_file(\"mc.html\")   \n",
    "    #some variables - as published (Chen M et al., 2016 Hepatol) - have stronger correlations with classification of 1 (eg: reactive metabolites, Cmax, logP)\n",
    "    #relationship of Cmax is stronger than than of daily dose; negative relationship between MW and classification of 1"
   ]
  },
  {
   "cell_type": "code",
   "execution_count": 11,
   "metadata": {},
   "outputs": [],
   "source": [
    "# EDA using pandas_profiling on mc_tc (Minjun Chen variables + ToxCast variables)\n",
    "report = pandas_profiling.ProfileReport(mc_tc)\n",
    "\n",
    "#convert profile report as html file\n",
    "report.to_file(\"mc_tc.html\")   #some of the principal components have significant correlations with \"classification\""
   ]
  },
  {
   "cell_type": "markdown",
   "metadata": {},
   "source": [
    "### Data preparation for ML\n",
    "\n",
    "Step1: Assemble dataframes \"x\" (contains all predictors) and \"y\" from each of the datasets to be used for modeling: mc, tc, mc_tc"
   ]
  },
  {
   "cell_type": "code",
   "execution_count": 12,
   "metadata": {},
   "outputs": [],
   "source": [
    "#Create \"x\" consisting of all independent variables from each of the dataframes (mc, tc, mc_tc) to be used for modeling\n",
    "\n",
    "mc_num=mc.select_dtypes(include=[np.number])\n",
    "x_mc=mc_num.drop([\"classificn\"], axis=1)\n",
    "\n",
    "tc_num=tc.select_dtypes(include=[np.number])\n",
    "x_tc=tc_num.drop([\"classificn\"], axis=1)\n",
    "\n",
    "mc_tc_num=mc_tc.select_dtypes(include=[np.number])\n",
    "x_mc_tc=mc_tc_num.drop([\"classificn\"], axis=1)"
   ]
  },
  {
   "cell_type": "code",
   "execution_count": 13,
   "metadata": {},
   "outputs": [
    {
     "data": {
      "text/plain": [
       "True"
      ]
     },
     "execution_count": 13,
     "metadata": {},
     "output_type": "execute_result"
    },
    {
     "data": {
      "text/plain": [
       "True"
      ]
     },
     "execution_count": 13,
     "metadata": {},
     "output_type": "execute_result"
    },
    {
     "data": {
      "text/plain": [
       "True"
      ]
     },
     "execution_count": 13,
     "metadata": {},
     "output_type": "execute_result"
    },
    {
     "data": {
      "text/plain": [
       "0    115\n",
       "1     60\n",
       "Name: classificn, dtype: int64"
      ]
     },
     "execution_count": 13,
     "metadata": {},
     "output_type": "execute_result"
    }
   ],
   "source": [
    "#create \"y\" consisting of outcome/target variable from each of the dataframes (mc, tc, mc_tc) to be used for modeling\n",
    "\n",
    "y_mc=mc_num[\"classificn\"] \n",
    "y_tc=tc_num[\"classificn\"]\n",
    "y_mc_tc=mc_tc_num[\"classificn\"]\n",
    "\n",
    "#check to make sure all datasets are equivalent for classification column\n",
    "y_mc.equals(y_tc)\n",
    "y_mc.equals(y_mc_tc)\n",
    "y_tc.equals(y_mc_tc)\n",
    "\n",
    "#breakdown of mostDILI drugs vs other drugs\n",
    "y_mc.value_counts()#60 drugs are labeled as \"mostDILI\" and 115 drugs as \"other\""
   ]
  },
  {
   "cell_type": "markdown",
   "metadata": {},
   "source": [
    "Step2: Create test/train split of data"
   ]
  },
  {
   "cell_type": "code",
   "execution_count": 14,
   "metadata": {},
   "outputs": [],
   "source": [
    "import sklearn\n",
    "from sklearn.model_selection import train_test_split\n",
    "from sklearn import metrics"
   ]
  },
  {
   "cell_type": "code",
   "execution_count": 15,
   "metadata": {},
   "outputs": [
    {
     "data": {
      "text/plain": [
       "True"
      ]
     },
     "execution_count": 15,
     "metadata": {},
     "output_type": "execute_result"
    },
    {
     "data": {
      "text/plain": [
       "True"
      ]
     },
     "execution_count": 15,
     "metadata": {},
     "output_type": "execute_result"
    }
   ],
   "source": [
    "## test train stratified split at 40:60 ratio (maintains ratio of mostDILI drugs:other drugs)\n",
    "# allows for testing on 24 \"mostDILI\" and training on 36 \"mostDILI\" drugs\n",
    "train_mcx, test_mcx, train_mcy, test_mcy = train_test_split(x_mc,y_mc, stratify=y_mc, test_size=0.4, random_state=45)\n",
    "\n",
    "train_tcx, test_tcx, train_tcy, test_tcy = train_test_split(x_tc,y_tc, stratify=y_tc, test_size=0.4, random_state=45)\n",
    "\n",
    "train_mctcx, test_mctcx, train_mctcy, test_mctcy = train_test_split(x_mc_tc,y_mc_tc, stratify=y_mc_tc, test_size=0.4, random_state=45)\n",
    "\n",
    "#confirm that test datasets are same across all splits\n",
    "test_mctcy.equals(test_tcy)\n",
    "test_mcy.equals(test_tcy)"
   ]
  },
  {
   "cell_type": "markdown",
   "metadata": {},
   "source": [
    "### Logistic regression modeling\n",
    "\n",
    "With an aim to determine, what value - if any, do variables derived from Toxcast targets/pathways, have on ability to model for \"mostDILI\" drugs, 3 instances of logistic regression will be created for modeling against each dataset (i.e., without test/train split).\n",
    "\n",
    "10-fold cross validation will be carried out and the accuracy +/- standard deviation determined for each model.\n",
    "\n",
    "Subsequently, each dataset will also be partitioned via test-train split (stratified sampling) and evaluated via ROC curves against each other.  Models may be refined further via tweaking of thresholds to increase sensitivity."
   ]
  },
  {
   "cell_type": "code",
   "execution_count": 16,
   "metadata": {},
   "outputs": [],
   "source": [
    "### Instantiate logistic regression model\n",
    "from sklearn.linear_model import LogisticRegression\n",
    "\n",
    "log_mc=LogisticRegression()\n",
    "log_tc=LogisticRegression()\n",
    "log_mctc=LogisticRegression()"
   ]
  },
  {
   "cell_type": "markdown",
   "metadata": {},
   "source": [
    "#### Performance of models using 3-fold cross-validation"
   ]
  },
  {
   "cell_type": "code",
   "execution_count": 17,
   "metadata": {},
   "outputs": [
    {
     "name": "stdout",
     "output_type": "stream",
     "text": [
      "Accuracy: 3-fold cross validation scores on logistic regression using mc (Chen M et al., 2016 Hepatol) variables\n",
      "[0.66101695 0.67241379 0.68965517]\n",
      "Accuracy mean: 0.6743619715565946 Accuracy standard deviation: 0.011772383144582883\n",
      "\n",
      "Accuracy: 3-fold cross validation scores on logistic regression using tc (ToxCast targets/pathways) variables\n",
      "[0.6440678  0.60344828 0.68965517]\n",
      "Accuracy mean: 0.6457237482953438 Accuracy standard deviation: 0.03521329185840335\n",
      "\n",
      "Accuracy: 3-fold cross validation scores on logistic regression using combined mc and tc (Chen M et al, 2016 Hepatol and ToxCast) variables\n",
      "[0.74576271 0.67241379 0.68965517]\n",
      "Accuracy mean: 0.702610559127216 Accuracy standard deviation: 0.03131450680351599\n"
     ]
    }
   ],
   "source": [
    "from sklearn.model_selection import cross_val_score\n",
    "\n",
    "log_accuracy_scores_mc = cross_val_score(log_mc, x_mc, y_mc, cv=3, scoring='accuracy')\n",
    "print(\"Accuracy: 3-fold cross validation scores on logistic regression using mc (Chen M et al., 2016 Hepatol) variables\")\n",
    "print(log_accuracy_scores_mc)\n",
    "print(\"Accuracy mean: \" +str(log_accuracy_scores_mc.mean()), \"Accuracy standard deviation: \" + str(log_accuracy_scores_mc.std()))\n",
    "print(\"\")\n",
    "\n",
    "log_accuracy_scores_tc = cross_val_score(log_tc, x_tc, y_tc, cv=3, scoring='accuracy')\n",
    "print(\"Accuracy: 3-fold cross validation scores on logistic regression using tc (ToxCast targets/pathways) variables\")\n",
    "print(log_accuracy_scores_tc)\n",
    "print(\"Accuracy mean: \" +str(log_accuracy_scores_tc.mean()), \"Accuracy standard deviation: \" + str(log_accuracy_scores_tc.std()))\n",
    "print(\"\")\n",
    "\n",
    "log_accuracy_scores_mctc = cross_val_score(log_mctc, x_mc_tc, y_mc_tc, cv=3, scoring='accuracy')\n",
    "print(\"Accuracy: 3-fold cross validation scores on logistic regression using combined mc and tc (Chen M et al, 2016 Hepatol and ToxCast) variables\")\n",
    "print(log_accuracy_scores_mctc)\n",
    "print(\"Accuracy mean: \" +str(log_accuracy_scores_mctc.mean()), \"Accuracy standard deviation: \" + str(log_accuracy_scores_mctc.std()))"
   ]
  },
  {
   "cell_type": "code",
   "execution_count": 18,
   "metadata": {},
   "outputs": [
    {
     "data": {
      "text/plain": [
       "(0.6861343547011775, 0.6625895884120118, 0.733925065930732, 0.6712960523237)"
      ]
     },
     "execution_count": 18,
     "metadata": {},
     "output_type": "execute_result"
    }
   ],
   "source": [
    "log_mc_acc_ul=log_accuracy_scores_mc.mean()+log_accuracy_scores_mc.std()\n",
    "log_mc_acc_ll=log_accuracy_scores_mc.mean()-log_accuracy_scores_mc.std()\n",
    "\n",
    "log_mctc_acc_ul=log_accuracy_scores_mctc.mean()+log_accuracy_scores_mctc.std()\n",
    "log_mctc_acc_ll=log_accuracy_scores_mctc.mean()-log_accuracy_scores_mctc.std()\n",
    "\n",
    "log_mc_acc_ul, log_mc_acc_ll, log_mctc_acc_ul, log_mctc_acc_ll"
   ]
  },
  {
   "cell_type": "markdown",
   "metadata": {},
   "source": [
    "Conclusion: borderline improvement in model accuracy by addition of toxcast variables. However, there may still be an effect on other performance characteristics such as precision/recall."
   ]
  },
  {
   "cell_type": "markdown",
   "metadata": {},
   "source": [
    "#### Performance of models using test-train split"
   ]
  },
  {
   "cell_type": "code",
   "execution_count": 19,
   "metadata": {},
   "outputs": [
    {
     "data": {
      "text/plain": [
       "LogisticRegression(C=1.0, class_weight=None, dual=False, fit_intercept=True,\n",
       "          intercept_scaling=1, max_iter=100, multi_class='ovr', n_jobs=1,\n",
       "          penalty='l2', random_state=None, solver='liblinear', tol=0.0001,\n",
       "          verbose=0, warm_start=False)"
      ]
     },
     "execution_count": 19,
     "metadata": {},
     "output_type": "execute_result"
    },
    {
     "data": {
      "text/plain": [
       "LogisticRegression(C=1.0, class_weight=None, dual=False, fit_intercept=True,\n",
       "          intercept_scaling=1, max_iter=100, multi_class='ovr', n_jobs=1,\n",
       "          penalty='l2', random_state=None, solver='liblinear', tol=0.0001,\n",
       "          verbose=0, warm_start=False)"
      ]
     },
     "execution_count": 19,
     "metadata": {},
     "output_type": "execute_result"
    },
    {
     "data": {
      "text/plain": [
       "LogisticRegression(C=1.0, class_weight=None, dual=False, fit_intercept=True,\n",
       "          intercept_scaling=1, max_iter=100, multi_class='ovr', n_jobs=1,\n",
       "          penalty='l2', random_state=None, solver='liblinear', tol=0.0001,\n",
       "          verbose=0, warm_start=False)"
      ]
     },
     "execution_count": 19,
     "metadata": {},
     "output_type": "execute_result"
    }
   ],
   "source": [
    "###fit logistic regression model \n",
    "log_mc.fit(train_mcx, train_mcy)\n",
    "log_tc.fit(train_tcx, train_tcy)\n",
    "log_mctc.fit(train_mctcx, train_mctcy)"
   ]
  },
  {
   "cell_type": "markdown",
   "metadata": {},
   "source": [
    "#### Performance of models using test-train split"
   ]
  },
  {
   "cell_type": "code",
   "execution_count": 20,
   "metadata": {},
   "outputs": [],
   "source": [
    "### Using logistic regression model fitted using variables from Chen et al (mc), predict test values and probabilities  mc\n",
    "log_pred_mcy=log_mc.predict(test_mcx) \n",
    "log_probs_mcy=log_mc.predict_proba(test_mcx) \n",
    "\n",
    "### Using logistic regression model fitted using variables from ToxCast (tc), predict test values and probabilities  mc\n",
    "log_pred_tcy=log_tc.predict(test_tcx) \n",
    "log_probs_tcy=log_tc.predict_proba(test_tcx) \n",
    "\n",
    "\n",
    "### Using logistic regression model fitted using variables from Chen et al & ToxCast (mctc), predict test values and probabilities  mc\n",
    "log_pred_mctcy=log_mctc.predict(test_mctcx) \n",
    "log_probs_mctcy=log_mctc.predict_proba(test_mctcx) \n",
    "   "
   ]
  },
  {
   "cell_type": "code",
   "execution_count": 21,
   "metadata": {},
   "outputs": [
    {
     "data": {
      "image/png": "[encoded data removed]",
      "text/plain": [
       "<Figure size 1600x200 with 6 Axes>"
      ]
     },
     "metadata": {},
     "output_type": "display_data"
    }
   ],
   "source": [
    "### Confusion Matrix\n",
    "log_cfm_mc=metrics.confusion_matrix(test_mcy, log_pred_mcy)\n",
    "log_cfm_tc=metrics.confusion_matrix(test_tcy, log_pred_tcy)\n",
    "log_cfm_mctc=metrics.confusion_matrix(test_mctcy, log_pred_mctcy)\n",
    "\n",
    "fig, (ax1, ax2, ax3) = plt.subplots(1,3, figsize=(16,2))\n",
    "\n",
    "lbl1=[\"Predicted 0\", \"Predicted 1\"]\n",
    "lbl2=[\"Actual 0\", \"Actual 1\"]\n",
    "\n",
    "sns.heatmap(log_cfm_mc, annot=True, cmap=\"Blues\", fmt=\"d\", xticklabels=lbl1, yticklabels=lbl2, ax=ax1)\n",
    "sns.heatmap(log_cfm_tc, annot=True, cmap=\"Blues\", fmt=\"d\", xticklabels=lbl1, yticklabels=lbl2, ax=ax2)\n",
    "sns.heatmap(log_cfm_mctc, annot=True, cmap=\"Blues\", fmt=\"d\", xticklabels=lbl1, yticklabels=lbl2, ax=ax3)\n",
    "\n",
    "\n",
    "fig.suptitle(\"Confusion matrices for logistic regression model with mc variables alone (left), tc variables alone (middle), or mc and tc variables combined(right)\", y=1.1);\n"
   ]
  },
  {
   "cell_type": "code",
   "execution_count": 22,
   "metadata": {},
   "outputs": [
    {
     "name": "stdout",
     "output_type": "stream",
     "text": [
      "precision_recall for model with mc variables alone\n",
      "             precision    recall  f1-score   support\n",
      "\n",
      "          0       0.70      0.91      0.79        46\n",
      "          1       0.60      0.25      0.35        24\n",
      "\n",
      "avg / total       0.67      0.69      0.64        70\n",
      "\n",
      "precision_recall for model with tc variables alone\n",
      "             precision    recall  f1-score   support\n",
      "\n",
      "          0       0.75      0.89      0.81        46\n",
      "          1       0.67      0.42      0.51        24\n",
      "\n",
      "avg / total       0.72      0.73      0.71        70\n",
      "\n",
      "precision_recall for model with mc&tc variables combined\n",
      "             precision    recall  f1-score   support\n",
      "\n",
      "          0       0.75      0.83      0.78        46\n",
      "          1       0.58      0.46      0.51        24\n",
      "\n",
      "avg / total       0.69      0.70      0.69        70\n",
      "\n"
     ]
    }
   ],
   "source": [
    "### Precision, Recall\n",
    "log_cr_mc=metrics.classification_report(test_mcy, log_pred_mcy)\n",
    "log_cr_tc=metrics.classification_report(test_tcy, log_pred_tcy)\n",
    "log_cr_mctc=metrics.classification_report(test_mctcy, log_pred_mctcy)\n",
    "print(\"precision_recall for model with mc variables alone\")\n",
    "print(log_cr_mc)\n",
    "print(\"precision_recall for model with tc variables alone\")\n",
    "print(log_cr_tc)\n",
    "print(\"precision_recall for model with mc&tc variables combined\")\n",
    "print(log_cr_mctc)"
   ]
  },
  {
   "cell_type": "code",
   "execution_count": 23,
   "metadata": {},
   "outputs": [],
   "source": [
    "#calculate values to populate ROC curve\n",
    "from sklearn.metrics import roc_curve\n",
    "\n",
    "log_fpr_mc,log_tpr_mc, log_thresholds_mc=roc_curve(test_mcy, log_probs_mcy[:, 1])\n",
    "log_roc_auc_mc=metrics.auc(log_fpr_mc, log_tpr_mc)\n",
    "\n",
    "log_fpr_tc,log_tpr_tc, log_thresholds_tc=roc_curve(test_tcy, log_probs_tcy[:, 1])\n",
    "log_roc_auc_tc=metrics.auc(log_fpr_tc, log_tpr_tc)\n",
    "\n",
    "log_fpr_mctc,log_tpr_mctc, log_thresholds_mctc=roc_curve(test_mctcy, log_probs_mctcy[:, 1])\n",
    "log_roc_auc_mctc=metrics.auc(log_fpr_mctc, log_tpr_mctc)\n",
    "\n",
    "#Calculate values to populate precision-recall curve\n",
    "from sklearn.metrics import precision_recall_curve\n",
    "\n",
    "log_precision_mc, log_recall_mc, log_thresholds_mc = precision_recall_curve(test_mcy, log_probs_mcy[:, 1]) #retrieve probability of being 1(in second column of probs_y)\n",
    "log_pr_auc_mc = metrics.auc(log_recall_mc, log_precision_mc)\n",
    "\n",
    "log_precision_tc, log_recall_tc, log_thresholds_tc = precision_recall_curve(test_tcy, log_probs_tcy[:, 1]) #retrieve probability of being 1(in second column of probs_y)\n",
    "log_pr_auc_tc = metrics.auc(log_recall_tc, log_precision_tc)\n",
    "\n",
    "log_precision_mctc, log_recall_mctc, log_thresholds_tc = precision_recall_curve(test_mctcy, log_probs_mctcy[:, 1]) #retrieve probability of being 1(in second column of probs_y)\n",
    "log_pr_auc_mctc = metrics.auc(log_recall_mctc, log_precision_mctc)\n"
   ]
  },
  {
   "cell_type": "code",
   "execution_count": 24,
   "metadata": {},
   "outputs": [
    {
     "data": {
      "image/png": "[encoded data removed]",
      "text/plain": [
       "<Figure size 1200x300 with 2 Axes>"
      ]
     },
     "metadata": {},
     "output_type": "display_data"
    }
   ],
   "source": [
    "fig = plt.figure()\n",
    "fig.set_figheight(3)\n",
    "fig.set_figwidth(12)\n",
    "\n",
    "axes = fig.add_subplot(121)\n",
    "\n",
    "plt.title(\"ROC chart\")\n",
    "plt.plot(log_fpr_mc, log_tpr_mc, 'r', label='log_AUC_mc =%0.2f'% log_roc_auc_mc)\n",
    "plt.plot(log_fpr_tc, log_tpr_tc, 'g', label='log_AUC_tc =%0.2f'% log_roc_auc_tc)\n",
    "plt.plot(log_fpr_mctc, log_tpr_mctc, 'b', label='log_AUC_mctc =%0.2f'% log_roc_auc_mctc)\n",
    "plt.legend(loc='lower right')\n",
    "plt.plot([0,1], [0,1], 'o--')\n",
    "plt.axis([0,1, 0,1])\n",
    "plt.ylabel(\"True Positive Rate\")\n",
    "plt.xlabel(\"False Positive Rate\")\n",
    "\n",
    "\n",
    "axes = fig.add_subplot(122)\n",
    "plt.title(\"Precision versus Recall chart\")\n",
    "plt.plot(log_recall_mc, log_precision_mc, \"r\", label = 'log_pr_auc_mc=%.1f' % (log_pr_auc_mc))\n",
    "plt.plot(log_recall_tc, log_precision_tc, \"g\", label = 'log_pr_auc_tc=%.1f' % (log_pr_auc_tc))\n",
    "plt.plot(log_recall_mctc, log_precision_mctc, \"b\", label = 'log_pr_auc_mctc=%.1f' % (log_pr_auc_mctc))\n",
    "plt.legend(loc='lower left')\n",
    "plt.ylabel(\"Precision\")\n",
    "plt.xlabel(\"Recall\")\n",
    "plt.show();"
   ]
  },
  {
   "cell_type": "markdown",
   "metadata": {},
   "source": [
    "**Conclusion:** When logistic regression is used without \"weighting\" for classes based on their relative abundance, current predictors in FDA model perform extremely well for correct classification of \"other\" drugs (i.e., non-mostDILI classification).  By contrast, they perform poorly for classification of \"mostDILI\" drugs showing a sensitivity ~25% (at default thresholds of sklearn)\n",
    "    \n",
    "ToxCast variables by themselves, or in combination with current predictors in FDA model enhance logistic regression model sensivity (recall) and precision, under the same thresholds. \n",
    "\n",
    "Under optimal thresholds, incorporation of ToxCast variables allows to correctly identify >60% of \"mostDILI\" drugs at a false positive rate of <=20%\n"
   ]
  },
  {
   "cell_type": "markdown",
   "metadata": {},
   "source": []
  },
  {
   "cell_type": "code",
   "execution_count": null,
   "metadata": {},
   "outputs": [],
   "source": []
  }
 ],
 "metadata": {
  "kernelspec": {
   "display_name": "Python 3",
   "language": "python",
   "name": "python3"
  },
  "language_info": {
   "codemirror_mode": {
    "name": "ipython",
    "version": 3
   },
   "file_extension": ".py",
   "mimetype": "text/x-python",
   "name": "python",
   "nbconvert_exporter": "python",
   "pygments_lexer": "ipython3",
   "version": "3.6.4"
  }
 },
 "nbformat": 4,
 "nbformat_minor": 2
}
