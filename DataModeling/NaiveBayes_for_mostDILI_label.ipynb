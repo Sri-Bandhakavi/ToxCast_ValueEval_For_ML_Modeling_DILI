{
 "cells": [
  {
   "cell_type": "markdown",
   "metadata": {},
   "source": [
    "### Aim:\n",
    "\n",
    "In this notebook, naive bayes algorithm will be used to evaluate what additive effect (if any) ToxCast targets provide *for predicting mostDILI drugs* - when compared to existing predictors currently used in the field (eg: Chen M et al., 2016 Hepatol, Shah F et al., 2015 Toxicol Sci).\n",
    "\n",
    "As before, same test/train data is used for this modeling to allow for comparison of model performance against alternative algorithms employed in separate notebooks."
   ]
  },
  {
   "cell_type": "code",
   "execution_count": 19,
   "metadata": {},
   "outputs": [],
   "source": [
    "import pandas as pd\n",
    "import numpy as np\n",
    "import seaborn as sns\n",
    "\n",
    "from matplotlib import pyplot as plt\n",
    "plt.style.use('seaborn') \n",
    "\n",
    "%matplotlib inline\n",
    "\n",
    "import pandas_profiling"
   ]
  },
  {
   "cell_type": "code",
   "execution_count": 20,
   "metadata": {},
   "outputs": [],
   "source": [
    "#magic command to print all output instead of only last line\n",
    "from IPython.core.interactiveshell import InteractiveShell\n",
    "InteractiveShell.ast_node_interactivity = \"all\""
   ]
  },
  {
   "cell_type": "markdown",
   "metadata": {},
   "source": [
    "### Read-in datasets, prepare data for ML\n",
    "\n",
    "All datasets have been previously treated for missing values and dummy coding of categorical variables(reactive_metabolites, classificn, and ~216 toxcast targets).\n",
    "Output/target/Y variable for modeling purposes is \"classificn\" (1=\"mostDILI\", 0 = \"other\" which includes lessDILI/ambiDILI/noDILI). <br>\n",
    "\n",
    "In this notebook, same datasets previosuly used for logistic regression modeling will be imported. No EDA will be performed as the datasetts are identical to those previously used and EDA has already been done within the notebook using logistic regression as initial model.\n",
    "\n",
    "Data once imported will be transformed into feature dataset (\"X\") and label dataset (\"Y\") and further split using stratified sampling with call to test train split function. For allowing to compare results from logistic regression, same random state will be used as before."
   ]
  },
  {
   "cell_type": "code",
   "execution_count": 21,
   "metadata": {},
   "outputs": [],
   "source": [
    "mc = pd.read_csv(\"mc_scaled_labeled.csv\")\n",
    "tc = pd.read_csv(\"tc_pca_labeled.csv\")\n",
    "mc_tc=pd.read_csv(\"mctc_pca_labeled.csv\")"
   ]
  },
  {
   "cell_type": "code",
   "execution_count": 22,
   "metadata": {},
   "outputs": [],
   "source": [
    "#Create \"x\" consisting of all independent variables from each of the dataframes (mc, tc, mc_tc) to be used for modeling\n",
    "\n",
    "mc_num=mc.select_dtypes(include=[np.number])\n",
    "x_mc=mc_num.drop([\"classificn\"], axis=1)\n",
    "\n",
    "tc_num=tc.select_dtypes(include=[np.number])\n",
    "x_tc=tc_num.drop([\"classificn\"], axis=1)\n",
    "\n",
    "mc_tc_num=mc_tc.select_dtypes(include=[np.number])\n",
    "x_mc_tc=mc_tc_num.drop([\"classificn\"], axis=1)"
   ]
  },
  {
   "cell_type": "code",
   "execution_count": 23,
   "metadata": {},
   "outputs": [
    {
     "data": {
      "text/plain": [
       "True"
      ]
     },
     "execution_count": 23,
     "metadata": {},
     "output_type": "execute_result"
    },
    {
     "data": {
      "text/plain": [
       "True"
      ]
     },
     "execution_count": 23,
     "metadata": {},
     "output_type": "execute_result"
    },
    {
     "data": {
      "text/plain": [
       "True"
      ]
     },
     "execution_count": 23,
     "metadata": {},
     "output_type": "execute_result"
    },
    {
     "data": {
      "text/plain": [
       "0    115\n",
       "1     60\n",
       "Name: classificn, dtype: int64"
      ]
     },
     "execution_count": 23,
     "metadata": {},
     "output_type": "execute_result"
    }
   ],
   "source": [
    "#create \"y\" consisting of outcome/target variable from each of the dataframes (mc, tc, mc_tc) to be used for modeling\n",
    "\n",
    "y_mc=mc_num[\"classificn\"] \n",
    "y_tc=tc_num[\"classificn\"]\n",
    "y_mc_tc=mc_tc_num[\"classificn\"]\n",
    "\n",
    "#check to make sure all datasets are equivalent for classification column\n",
    "y_mc.equals(y_tc)\n",
    "y_mc.equals(y_mc_tc)\n",
    "y_tc.equals(y_mc_tc)\n",
    "\n",
    "#breakdown of mostDILI drugs vs other drugs\n",
    "y_mc.value_counts()#60 drugs are labeled as \"mostDILI\" and 115 drugs as \"other\""
   ]
  },
  {
   "cell_type": "code",
   "execution_count": 24,
   "metadata": {},
   "outputs": [
    {
     "data": {
      "text/plain": [
       "True"
      ]
     },
     "execution_count": 24,
     "metadata": {},
     "output_type": "execute_result"
    },
    {
     "data": {
      "text/plain": [
       "True"
      ]
     },
     "execution_count": 24,
     "metadata": {},
     "output_type": "execute_result"
    },
    {
     "data": {
      "text/plain": [
       "0    69\n",
       "1    36\n",
       "Name: classificn, dtype: int64"
      ]
     },
     "execution_count": 24,
     "metadata": {},
     "output_type": "execute_result"
    }
   ],
   "source": [
    "import sklearn\n",
    "from sklearn.model_selection import train_test_split\n",
    "from sklearn import metrics\n",
    "\n",
    "## test train stratified split at 40:60 ratio (maintains ratio of mostDILI drugs:other drugs)\n",
    "# allows for testing on 24 \"mostDILI\" and training on 36 \"mostDILI\" drugs\n",
    "train_mcx, test_mcx, train_mcy, test_mcy = train_test_split(x_mc,y_mc, stratify=y_mc, test_size=0.4, random_state=45)\n",
    "\n",
    "train_tcx, test_tcx, train_tcy, test_tcy = train_test_split(x_tc,y_tc, stratify=y_tc, test_size=0.4, random_state=45)\n",
    "\n",
    "train_mctcx, test_mctcx, train_mctcy, test_mctcy = train_test_split(x_mc_tc,y_mc_tc, stratify=y_mc_tc, test_size=0.4, random_state=45)\n",
    "\n",
    "#confirm that test datasets are same across all splits\n",
    "test_mctcy.equals(test_tcy)\n",
    "test_mcy.equals(test_tcy)\n",
    "\n",
    "#train data distribution of 1's vs 0's\n",
    "train_mcy.value_counts()"
   ]
  },
  {
   "cell_type": "code",
   "execution_count": 25,
   "metadata": {},
   "outputs": [
    {
     "data": {
      "text/html": [
       "<div>\n",
       "<style scoped>\n",
       "    .dataframe tbody tr th:only-of-type {\n",
       "        vertical-align: middle;\n",
       "    }\n",
       "\n",
       "    .dataframe tbody tr th {\n",
       "        vertical-align: top;\n",
       "    }\n",
       "\n",
       "    .dataframe thead th {\n",
       "        text-align: right;\n",
       "    }\n",
       "</style>\n",
       "<table border=\"1\" class=\"dataframe\">\n",
       "  <thead>\n",
       "    <tr style=\"text-align: right;\">\n",
       "      <th></th>\n",
       "      <th>cmax</th>\n",
       "      <th>mol_wt</th>\n",
       "      <th>dailydose</th>\n",
       "      <th>logP</th>\n",
       "      <th>reactive_metabolites</th>\n",
       "    </tr>\n",
       "  </thead>\n",
       "  <tbody>\n",
       "    <tr>\n",
       "      <th>66</th>\n",
       "      <td>-0.224248</td>\n",
       "      <td>1.708272</td>\n",
       "      <td>-0.541564</td>\n",
       "      <td>-0.728675</td>\n",
       "      <td>1.017292</td>\n",
       "    </tr>\n",
       "    <tr>\n",
       "      <th>55</th>\n",
       "      <td>-0.403543</td>\n",
       "      <td>-1.344926</td>\n",
       "      <td>-0.076238</td>\n",
       "      <td>-1.437584</td>\n",
       "      <td>1.017292</td>\n",
       "    </tr>\n",
       "    <tr>\n",
       "      <th>67</th>\n",
       "      <td>-0.403591</td>\n",
       "      <td>-0.340526</td>\n",
       "      <td>-0.628813</td>\n",
       "      <td>0.662220</td>\n",
       "      <td>1.017292</td>\n",
       "    </tr>\n",
       "    <tr>\n",
       "      <th>77</th>\n",
       "      <td>-0.403564</td>\n",
       "      <td>0.676282</td>\n",
       "      <td>-0.657431</td>\n",
       "      <td>-2.119571</td>\n",
       "      <td>-0.983002</td>\n",
       "    </tr>\n",
       "    <tr>\n",
       "      <th>121</th>\n",
       "      <td>-0.340790</td>\n",
       "      <td>-0.748993</td>\n",
       "      <td>-0.425233</td>\n",
       "      <td>-1.208759</td>\n",
       "      <td>1.017292</td>\n",
       "    </tr>\n",
       "  </tbody>\n",
       "</table>\n",
       "</div>"
      ],
      "text/plain": [
       "         cmax    mol_wt  dailydose      logP  reactive_metabolites\n",
       "66  -0.224248  1.708272  -0.541564 -0.728675              1.017292\n",
       "55  -0.403543 -1.344926  -0.076238 -1.437584              1.017292\n",
       "67  -0.403591 -0.340526  -0.628813  0.662220              1.017292\n",
       "77  -0.403564  0.676282  -0.657431 -2.119571             -0.983002\n",
       "121 -0.340790 -0.748993  -0.425233 -1.208759              1.017292"
      ]
     },
     "execution_count": 25,
     "metadata": {},
     "output_type": "execute_result"
    },
    {
     "data": {
      "text/html": [
       "<div>\n",
       "<style scoped>\n",
       "    .dataframe tbody tr th:only-of-type {\n",
       "        vertical-align: middle;\n",
       "    }\n",
       "\n",
       "    .dataframe tbody tr th {\n",
       "        vertical-align: top;\n",
       "    }\n",
       "\n",
       "    .dataframe thead th {\n",
       "        text-align: right;\n",
       "    }\n",
       "</style>\n",
       "<table border=\"1\" class=\"dataframe\">\n",
       "  <thead>\n",
       "    <tr style=\"text-align: right;\">\n",
       "      <th></th>\n",
       "      <th>cmax</th>\n",
       "      <th>mol_wt</th>\n",
       "      <th>dailydose</th>\n",
       "      <th>logP</th>\n",
       "      <th>reactive_metabolites</th>\n",
       "    </tr>\n",
       "  </thead>\n",
       "  <tbody>\n",
       "    <tr>\n",
       "      <th>0</th>\n",
       "      <td>-0.246513</td>\n",
       "      <td>-0.411151</td>\n",
       "      <td>0.040093</td>\n",
       "      <td>-0.459470</td>\n",
       "      <td>1.017292</td>\n",
       "    </tr>\n",
       "    <tr>\n",
       "      <th>1</th>\n",
       "      <td>0.997393</td>\n",
       "      <td>-1.359063</td>\n",
       "      <td>2.832049</td>\n",
       "      <td>-0.791490</td>\n",
       "      <td>1.017292</td>\n",
       "    </tr>\n",
       "    <tr>\n",
       "      <th>2</th>\n",
       "      <td>-0.390792</td>\n",
       "      <td>-0.129961</td>\n",
       "      <td>-0.617180</td>\n",
       "      <td>1.873645</td>\n",
       "      <td>-0.983002</td>\n",
       "    </tr>\n",
       "    <tr>\n",
       "      <th>3</th>\n",
       "      <td>-0.394776</td>\n",
       "      <td>-0.558426</td>\n",
       "      <td>-0.192570</td>\n",
       "      <td>0.213544</td>\n",
       "      <td>1.017292</td>\n",
       "    </tr>\n",
       "    <tr>\n",
       "      <th>4</th>\n",
       "      <td>5.952769</td>\n",
       "      <td>-0.829645</td>\n",
       "      <td>0.796248</td>\n",
       "      <td>0.294306</td>\n",
       "      <td>1.017292</td>\n",
       "    </tr>\n",
       "  </tbody>\n",
       "</table>\n",
       "</div>"
      ],
      "text/plain": [
       "       cmax    mol_wt  dailydose      logP  reactive_metabolites\n",
       "0 -0.246513 -0.411151   0.040093 -0.459470              1.017292\n",
       "1  0.997393 -1.359063   2.832049 -0.791490              1.017292\n",
       "2 -0.390792 -0.129961  -0.617180  1.873645             -0.983002\n",
       "3 -0.394776 -0.558426  -0.192570  0.213544              1.017292\n",
       "4  5.952769 -0.829645   0.796248  0.294306              1.017292"
      ]
     },
     "execution_count": 25,
     "metadata": {},
     "output_type": "execute_result"
    }
   ],
   "source": [
    "train_mcx.head()\n",
    "x_mc.head()"
   ]
  },
  {
   "cell_type": "markdown",
   "metadata": {},
   "source": [
    "### Naive Bayes - initial model"
   ]
  },
  {
   "cell_type": "code",
   "execution_count": 26,
   "metadata": {},
   "outputs": [],
   "source": [
    "# Instantiate and Fit\n",
    "from sklearn.naive_bayes import GaussianNB, BernoulliNB, MultinomialNB #note - I will only use GaussianNB as each of the features is assumed to be normally distributed (and scaled based on this)\n",
    "# for a discussion on each of the NB options, check out this article: https://blog.sicara.com/naive-bayes-classifier-sklearn-python-example-tips-42d100429e44\n",
    "\n",
    "nb_mc = GaussianNB() \n",
    "nb_tc = GaussianNB()\n",
    "nb_mctc = GaussianNB()\n",
    "\n",
    "#nb_mc?"
   ]
  },
  {
   "cell_type": "markdown",
   "metadata": {},
   "source": [
    "#### Performance of models using 3-fold cross-validation"
   ]
  },
  {
   "cell_type": "code",
   "execution_count": 27,
   "metadata": {},
   "outputs": [
    {
     "name": "stdout",
     "output_type": "stream",
     "text": [
      "Accuracy: 3-fold cross validation scores with naive bayes using mc (Chen M et al., 2016 Hepatol) variables\n",
      "[0.59322034 0.74137931 0.70689655]\n",
      "Accuracy mean: 0.6804987336840055 Accuracy standard deviation: 0.06330036227755681\n",
      "\n",
      "Accuracy: 3-fold cross validation scores with naive bayes using tc (ToxCast targets/pathways) variables\n",
      "[0.57627119 0.68965517 0.62068966]\n",
      "Accuracy mean: 0.6288720046756283 Accuracy standard deviation: 0.046649010002588906\n",
      "\n",
      "Accuracy: 3-fold cross validation scores with naive bayes using combined mc and tc (Chen M et al, 2016 Hepatol and ToxCast) variables\n",
      "[0.54237288 0.67241379 0.5862069 ]\n",
      "Accuracy mean: 0.6003311903370349 Accuracy standard deviation: 0.05402025199393059\n"
     ]
    }
   ],
   "source": [
    "from sklearn.model_selection import cross_val_score\n",
    "\n",
    "nb_accuracy_scores_mc = cross_val_score(nb_mc, x_mc, y_mc, cv=3, scoring='accuracy')\n",
    "print(\"Accuracy: 3-fold cross validation scores with naive bayes using mc (Chen M et al., 2016 Hepatol) variables\")\n",
    "print(nb_accuracy_scores_mc)\n",
    "print(\"Accuracy mean: \" +str(nb_accuracy_scores_mc.mean()), \"Accuracy standard deviation: \" + str(nb_accuracy_scores_mc.std()))\n",
    "print(\"\")\n",
    "\n",
    "nb_accuracy_scores_tc = cross_val_score(nb_tc, x_tc, y_tc, cv=3, scoring='accuracy')\n",
    "print(\"Accuracy: 3-fold cross validation scores with naive bayes using tc (ToxCast targets/pathways) variables\")\n",
    "print(nb_accuracy_scores_tc)\n",
    "print(\"Accuracy mean: \" +str(nb_accuracy_scores_tc.mean()), \"Accuracy standard deviation: \" + str(nb_accuracy_scores_tc.std()))\n",
    "print(\"\")\n",
    "\n",
    "nb_accuracy_scores_mctc = cross_val_score(nb_mctc, x_mc_tc, y_mc_tc, cv=3, scoring='accuracy')\n",
    "print(\"Accuracy: 3-fold cross validation scores with naive bayes using combined mc and tc (Chen M et al, 2016 Hepatol and ToxCast) variables\")\n",
    "print(nb_accuracy_scores_mctc)\n",
    "print(\"Accuracy mean: \" +str(nb_accuracy_scores_mctc.mean()), \"Accuracy standard deviation: \" + str(nb_accuracy_scores_mctc.std()))"
   ]
  },
  {
   "cell_type": "markdown",
   "metadata": {},
   "source": [
    "#### Fit NB models using test-train split"
   ]
  },
  {
   "cell_type": "code",
   "execution_count": 28,
   "metadata": {},
   "outputs": [],
   "source": [
    "nb_mc = nb_mc.fit(train_mcx, train_mcy)\n",
    "nb_tc = nb_tc.fit(train_tcx, train_tcy)\n",
    "nb_mctc = nb_mctc.fit(train_mctcx, train_mctcy)"
   ]
  },
  {
   "cell_type": "markdown",
   "metadata": {},
   "source": [
    "#### Predict using models fitted on test-train splits"
   ]
  },
  {
   "cell_type": "code",
   "execution_count": 29,
   "metadata": {},
   "outputs": [],
   "source": [
    "### Using logistic regression model fitted using variables from Chen et al (mc), predict test values and probabilities  mc\n",
    "nb_pred_mcy=nb_mc.predict(test_mcx) \n",
    "nb_probs_mcy=nb_mc.predict_proba(test_mcx) \n",
    "\n",
    "### Using logistic regression model fitted using variables from ToxCast (tc), predict test values and probabilities  mc\n",
    "nb_pred_tcy=nb_tc.predict(test_tcx) \n",
    "nb_probs_tcy=nb_tc.predict_proba(test_tcx) \n",
    "\n",
    "\n",
    "### Using logistic regression model fitted using variables from Chen et al & ToxCast (mctc), predict test values and probabilities  mc\n",
    "nb_pred_mctcy=nb_mctc.predict(test_mctcx) \n",
    "nb_probs_mctcy=nb_mctc.predict_proba(test_mctcx) "
   ]
  },
  {
   "cell_type": "markdown",
   "metadata": {},
   "source": [
    "#### Performance metrics of models fitted on test-train splits"
   ]
  },
  {
   "cell_type": "code",
   "execution_count": 30,
   "metadata": {},
   "outputs": [
    {
     "data": {
      "image/png": "[encoded data removed]",
      "text/plain": [
       "<Figure size 1152x144 with 6 Axes>"
      ]
     },
     "metadata": {},
     "output_type": "display_data"
    }
   ],
   "source": [
    "### Confusion Matrix\n",
    "nb_cfm_mc=metrics.confusion_matrix(test_mcy, nb_pred_mcy)\n",
    "nb_cfm_tc=metrics.confusion_matrix(test_tcy, nb_pred_tcy)\n",
    "nb_cfm_mctc=metrics.confusion_matrix(test_mctcy, nb_pred_mctcy)\n",
    "\n",
    "fig, (ax1, ax2, ax3) = plt.subplots(1,3, figsize=(16,2))\n",
    "\n",
    "lbl1=[\"Predicted 0\", \"Predicted 1\"]\n",
    "lbl2=[\"Actual 0\", \"Actual 1\"]\n",
    "\n",
    "sns.heatmap(nb_cfm_mc, annot=True, cmap=\"Blues\", fmt=\"d\", xticklabels=lbl1, yticklabels=lbl2, ax=ax1)\n",
    "sns.heatmap(nb_cfm_tc, annot=True, cmap=\"Blues\", fmt=\"d\", xticklabels=lbl1, yticklabels=lbl2, ax=ax2)\n",
    "sns.heatmap(nb_cfm_mctc, annot=True, cmap=\"Blues\", fmt=\"d\", xticklabels=lbl1, yticklabels=lbl2, ax=ax3)\n",
    "\n",
    "\n",
    "fig.suptitle(\"Confusion matrices for lnn model with mc variables alone (left), tc variables alone (middle), or mc and tc variables combined(right)\", y=1.1);"
   ]
  },
  {
   "cell_type": "code",
   "execution_count": 31,
   "metadata": {},
   "outputs": [
    {
     "name": "stdout",
     "output_type": "stream",
     "text": [
      "precision_recall for model with mc variables alone\n",
      "             precision    recall  f1-score   support\n",
      "\n",
      "          0       0.70      1.00      0.82        46\n",
      "          1       1.00      0.17      0.29        24\n",
      "\n",
      "avg / total       0.80      0.71      0.64        70\n",
      "\n",
      "precision_recall for model with tc variables alone\n",
      "             precision    recall  f1-score   support\n",
      "\n",
      "          0       0.69      0.80      0.74        46\n",
      "          1       0.44      0.29      0.35        24\n",
      "\n",
      "avg / total       0.60      0.63      0.61        70\n",
      "\n",
      "precision_recall for model with mc&tc variables combined\n",
      "             precision    recall  f1-score   support\n",
      "\n",
      "          0       0.70      0.83      0.76        46\n",
      "          1       0.50      0.33      0.40        24\n",
      "\n",
      "avg / total       0.63      0.66      0.64        70\n",
      "\n"
     ]
    }
   ],
   "source": [
    "### Precision, Recall\n",
    "nb_cr_mc=metrics.classification_report(test_mcy, nb_pred_mcy)\n",
    "nb_cr_tc=metrics.classification_report(test_tcy, nb_pred_tcy)\n",
    "nb_cr_mctc=metrics.classification_report(test_mctcy, nb_pred_mctcy)\n",
    "print(\"precision_recall for model with mc variables alone\")\n",
    "print(nb_cr_mc)\n",
    "print(\"precision_recall for model with tc variables alone\")\n",
    "print(nb_cr_tc)\n",
    "print(\"precision_recall for model with mc&tc variables combined\")\n",
    "print(nb_cr_mctc)"
   ]
  },
  {
   "cell_type": "code",
   "execution_count": 32,
   "metadata": {},
   "outputs": [],
   "source": [
    "#calculate values to populate ROC curve\n",
    "from sklearn.metrics import roc_curve\n",
    "\n",
    "nb_fpr_mc,nb_tpr_mc, nb_thresholds_mc=roc_curve(test_mcy, nb_probs_mcy[:, 1])\n",
    "nb_roc_auc_mc=metrics.auc(nb_fpr_mc, nb_tpr_mc)\n",
    "\n",
    "nb_fpr_tc,nb_tpr_tc, nb_thresholds_tc=roc_curve(test_tcy, nb_probs_tcy[:, 1])\n",
    "nb_roc_auc_tc=metrics.auc(nb_fpr_tc, nb_tpr_tc)\n",
    "\n",
    "nb_fpr_mctc,nb_tpr_mctc, nb_thresholds_mctc=roc_curve(test_mctcy, nb_probs_mctcy[:, 1])\n",
    "nb_roc_auc_mctc=metrics.auc(nb_fpr_mctc, nb_tpr_mctc)\n",
    "\n",
    "#Calculate values to populate precision-recall curve\n",
    "from sklearn.metrics import precision_recall_curve\n",
    "\n",
    "nb_precision_mc, nb_recall_mc, nb_thresholds_mc = precision_recall_curve(test_mcy, nb_probs_mcy[:, 1]) #retrieve probability of being 1(in second column of probs_y)\n",
    "nb_pr_auc_mc = metrics.auc(nb_recall_mc, nb_precision_mc)\n",
    "\n",
    "nb_precision_tc, nb_recall_tc, nb_thresholds_tc = precision_recall_curve(test_tcy, nb_probs_tcy[:, 1]) #retrieve probability of being 1(in second column of probs_y)\n",
    "nb_pr_auc_tc = metrics.auc(nb_recall_tc, nb_precision_tc)\n",
    "\n",
    "nb_precision_mctc, nb_recall_mctc, nb_thresholds_mctc = precision_recall_curve(test_mctcy, nb_probs_mctcy[:, 1]) #retrieve probability of being 1(in second column of probs_y)\n",
    "nb_pr_auc_mctc = metrics.auc(nb_recall_mctc, nb_precision_mctc)\n"
   ]
  },
  {
   "cell_type": "code",
   "execution_count": 33,
   "metadata": {},
   "outputs": [
    {
     "data": {
      "image/png": "[encoded data removed]",
      "text/plain": [
       "<Figure size 1152x288 with 2 Axes>"
      ]
     },
     "metadata": {},
     "output_type": "display_data"
    }
   ],
   "source": [
    "fig = plt.figure()\n",
    "fig.set_figheight(4)\n",
    "fig.set_figwidth(16)\n",
    "\n",
    "axes = fig.add_subplot(121)\n",
    "\n",
    "plt.title(\"ROC chart\")\n",
    "plt.plot(nb_fpr_mc, nb_tpr_mc, 'r', label='nb_AUC_mc =%0.2f'% nb_roc_auc_mc)\n",
    "plt.plot(nb_fpr_tc, nb_tpr_tc, 'g', label='nb_AUC_tc =%0.2f'% nb_roc_auc_tc)\n",
    "plt.plot(nb_fpr_mctc, nb_tpr_mctc, 'b', label='nb_AUC_mctc =%0.2f'% nb_roc_auc_mctc)\n",
    "plt.legend(loc='lower right')\n",
    "plt.plot([0,1], [0,1], 'o--')\n",
    "plt.axis([0,1, 0,1])\n",
    "plt.ylabel(\"True Positive Rate\")\n",
    "plt.xlabel(\"False Positive Rate\")\n",
    "\n",
    "\n",
    "axes = fig.add_subplot(122)\n",
    "plt.title(\"Precision versus Recall chart\")\n",
    "plt.plot(nb_recall_mc, nb_precision_mc, \"r\", label = 'nb_pr_auc_mc=%.1f' % (nb_pr_auc_mc))\n",
    "plt.plot(nb_recall_tc, nb_precision_tc, \"g\", label = 'nb_pr_auc_tc=%.1f' % (nb_pr_auc_tc))\n",
    "plt.plot(nb_recall_mctc, nb_precision_mctc, \"b\", label = 'nb_pr_auc_mctc=%.1f' % (nb_pr_auc_mctc))\n",
    "plt.legend(loc='lower left')\n",
    "plt.ylabel(\"Precision\")\n",
    "plt.xlabel(\"Recall\")\n",
    "\n",
    "plt.show();"
   ]
  },
  {
   "cell_type": "code",
   "execution_count": 34,
   "metadata": {},
   "outputs": [
    {
     "data": {
      "image/png": "[encoded data removed]",
      "text/plain": [
       "<Figure size 1152x288 with 2 Axes>"
      ]
     },
     "metadata": {},
     "output_type": "display_data"
    }
   ],
   "source": [
    "fig = plt.figure()\n",
    "fig.set_figheight(4)\n",
    "fig.set_figwidth(16)\n",
    "\n",
    "axes = fig.add_subplot(121)\n",
    "\n",
    "plt.title(\"Precision-Recall vs Threshold Chart\")\n",
    "plt.plot(nb_thresholds_mc, nb_precision_mc[: -1], \"r--\", label=\"precision_mc\")\n",
    "plt.plot(nb_thresholds_mc, nb_recall_mc[: -1], \"b--\", label=\"recall_mc\")\n",
    "plt.ylabel(\"Precision, Recall\")\n",
    "plt.xlabel(\"Threshold\")\n",
    "plt.legend(loc=\"lower left\")\n",
    "plt.ylim([0,1])\n",
    "\n",
    "\n",
    "axes = fig.add_subplot(122)\n",
    "plt.title(\"Precision-Recall vs Threshold Chart\")\n",
    "plt.plot(nb_thresholds_mctc, nb_precision_mctc[: -1], \"r--\", label=\"precision_mctc\")\n",
    "plt.plot(nb_thresholds_mctc, nb_recall_mctc[: -1], \"b--\", label=\"recall_mctc\")\n",
    "plt.ylabel(\"Precision, Recall\")\n",
    "plt.xlabel(\"Threshold\")\n",
    "plt.legend(loc=\"lower left\")\n",
    "plt.ylim([0,1])\n",
    "\n",
    "\n",
    "plt.show();"
   ]
  },
  {
   "cell_type": "code",
   "execution_count": 35,
   "metadata": {},
   "outputs": [],
   "source": [
    "#### Adjust probability thresholds manually to increase sensitivity (based on precision-recall vs threshold chart)"
   ]
  },
  {
   "cell_type": "code",
   "execution_count": 36,
   "metadata": {},
   "outputs": [
    {
     "ename": "NameError",
     "evalue": "name 'log' is not defined",
     "output_type": "error",
     "traceback": [
      "\u001b[1;31m---------------------------------------------------------------------------\u001b[0m",
      "\u001b[1;31mNameError\u001b[0m                                 Traceback (most recent call last)",
      "\u001b[1;32m<ipython-input-36-fdfa067faeed>\u001b[0m in \u001b[0;36m<module>\u001b[1;34m()\u001b[0m\n\u001b[0;32m      1\u001b[0m \u001b[1;31m#Adjust threshold to 0.3 (point where precision-recall cruves intersect in Precision-Recall vs Threshold chart above)\u001b[0m\u001b[1;33m\u001b[0m\u001b[1;33m\u001b[0m\u001b[0m\n\u001b[1;32m----> 2\u001b[1;33m \u001b[0mpred_y_thresh_mod1\u001b[0m\u001b[1;33m=\u001b[0m\u001b[1;33m(\u001b[0m\u001b[0mlog\u001b[0m\u001b[1;33m.\u001b[0m\u001b[0mpredict_proba\u001b[0m\u001b[1;33m(\u001b[0m\u001b[0mtest_x\u001b[0m\u001b[1;33m)\u001b[0m \u001b[1;33m[\u001b[0m\u001b[1;33m:\u001b[0m\u001b[1;33m,\u001b[0m \u001b[1;36m1\u001b[0m\u001b[1;33m]\u001b[0m\u001b[1;33m>=\u001b[0m\u001b[1;36m0.3\u001b[0m\u001b[1;33m)\u001b[0m\u001b[1;33m.\u001b[0m\u001b[0mastype\u001b[0m\u001b[1;33m(\u001b[0m\u001b[0mbool\u001b[0m\u001b[1;33m)\u001b[0m\u001b[1;33m\u001b[0m\u001b[0m\n\u001b[0m\u001b[0;32m      3\u001b[0m \u001b[1;33m\u001b[0m\u001b[0m\n\u001b[0;32m      4\u001b[0m \u001b[1;31m#Adjust threshold to 0.2\u001b[0m\u001b[1;33m\u001b[0m\u001b[1;33m\u001b[0m\u001b[0m\n\u001b[0;32m      5\u001b[0m \u001b[0mpred_y_thresh_mod2\u001b[0m\u001b[1;33m=\u001b[0m\u001b[1;33m(\u001b[0m\u001b[0mnb\u001b[0m\u001b[1;33m.\u001b[0m\u001b[0mpredict_proba\u001b[0m\u001b[1;33m(\u001b[0m\u001b[0mtest_mcxx\u001b[0m\u001b[1;33m)\u001b[0m \u001b[1;33m[\u001b[0m\u001b[1;33m:\u001b[0m\u001b[1;33m,\u001b[0m \u001b[1;36m1\u001b[0m\u001b[1;33m]\u001b[0m\u001b[1;33m>=\u001b[0m\u001b[1;36m0.\u001b[0m\u001b[1;33m)\u001b[0m\u001b[1;33m.\u001b[0m\u001b[0mastype\u001b[0m\u001b[1;33m(\u001b[0m\u001b[0mbool\u001b[0m\u001b[1;33m)\u001b[0m\u001b[1;33m\u001b[0m\u001b[0m\n",
      "\u001b[1;31mNameError\u001b[0m: name 'log' is not defined"
     ]
    }
   ],
   "source": [
    "#Adjust threshold to 0.3 (point where precision-recall cruves intersect in Precision-Recall vs Threshold chart above)\n",
    "pred_y_thresh_mod1=(log.predict_proba(test_x) [:, 1]>=0.3).astype(bool)\n",
    "\n",
    "#Adjust threshold to 0.2 \n",
    "pred_y_thresh_mod2=(nb.predict_proba(test_mcxx) [:, 1]>=0.).astype(bool)\n",
    "\n",
    "fpr,tpr, thresholds=roc_curve(test_y, pred_y)\n",
    "roc_auc=metrics.auc(fpr, tpr)\n",
    "\n",
    "fp,tp, thr=roc_curve(test_y, pred_y_thresh_mod1)\n",
    "roc_auc_thresh_mod1=metrics.auc(fp, tp)\n",
    "\n",
    "f, t, th=roc_curve(test_y, pred_y_thresh_mod2)\n",
    "roc_auc_thresh_mod2=metrics.auc(f,t)\n",
    "\n",
    "fig = plt.figure()\n",
    "fig.set_figheight(3)\n",
    "fig.set_figwidth(5)\n",
    "\n",
    "plt.title(\"ROC chart\\nlogistic regression w/ different thresholds\")\n",
    "plt.plot(fpr, tpr, 'b', label='(threshold@0.5) AUC=%0.2f'% roc_auc)\n",
    "plt.plot(fp, tp, 'r', label ='(threshold@0.3) AUC=%0.2f'% roc_auc_thresh_mod1)\n",
    "plt.plot(f, t, 'g', label ='(threshold@0.2) AUC=%0.2f'% roc_auc_thresh_mod2)\n",
    "plt.legend(loc='lower right')\n",
    "plt.plot([0,1], [0,1], 'o--')\n",
    "plt.axis([0,1, 0,1])\n",
    "plt.ylabel(\"True Positive Rate\")\n",
    "plt.xlabel(\"False Positive Rate\")\n",
    "\n",
    "plt.show();\n"
   ]
  },
  {
   "cell_type": "markdown",
   "metadata": {},
   "source": [
    "**Conclusion:** Relative to logistic regression (see separate notebook for results from logistic regression), Naive Bayes performs worse y a/c metrics using either <br>\n",
    "a) current predictors alone in FDA model (Chen M et al., 2016 Hepatol) or<br> \n",
    "b) ToxCast predictors alone or <br>\n",
    "c) both sets of predictors combined<br>\n",
    "\n",
    "Tweaking of Naive Bayes thresholds will not substantially increase precision/recall either.\n",
    "\n",
    "Thus, Naive Bayes is not a useful option for modeling of mostDILI drugs - regardless of dataset/predictors used in this study.\n"
   ]
  },
  {
   "cell_type": "code",
   "execution_count": null,
   "metadata": {},
   "outputs": [],
   "source": []
  }
 ],
 "metadata": {
  "kernelspec": {
   "display_name": "Python 3",
   "language": "python",
   "name": "python3"
  },
  "language_info": {
   "codemirror_mode": {
    "name": "ipython",
    "version": 3
   },
   "file_extension": ".py",
   "mimetype": "text/x-python",
   "name": "python",
   "nbconvert_exporter": "python",
   "pygments_lexer": "ipython3",
   "version": "3.6.4"
  }
 },
 "nbformat": 4,
 "nbformat_minor": 2
}
