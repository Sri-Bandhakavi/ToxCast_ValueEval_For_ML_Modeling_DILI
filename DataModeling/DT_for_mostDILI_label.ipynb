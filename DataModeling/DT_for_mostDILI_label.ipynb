{
 "cells": [
  {
   "cell_type": "markdown",
   "metadata": {},
   "source": [
    "### Aim:\n",
    "In this notebook, decision tree algorithm (without adjustment for class weights/balancing) will be used to evaluate what additive effect (if any) ToxCast targets provide for predicting mostDILI drugs - when compared to existing predictors currently used in the field (eg: Chen M et al., 2016 Hepatol, Shah F et al., 2015 Toxicol Sci). \n",
    "\n",
    "As before, same test/train data is used for this modeling to allow for comparison of model performance against alternative algorithms employed in separate notebooks."
   ]
  },
  {
   "cell_type": "code",
   "execution_count": 20,
   "metadata": {},
   "outputs": [],
   "source": [
    "import pandas as pd\n",
    "import numpy as np\n",
    "import seaborn as sns\n",
    "\n",
    "from matplotlib import pyplot as plt\n",
    "plt.style.use('seaborn') \n",
    "\n",
    "%matplotlib inline\n",
    "\n",
    "import pandas_profiling"
   ]
  },
  {
   "cell_type": "code",
   "execution_count": 21,
   "metadata": {},
   "outputs": [],
   "source": [
    "#magic command to print all output instead of only last line\n",
    "from IPython.core.interactiveshell import InteractiveShell\n",
    "InteractiveShell.ast_node_interactivity = \"all\""
   ]
  },
  {
   "cell_type": "markdown",
   "metadata": {},
   "source": [
    "### Read-in datasets, prepare data for ML\n",
    "All datasets have been previously treated for missing values and dummy coding of categorical variables(reactive_metabolites, classificn, and ~216 toxcast targets). Output/target/Y variable for modeling purposes is \"classificn\" (1=\"mostDILI\", 0 = \"other\" which includes lessDILI/ambiDILI/noDILI). \n",
    "In this notebook, same datasets previosuly used for logistic regression modeling will be imported. No EDA will be performed as the datasetts are identical to those previously used and EDA has already been done within the notebook using logistic regression as initial model.\n",
    "Data once imported will be transformed into feature dataset (\"X\") and label dataset (\"Y\") and further split using stratified sampling with call to test train split function. For allowing to compare results from logistic regression, same random state will be used as before."
   ]
  },
  {
   "cell_type": "code",
   "execution_count": 22,
   "metadata": {},
   "outputs": [],
   "source": [
    "mc = pd.read_csv(\"mc_scaled_labeled.csv\")\n",
    "tc = pd.read_csv(\"tc_pca_labeled.csv\")\n",
    "mc_tc=pd.read_csv(\"mctc_pca_labeled.csv\")"
   ]
  },
  {
   "cell_type": "code",
   "execution_count": 23,
   "metadata": {},
   "outputs": [],
   "source": [
    "#Create \"x\" consisting of all independent variables from each of the dataframes (mc, tc, mc_tc) to be used for modeling\n",
    "\n",
    "mc_num=mc.select_dtypes(include=[np.number])\n",
    "x_mc=mc_num.drop([\"classificn\"], axis=1)\n",
    "\n",
    "tc_num=tc.select_dtypes(include=[np.number])\n",
    "x_tc=tc_num.drop([\"classificn\"], axis=1)\n",
    "\n",
    "mc_tc_num=mc_tc.select_dtypes(include=[np.number])\n",
    "x_mc_tc=mc_tc_num.drop([\"classificn\"], axis=1)"
   ]
  },
  {
   "cell_type": "code",
   "execution_count": 24,
   "metadata": {},
   "outputs": [
    {
     "data": {
      "text/plain": [
       "True"
      ]
     },
     "execution_count": 24,
     "metadata": {},
     "output_type": "execute_result"
    },
    {
     "data": {
      "text/plain": [
       "True"
      ]
     },
     "execution_count": 24,
     "metadata": {},
     "output_type": "execute_result"
    },
    {
     "data": {
      "text/plain": [
       "True"
      ]
     },
     "execution_count": 24,
     "metadata": {},
     "output_type": "execute_result"
    },
    {
     "data": {
      "text/plain": [
       "0    115\n",
       "1     60\n",
       "Name: classificn, dtype: int64"
      ]
     },
     "execution_count": 24,
     "metadata": {},
     "output_type": "execute_result"
    }
   ],
   "source": [
    "#create \"y\" consisting of outcome/target variable from each of the dataframes (mc, tc, mc_tc) to be used for modeling\n",
    "\n",
    "y_mc=mc_num[\"classificn\"] \n",
    "y_tc=tc_num[\"classificn\"]\n",
    "y_mc_tc=mc_tc_num[\"classificn\"]\n",
    "\n",
    "#check to make sure all datasets are equivalent for classification column\n",
    "y_mc.equals(y_tc)\n",
    "y_mc.equals(y_mc_tc)\n",
    "y_tc.equals(y_mc_tc)\n",
    "\n",
    "#breakdown of mostDILI drugs vs other drugs\n",
    "y_mc.value_counts()#60 drugs are labeled as \"mostDILI\" and 115 drugs as \"other\""
   ]
  },
  {
   "cell_type": "code",
   "execution_count": 73,
   "metadata": {},
   "outputs": [
    {
     "data": {
      "text/plain": [
       "True"
      ]
     },
     "execution_count": 73,
     "metadata": {},
     "output_type": "execute_result"
    },
    {
     "data": {
      "text/plain": [
       "True"
      ]
     },
     "execution_count": 73,
     "metadata": {},
     "output_type": "execute_result"
    },
    {
     "data": {
      "text/plain": [
       "0    69\n",
       "1    36\n",
       "Name: classificn, dtype: int64"
      ]
     },
     "execution_count": 73,
     "metadata": {},
     "output_type": "execute_result"
    },
    {
     "data": {
      "text/plain": [
       "0    46\n",
       "1    24\n",
       "Name: classificn, dtype: int64"
      ]
     },
     "execution_count": 73,
     "metadata": {},
     "output_type": "execute_result"
    }
   ],
   "source": [
    "import sklearn\n",
    "from sklearn.model_selection import train_test_split\n",
    "from sklearn import metrics\n",
    "\n",
    "## test train stratified split at 40:60 ratio (maintains ratio of mostDILI drugs:other drugs)\n",
    "# allows for testing on 24 \"mostDILI\" and training on 36 \"mostDILI\" drugs\n",
    "train_mcx, test_mcx, train_mcy, test_mcy = train_test_split(x_mc,y_mc, stratify=y_mc, test_size=0.4, random_state=45)\n",
    "\n",
    "train_tcx, test_tcx, train_tcy, test_tcy = train_test_split(x_tc,y_tc, stratify=y_tc, test_size=0.4, random_state=45)\n",
    "\n",
    "train_mctcx, test_mctcx, train_mctcy, test_mctcy = train_test_split(x_mc_tc,y_mc_tc, stratify=y_mc_tc, test_size=0.4, random_state=45)\n",
    "\n",
    "#confirm that test datasets are same across all splits\n",
    "test_mctcy.equals(test_tcy)\n",
    "test_mcy.equals(test_tcy)\n",
    "\n",
    "#train data distribution of 1's vs 0's\n",
    "train_mcy.value_counts()\n",
    "test_mcy.value_counts()"
   ]
  },
  {
   "cell_type": "markdown",
   "metadata": {},
   "source": [
    "### Decision Tree - initial model"
   ]
  },
  {
   "cell_type": "code",
   "execution_count": 26,
   "metadata": {},
   "outputs": [],
   "source": [
    "from sklearn import tree\n",
    "from sklearn.tree import DecisionTreeClassifier\n",
    "\n",
    "#Instantiate and fit\n",
    "dt_mc = tree.DecisionTreeClassifier(criterion=\"gini\", max_depth=2)\n",
    "dt_tc = tree.DecisionTreeClassifier(criterion=\"gini\", max_depth=2)\n",
    "dt_mctc = tree.DecisionTreeClassifier(criterion=\"gini\", max_depth=2)\n"
   ]
  },
  {
   "cell_type": "code",
   "execution_count": 59,
   "metadata": {},
   "outputs": [
    {
     "data": {
      "text/plain": [
       "DecisionTreeClassifier(class_weight=None, criterion='gini', max_depth=2,\n",
       "            max_features=None, max_leaf_nodes=None,\n",
       "            min_impurity_decrease=0.0, min_impurity_split=None,\n",
       "            min_samples_leaf=1, min_samples_split=2,\n",
       "            min_weight_fraction_leaf=0.0, presort=False, random_state=None,\n",
       "            splitter='best')"
      ]
     },
     "execution_count": 59,
     "metadata": {},
     "output_type": "execute_result"
    },
    {
     "data": {
      "text/plain": [
       "DecisionTreeClassifier(class_weight=None, criterion='gini', max_depth=2,\n",
       "            max_features=None, max_leaf_nodes=None,\n",
       "            min_impurity_decrease=0.0, min_impurity_split=None,\n",
       "            min_samples_leaf=1, min_samples_split=2,\n",
       "            min_weight_fraction_leaf=0.0, presort=False, random_state=None,\n",
       "            splitter='best')"
      ]
     },
     "execution_count": 59,
     "metadata": {},
     "output_type": "execute_result"
    },
    {
     "data": {
      "text/plain": [
       "DecisionTreeClassifier(class_weight=None, criterion='gini', max_depth=2,\n",
       "            max_features=None, max_leaf_nodes=None,\n",
       "            min_impurity_decrease=0.0, min_impurity_split=None,\n",
       "            min_samples_leaf=1, min_samples_split=2,\n",
       "            min_weight_fraction_leaf=0.0, presort=False, random_state=None,\n",
       "            splitter='best')"
      ]
     },
     "execution_count": 59,
     "metadata": {},
     "output_type": "execute_result"
    }
   ],
   "source": [
    "dt_mc.fit(train_mcx, train_mcy)\n",
    "dt_tc.fit(train_tcx, train_tcy)\n",
    "dt_mctc.fit(train_mctcx, train_mctcy)"
   ]
  },
  {
   "cell_type": "markdown",
   "metadata": {},
   "source": [
    "#### Decision tree - hyperparameter tuning/model refinement via grid search"
   ]
  },
  {
   "cell_type": "code",
   "execution_count": 42,
   "metadata": {},
   "outputs": [],
   "source": [
    "# Parameters to tune model on\n",
    "\n",
    "max_depth = [2, 3, 4, 5,6, 7, 8,9, 10, 15] \n",
    "criterion = ['gini', 'entropy']\n",
    "min_samples_split = [np.linspace(0.1, 1.0, 10, endpoint=True)]\n",
    "min_samples_leaf = [np.linspace(0.1, 0.5, 5, endpoint=True)]"
   ]
  },
  {
   "cell_type": "code",
   "execution_count": 63,
   "metadata": {},
   "outputs": [],
   "source": [
    "# Importing GridSearch\n",
    "\n",
    "from sklearn.grid_search import GridSearchCV\n",
    "\n",
    "\n",
    "grid_mc = GridSearchCV(estimator = dt_mc, cv=3, scoring='roc_auc',n_jobs=-1,\n",
    "                       param_grid={'max_depth' : [2,3,4,5,6,7,8,9,10],'criterion': ['gini', 'entropy'],\n",
    "                                  'min_samples_split':[0.1,0.4,0.6,0.8, 1.0]})\n",
    "\n",
    "grid_tc = GridSearchCV(estimator = dt_tc, cv=3, scoring='roc_auc', n_jobs=-1,\n",
    "                    param_grid = {'max_depth' : [2,3,4,5,6,7,8,9,10],'criterion': ['gini', 'entropy'],\n",
    "                                  'min_samples_split':[0.1,0.4,0.6,0.8, 1.0]})\n",
    "\n",
    "grid_mctc = GridSearchCV(estimator = dt_mctc, cv=3, scoring='roc_auc', n_jobs=-1,\n",
    "                    param_grid = {'max_depth' : [2,3,4,5,6,7,8,9,10],'criterion': ['gini', 'entropy'],\n",
    "                                  'min_samples_split':[0.1,0.4,0.6,0.8, 1.0]})"
   ]
  },
  {
   "cell_type": "code",
   "execution_count": 64,
   "metadata": {},
   "outputs": [
    {
     "data": {
      "text/plain": [
       "GridSearchCV(cv=3, error_score='raise',\n",
       "       estimator=DecisionTreeClassifier(class_weight=None, criterion='gini', max_depth=2,\n",
       "            max_features=None, max_leaf_nodes=None,\n",
       "            min_impurity_decrease=0.0, min_impurity_split=None,\n",
       "            min_samples_leaf=1, min_samples_split=2,\n",
       "            min_weight_fraction_leaf=0.0, presort=False, random_state=None,\n",
       "            splitter='best'),\n",
       "       fit_params={}, iid=True, n_jobs=-1,\n",
       "       param_grid={'max_depth': [2, 3, 4, 5, 6, 7, 8, 9, 10], 'criterion': ['gini', 'entropy'], 'min_samples_split': [0.1, 0.4, 0.6, 0.8, 1.0]},\n",
       "       pre_dispatch='2*n_jobs', refit=True, scoring='roc_auc', verbose=0)"
      ]
     },
     "execution_count": 64,
     "metadata": {},
     "output_type": "execute_result"
    },
    {
     "data": {
      "text/plain": [
       "GridSearchCV(cv=3, error_score='raise',\n",
       "       estimator=DecisionTreeClassifier(class_weight=None, criterion='gini', max_depth=2,\n",
       "            max_features=None, max_leaf_nodes=None,\n",
       "            min_impurity_decrease=0.0, min_impurity_split=None,\n",
       "            min_samples_leaf=1, min_samples_split=2,\n",
       "            min_weight_fraction_leaf=0.0, presort=False, random_state=None,\n",
       "            splitter='best'),\n",
       "       fit_params={}, iid=True, n_jobs=-1,\n",
       "       param_grid={'max_depth': [2, 3, 4, 5, 6, 7, 8, 9, 10], 'criterion': ['gini', 'entropy'], 'min_samples_split': [0.1, 0.4, 0.6, 0.8, 1.0]},\n",
       "       pre_dispatch='2*n_jobs', refit=True, scoring='roc_auc', verbose=0)"
      ]
     },
     "execution_count": 64,
     "metadata": {},
     "output_type": "execute_result"
    },
    {
     "data": {
      "text/plain": [
       "GridSearchCV(cv=3, error_score='raise',\n",
       "       estimator=DecisionTreeClassifier(class_weight=None, criterion='gini', max_depth=2,\n",
       "            max_features=None, max_leaf_nodes=None,\n",
       "            min_impurity_decrease=0.0, min_impurity_split=None,\n",
       "            min_samples_leaf=1, min_samples_split=2,\n",
       "            min_weight_fraction_leaf=0.0, presort=False, random_state=None,\n",
       "            splitter='best'),\n",
       "       fit_params={}, iid=True, n_jobs=-1,\n",
       "       param_grid={'max_depth': [2, 3, 4, 5, 6, 7, 8, 9, 10], 'criterion': ['gini', 'entropy'], 'min_samples_split': [0.1, 0.4, 0.6, 0.8, 1.0]},\n",
       "       pre_dispatch='2*n_jobs', refit=True, scoring='roc_auc', verbose=0)"
      ]
     },
     "execution_count": 64,
     "metadata": {},
     "output_type": "execute_result"
    }
   ],
   "source": [
    "#\"fit\" grid search models (commented out to avoid re-implementation)\n",
    "grid_mc.fit(train_mcx,train_mcy)\n",
    "grid_tc.fit(train_tcx, train_tcy)\n",
    "grid_mctc.fit(train_mctcx, train_mctcy)"
   ]
  },
  {
   "cell_type": "code",
   "execution_count": 65,
   "metadata": {},
   "outputs": [
    {
     "name": "stdout",
     "output_type": "stream",
     "text": [
      "DT best params follow below - mc data \n"
     ]
    },
    {
     "data": {
      "text/plain": [
       "{'criterion': 'gini', 'max_depth': 5, 'min_samples_split': 0.1}"
      ]
     },
     "execution_count": 65,
     "metadata": {},
     "output_type": "execute_result"
    },
    {
     "name": "stdout",
     "output_type": "stream",
     "text": [
      "\n",
      "DT best params follow below - tc data \n"
     ]
    },
    {
     "data": {
      "text/plain": [
       "{'criterion': 'entropy', 'max_depth': 10, 'min_samples_split': 0.1}"
      ]
     },
     "execution_count": 65,
     "metadata": {},
     "output_type": "execute_result"
    },
    {
     "name": "stdout",
     "output_type": "stream",
     "text": [
      "\n",
      "DT best params follow below - mctc data \n"
     ]
    },
    {
     "data": {
      "text/plain": [
       "{'criterion': 'entropy', 'max_depth': 3, 'min_samples_split': 0.1}"
      ]
     },
     "execution_count": 65,
     "metadata": {},
     "output_type": "execute_result"
    },
    {
     "name": "stdout",
     "output_type": "stream",
     "text": [
      "\n"
     ]
    }
   ],
   "source": [
    "print(\"DT best params follow below - mc data \")\n",
    "grid_mc.best_params_\n",
    "print(\"\")\n",
    "\n",
    "print(\"DT best params follow below - tc data \")\n",
    "grid_tc.best_params_\n",
    "print(\"\")\n",
    "\n",
    "print(\"DT best params follow below - mctc data \")\n",
    "grid_mctc.best_params_\n",
    "print(\"\")"
   ]
  },
  {
   "cell_type": "markdown",
   "metadata": {},
   "source": [
    "### Optimized Decision Tree models"
   ]
  },
  {
   "cell_type": "code",
   "execution_count": 67,
   "metadata": {},
   "outputs": [],
   "source": [
    "#Instantiate decision tree models with optimal parameters\n",
    "dt_mc = tree.DecisionTreeClassifier(criterion=\"gini\", max_depth=5, min_samples_split=0.1)\n",
    "dt_tc = tree.DecisionTreeClassifier(criterion=\"entropy\", max_depth=10, min_samples_split=0.1)\n",
    "dt_mctc = tree.DecisionTreeClassifier(criterion=\"entropy\", max_depth=3, min_samples_split=0.1)"
   ]
  },
  {
   "cell_type": "code",
   "execution_count": null,
   "metadata": {},
   "outputs": [],
   "source": [
    "#Fit data to optimal model parameters \n",
    "dt_mc.fit(train_mcx, train_mcy)\n",
    "dt_tc.fit(train_tcx, train_tcy)\n",
    "dt_mctc.fit(train_mctcx, train_mctcy)"
   ]
  },
  {
   "cell_type": "code",
   "execution_count": 71,
   "metadata": {},
   "outputs": [],
   "source": [
    "#Predict classification labels based on optimal model parameters\n",
    "\n",
    "### Using decision tree model fitted using variables from Chen et al (mc), predict test values and probabilities  mc\n",
    "dt_pred_mcy=dt_mc.predict(test_mcx) \n",
    "dt_probs_mcy=dt_mc.predict_proba(test_mcx) \n",
    "\n",
    "### Using decision tree model fitted using variables from ToxCast (tc), predict test values and probabilities  mc\n",
    "dt_pred_tcy=dt_tc.predict(test_tcx) \n",
    "dt_probs_tcy=dt_tc.predict_proba(test_tcx) \n",
    "\n",
    "### Using decision tree model fitted using variables from Chen et al & ToxCast (mctc), predict test values and probabilities  mc\n",
    "dt_pred_mctcy=dt_mctc.predict(test_mctcx) \n",
    "dt_probs_mctcy=dt_mctc.predict_proba(test_mctcx)    "
   ]
  },
  {
   "cell_type": "markdown",
   "metadata": {},
   "source": [
    "#### Decision tree (optimized) model metrics for each dataset"
   ]
  },
  {
   "cell_type": "code",
   "execution_count": 69,
   "metadata": {},
   "outputs": [
    {
     "name": "stdout",
     "output_type": "stream",
     "text": [
      "Accuracy: 3-fold cross validation scores on decision tree model using mc (Chen M et al., 2016 Hepatol) variables\n",
      "[0.69491525 0.63793103 0.68965517]\n",
      "Accuracy mean: 0.67416715371128 Accuracy standard deviation: 0.025712634608368125\n",
      "\n",
      "Accuracy: 3-fold cross validation scores on decision tree model using tc (ToxCast targets/pathways) variables\n",
      "[0.62711864 0.5        0.56896552]\n",
      "Accuracy mean: 0.5653613871030587 Accuracy standard deviation: 0.05195850737495098\n",
      "\n",
      "Accuracy: 3-fold cross validation scores on decision tree model using combined mc and tc (Chen M et al, 2016 Hepatol and ToxCast) variables\n",
      "[0.6440678  0.62068966 0.62068966]\n",
      "Accuracy mean: 0.628482368984999 Accuracy standard deviation: 0.011020561561450152\n"
     ]
    }
   ],
   "source": [
    "from sklearn.model_selection import cross_val_score\n",
    "\n",
    "dt_accuracy_scores_mc = cross_val_score(dt_mc, x_mc, y_mc, cv=3, scoring='accuracy')\n",
    "print(\"Accuracy: 3-fold cross validation scores on decision tree model using mc (Chen M et al., 2016 Hepatol) variables\")\n",
    "print(dt_accuracy_scores_mc)\n",
    "print(\"Accuracy mean: \" +str(dt_accuracy_scores_mc.mean()), \"Accuracy standard deviation: \" + str(dt_accuracy_scores_mc.std()))\n",
    "print(\"\")\n",
    "\n",
    "dt_accuracy_scores_tc = cross_val_score(dt_tc, x_tc, y_tc, cv=3, scoring='accuracy')\n",
    "print(\"Accuracy: 3-fold cross validation scores on decision tree model using tc (ToxCast targets/pathways) variables\")\n",
    "print(dt_accuracy_scores_tc)\n",
    "print(\"Accuracy mean: \" +str(dt_accuracy_scores_tc.mean()), \"Accuracy standard deviation: \" + str(dt_accuracy_scores_tc.std()))\n",
    "print(\"\")\n",
    "\n",
    "dt_accuracy_scores_mctc = cross_val_score(dt_mctc, x_mc_tc, y_mc_tc, cv=3, scoring='accuracy')\n",
    "print(\"Accuracy: 3-fold cross validation scores on decision tree model using combined mc and tc (Chen M et al, 2016 Hepatol and ToxCast) variables\")\n",
    "print(dt_accuracy_scores_mctc)\n",
    "print(\"Accuracy mean: \" +str(dt_accuracy_scores_mctc.mean()), \"Accuracy standard deviation: \" + str(dt_accuracy_scores_mctc.std()))"
   ]
  },
  {
   "cell_type": "code",
   "execution_count": 72,
   "metadata": {},
   "outputs": [
    {
     "data": {
      "image/png": "[encoded data removed]",
      "text/plain": [
       "<Figure size 1152x144 with 6 Axes>"
      ]
     },
     "metadata": {},
     "output_type": "display_data"
    }
   ],
   "source": [
    "### Confusion Matrix\n",
    "dt_cfm_mc=metrics.confusion_matrix(test_mcy, dt_pred_mcy)\n",
    "dt_cfm_tc=metrics.confusion_matrix(test_tcy, dt_pred_tcy)\n",
    "dt_cfm_mctc=metrics.confusion_matrix(test_mctcy, dt_pred_mctcy)\n",
    "\n",
    "fig, (ax1, ax2, ax3) = plt.subplots(1,3, figsize=(16,2))\n",
    "\n",
    "lbl1=[\"Predicted 0\", \"Predicted 1\"]\n",
    "lbl2=[\"Actual 0\", \"Actual 1\"]\n",
    "\n",
    "sns.heatmap(dt_cfm_mc, annot=True, cmap=\"Blues\", fmt=\"d\", xticklabels=lbl1, yticklabels=lbl2, ax=ax1)\n",
    "sns.heatmap(dt_cfm_tc, annot=True, cmap=\"Blues\", fmt=\"d\", xticklabels=lbl1, yticklabels=lbl2, ax=ax2)\n",
    "sns.heatmap(dt_cfm_mctc, annot=True, cmap=\"Blues\", fmt=\"d\", xticklabels=lbl1, yticklabels=lbl2, ax=ax3)\n",
    "\n",
    "\n",
    "fig.suptitle(\"Confusion matrices for decision tree model with mc variables alone (left), tc variables alone (middle), or mc and tc variables combined(right)\", y=1.1);"
   ]
  },
  {
   "cell_type": "code",
   "execution_count": 75,
   "metadata": {},
   "outputs": [
    {
     "name": "stdout",
     "output_type": "stream",
     "text": [
      "precision_recall for model with mc variables alone\n",
      "             precision    recall  f1-score   support\n",
      "\n",
      "          0       0.68      0.89      0.77        46\n",
      "          1       0.50      0.21      0.29        24\n",
      "\n",
      "avg / total       0.62      0.66      0.61        70\n",
      "\n",
      "precision_recall for model with tc variables alone\n",
      "             precision    recall  f1-score   support\n",
      "\n",
      "          0       0.71      0.74      0.72        46\n",
      "          1       0.45      0.42      0.43        24\n",
      "\n",
      "avg / total       0.62      0.63      0.62        70\n",
      "\n",
      "precision_recall for model with mc&tc variables combined\n",
      "             precision    recall  f1-score   support\n",
      "\n",
      "          0       0.72      0.93      0.81        46\n",
      "          1       0.70      0.29      0.41        24\n",
      "\n",
      "avg / total       0.71      0.71      0.67        70\n",
      "\n"
     ]
    }
   ],
   "source": [
    "### Precision, Recall\n",
    "dt_cr_mc=metrics.classification_report(test_mcy, dt_pred_mcy)\n",
    "dt_cr_tc=metrics.classification_report(test_tcy, dt_pred_tcy)\n",
    "dt_cr_mctc=metrics.classification_report(test_mctcy, dt_pred_mctcy)\n",
    "print(\"precision_recall for model with mc variables alone\")\n",
    "print(dt_cr_mc)\n",
    "print(\"precision_recall for model with tc variables alone\")\n",
    "print(dt_cr_tc)\n",
    "print(\"precision_recall for model with mc&tc variables combined\")\n",
    "print(dt_cr_mctc)"
   ]
  }
 ],
 "metadata": {
  "kernelspec": {
   "display_name": "Python 3",
   "language": "python",
   "name": "python3"
  },
  "language_info": {
   "codemirror_mode": {
    "name": "ipython",
    "version": 3
   },
   "file_extension": ".py",
   "mimetype": "text/x-python",
   "name": "python",
   "nbconvert_exporter": "python",
   "pygments_lexer": "ipython3",
   "version": "3.6.4"
  }
 },
 "nbformat": 4,
 "nbformat_minor": 2
}
